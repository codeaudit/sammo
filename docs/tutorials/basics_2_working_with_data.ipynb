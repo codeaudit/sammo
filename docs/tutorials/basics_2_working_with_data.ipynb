{
 "cells": [
  {
   "cell_type": "code",
   "execution_count": 1,
   "metadata": {
    "editable": true,
    "slideshow": {
     "slide_type": ""
    },
    "tags": [
     "remove-cell"
    ]
   },
   "outputs": [],
   "source": [
    "# Load from parent directory if not installed\n",
    "import importlib\n",
    "import os\n",
    "\n",
    "if not importlib.util.find_spec(\"sammo\"):\n",
    "    import sys\n",
    "\n",
    "    sys.path.append(\"../../\")\n",
    "os.environ[\"CACHE_FILE\"] = \"cache/working_with_data.tsv\""
   ]
  },
  {
   "cell_type": "markdown",
   "metadata": {
    "editable": true,
    "slideshow": {
     "slide_type": ""
    },
    "tags": []
   },
   "source": [
    "# Data & Templating\n",
    "\n",
    "SAMMO uses DataTables as a thin wrapper around lists of dictionaries. They also separate your data input from the desired or actual output.\n",
    "\n",
    "\n",
    "## Loading data\n",
    "First, let's download the implicatures dataset from BIGBENCH as an example:"
   ]
  },
  {
   "cell_type": "code",
   "execution_count": 2,
   "metadata": {
    "editable": true,
    "slideshow": {
     "slide_type": ""
    },
    "tags": []
   },
   "outputs": [],
   "source": [
    "import requests\n",
    "import json\n",
    "\n",
    "URL = \"https://github.com/google/BIG-bench/raw/main/bigbench/benchmark_tasks/implicatures/task.json\"\n",
    "\n",
    "task = json.loads(requests.get(URL).content)\n",
    "# convert label to single string\n",
    "for x in task[\"examples\"]:\n",
    "    x[\"output\"] = max(x[\"target_scores\"], key=x[\"target_scores\"].get)"
   ]
  },
  {
   "cell_type": "markdown",
   "metadata": {
    "editable": true,
    "slideshow": {
     "slide_type": ""
    },
    "tags": []
   },
   "source": [
    "With `DataTables`, there are two kinds of information: inputs and outputs. Inputs are treated as immutable while outputs are mutable. This protects against accidentally changing the starting data. To build the `DataTable`, we need to specify which fields should be used as inputs and which as outputs."
   ]
  },
  {
   "cell_type": "code",
   "execution_count": 3,
   "metadata": {
    "editable": true,
    "slideshow": {
     "slide_type": ""
    },
    "tags": []
   },
   "outputs": [
    {
     "data": {
      "text/plain": [
       "+-------------------------------------------------------------+----------+\n",
       "| input                                                       | output   |\n",
       "+=============================================================+==========+\n",
       "| Speaker 1: 'But aren't you afraid?' Speaker 2: 'Ma'am,      | no       |\n",
       "| sharks never attack anybody.'                               |          |\n",
       "+-------------------------------------------------------------+----------+\n",
       "| Speaker 1: 'Do you want to quit?' Speaker 2: 'I've never    | no       |\n",
       "| been the type of person who throws in the towel when things |          |\n",
       "| get tough.'                                                 |          |\n",
       "+-------------------------------------------------------------+----------+\n",
       "| Speaker 1: 'Should I convince these clients?' Speaker 2:    | yes      |\n",
       "| 'These are really important clients with deep pockets.'     |          |\n",
       "+-------------------------------------------------------------+----------+\n",
       "Constants: {'instructions': \"Does Speaker 2's answer mean yes or no? \"}"
      ]
     },
     "execution_count": 3,
     "metadata": {},
     "output_type": "execute_result"
    }
   ],
   "source": [
    "from sammo.data import DataTable\n",
    "\n",
    "mydata = DataTable.from_records(\n",
    "    task[\"examples\"],\n",
    "    input_fields=\"input\",\n",
    "    constants={\"instructions\": task[\"task_prefix\"]},\n",
    ")\n",
    "mydata[:3]"
   ]
  },
  {
   "cell_type": "markdown",
   "metadata": {
    "editable": true,
    "slideshow": {
     "slide_type": ""
    },
    "tags": []
   },
   "source": [
    "Much easier to read! We also added task instructions as a constant.\n",
    "\n",
    "There are other ways to construct `DataTables`, e.g., from a pandas DataFrame. "
   ]
  },
  {
   "cell_type": "code",
   "execution_count": 4,
   "metadata": {},
   "outputs": [
    {
     "data": {
      "text/plain": [
       "+-------------------------------------------------------------+----------+\n",
       "| input                                                       | output   |\n",
       "+=============================================================+==========+\n",
       "| Speaker 1: 'But aren't you afraid?' Speaker 2: 'Ma'am,      | no       |\n",
       "| sharks never attack anybody.'                               |          |\n",
       "+-------------------------------------------------------------+----------+\n",
       "| Speaker 1: 'Do you want to quit?' Speaker 2: 'I've never    | no       |\n",
       "| been the type of person who throws in the towel when things |          |\n",
       "| get tough.'                                                 |          |\n",
       "+-------------------------------------------------------------+----------+\n",
       "| Speaker 1: 'Should I convince these clients?' Speaker 2:    | yes      |\n",
       "| 'These are really important clients with deep pockets.'     |          |\n",
       "+-------------------------------------------------------------+----------+\n",
       "Constants: {'instructions': \"Does Speaker 2's answer mean yes or no? \"}"
      ]
     },
     "execution_count": 4,
     "metadata": {},
     "output_type": "execute_result"
    }
   ],
   "source": [
    "import pandas as pd\n",
    "\n",
    "df = pd.DataFrame(task[\"examples\"])\n",
    "mydata = DataTable.from_pandas(df, input_fields=\"input\", constants={\"instructions\": task[\"task_prefix\"]})\n",
    "mydata[:3]"
   ]
  },
  {
   "cell_type": "markdown",
   "metadata": {},
   "source": [
    "## Indexing"
   ]
  },
  {
   "cell_type": "markdown",
   "metadata": {},
   "source": [
    "Outputs can be assigned new values using the usual slicing syntax:"
   ]
  },
  {
   "cell_type": "code",
   "execution_count": 5,
   "metadata": {
    "editable": true,
    "slideshow": {
     "slide_type": ""
    },
    "tags": []
   },
   "outputs": [
    {
     "data": {
      "text/plain": [
       "['yes']"
      ]
     },
     "execution_count": 5,
     "metadata": {},
     "output_type": "execute_result"
    }
   ],
   "source": [
    "cloned = mydata.copy()\n",
    "cloned.outputs[:] = \"yes\"\n",
    "cloned.outputs.unique()"
   ]
  },
  {
   "cell_type": "markdown",
   "metadata": {},
   "source": [
    "If inputs are dictionaries, we can use the `.field()` function to access those."
   ]
  },
  {
   "cell_type": "code",
   "execution_count": 6,
   "metadata": {},
   "outputs": [
    {
     "name": "stdout",
     "output_type": "stream",
     "text": [
      "+----------------------+----------+\n",
      "| input                | output   |\n",
      "+======================+==========+\n",
      "| {'one': 1, 'two': 2} | None     |\n",
      "+----------------------+----------+\n",
      "Constants: None\n",
      "+---------+----------+\n",
      "| input   | output   |\n",
      "+=========+==========+\n",
      "| 1       | None     |\n",
      "+---------+----------+\n",
      "Constants: None\n"
     ]
    }
   ],
   "source": [
    "struc_dt = DataTable([{\"one\": 1, \"two\": 2}])\n",
    "print(struc_dt)\n",
    "print(struc_dt.inputs.field(\"one\"))"
   ]
  },
  {
   "cell_type": "markdown",
   "metadata": {
    "editable": true,
    "slideshow": {
     "slide_type": ""
    },
    "tags": []
   },
   "source": [
    "We can also individually query inputs and outputs, for example when we want only positive instances."
   ]
  },
  {
   "cell_type": "code",
   "execution_count": 7,
   "metadata": {
    "editable": true,
    "slideshow": {
     "slide_type": ""
    },
    "tags": []
   },
   "outputs": [
    {
     "data": {
      "text/plain": [
       "+--------------------------------------------------------------+----------+\n",
       "| input                                                        | output   |\n",
       "+==============================================================+==========+\n",
       "| Speaker 1: 'Should I convince these clients?' Speaker 2:     | yes      |\n",
       "| 'These are really important clients with deep pockets.'      |          |\n",
       "+--------------------------------------------------------------+----------+\n",
       "| Speaker 1: 'You have it, then?' Speaker 2: 'I had to slit a  | yes      |\n",
       "| few throats to get it.'                                      |          |\n",
       "+--------------------------------------------------------------+----------+\n",
       "| Speaker 1: 'Do they fight?' Speaker 2: 'They fight like cats | yes      |\n",
       "| and dogs.'                                                   |          |\n",
       "+--------------------------------------------------------------+----------+\n",
       "| Speaker 1: 'Do you want to come out for a juice?' Speaker 2: | yes      |\n",
       "| 'I am so thirsty that my throat is as dry as a bone.'        |          |\n",
       "+--------------------------------------------------------------+----------+\n",
       "| Speaker 1: 'And do you want my permission?' Speaker 2: 'I'd  | yes      |\n",
       "| like yours too.'                                             |          |\n",
       "+--------------------------------------------------------------+----------+\n",
       "| Speaker 1: 'Did I do it well?' Speaker 2: 'You were as brave | yes      |\n",
       "| as a lion.'                                                  |          |\n",
       "+--------------------------------------------------------------+----------+\n",
       "| Speaker 1: 'You want answers?!' Speaker 2: 'I want the       | yes      |\n",
       "| truth.'                                                      |          |\n",
       "+--------------------------------------------------------------+----------+\n",
       "| Speaker 1: 'Do you think hysteria could do that?' Speaker 2: | yes      |\n",
       "| 'It's being doing it for centuries.'                         |          |\n",
       "+--------------------------------------------------------------+----------+\n",
       "| Speaker 1: 'This is a costume?' Speaker 2: 'Aaaiyyyy...      | yes      |\n",
       "| worked on it all night long!'                                |          |\n",
       "+--------------------------------------------------------------+----------+\n",
       "| Speaker 1: 'Should I bring my umbrella?' Speaker 2: 'Better  | yes      |\n",
       "| safe than sorry.'                                            |          |\n",
       "+--------------------------------------------------------------+----------+\n",
       "Constants: {'instructions': \"Does Speaker 2's answer mean yes or no? \"}"
      ]
     },
     "execution_count": 7,
     "metadata": {},
     "output_type": "execute_result"
    }
   ],
   "source": [
    "mydata.outputs.filtered_on(lambda x: x == \"yes\")"
   ]
  },
  {
   "cell_type": "markdown",
   "metadata": {
    "editable": true,
    "slideshow": {
     "slide_type": ""
    },
    "tags": []
   },
   "source": [
    "## Templating\n",
    "\n",
    "Let's annotate 10 examples from the implicatures dataset. Below, we initialize our runner as before.\n"
   ]
  },
  {
   "cell_type": "code",
   "execution_count": 8,
   "metadata": {
    "editable": true,
    "slideshow": {
     "slide_type": ""
    },
    "tags": [
     "hide-input"
    ]
   },
   "outputs": [],
   "source": [
    "# %load -r 3:25 _init.py\n",
    "import pathlib\n",
    "import sammo\n",
    "from sammo.runners import OpenAIChat\n",
    "from sammo.base import Template, EvaluationScore\n",
    "from sammo.components import Output, GenerateText, ForEach, Union\n",
    "from sammo.extractors import ExtractRegex\n",
    "from sammo.data import DataTable\n",
    "import json\n",
    "import requests\n",
    "import os\n",
    "\n",
    "if not 'OPENAI_API_KEY' in os.environ:\n",
    "    raise ValueError(\"Please set the environment variable 'OPENAI_API_KEY'.\")\n",
    "\n",
    "_ = sammo.setup_logger(\"WARNING\")  # we're only interested in warnings for now\n",
    "\n",
    "runner = OpenAIChat(\n",
    "    model_id=\"gpt-3.5-turbo\",\n",
    "    api_config={\"api_key\": os.environ['OPENAI_API_KEY']},\n",
    "    cache=os.getenv(\"CACHE_FILE\", \"cache.tsv\"),\n",
    "    timeout=30,\n",
    ")"
   ]
  },
  {
   "cell_type": "markdown",
   "metadata": {
    "editable": true,
    "slideshow": {
     "slide_type": ""
    },
    "tags": []
   },
   "source": [
    "To refer to fields in the DataTable, SAMMO automatically recognizes the values `constants` and `input` (or `inputs`, if minibatching is activated).\n",
    "Other than that, it follows the standard [handlebar.js syntax](https://handlebarsjs.com/guide/expressions.html)."
   ]
  },
  {
   "cell_type": "code",
   "execution_count": 9,
   "metadata": {
    "editable": true,
    "slideshow": {
     "slide_type": ""
    },
    "tags": []
   },
   "outputs": [
    {
     "name": "stdout",
     "output_type": "stream",
     "text": [
      "minibatches[#################################################################################]10/10[00:00<??:??, 0.00it/s]\n"
     ]
    },
    {
     "data": {
      "text/plain": [
       "+--------------------------------------------------------------+----------+\n",
       "| input                                                        | output   |\n",
       "+==============================================================+==========+\n",
       "| Speaker 1: 'You do this often?' Speaker 2: 'It's my first    | no       |\n",
       "| time.'                                                       |          |\n",
       "+--------------------------------------------------------------+----------+\n",
       "| Speaker 1: 'Are you trying to make me mad?' Speaker 2: 'I'm  | no       |\n",
       "| just saying, I'd understand if you were upset. '             |          |\n",
       "+--------------------------------------------------------------+----------+\n",
       "| Speaker 1: 'You want answers?!' Speaker 2: 'I want the       | no       |\n",
       "| truth.'                                                      |          |\n",
       "+--------------------------------------------------------------+----------+\n",
       "| Speaker 1: 'Are you able to carry the box?' Speaker 2: 'It   | yes      |\n",
       "| is as light as a feather.'                                   |          |\n",
       "+--------------------------------------------------------------+----------+\n",
       "| Speaker 1: 'Is it hot outside?' Speaker 2: 'You could fry an | yes      |\n",
       "| egg on the sidewalk.'                                        |          |\n",
       "+--------------------------------------------------------------+----------+\n",
       "| Speaker 1: 'Should we repay you?' Speaker 2: 'There is no    | no       |\n",
       "| charge for awesomeness, or attractiveness.'                  |          |\n",
       "+--------------------------------------------------------------+----------+\n",
       "| Speaker 1: 'I wonder, Bob, if you can handle my car?'        | no       |\n",
       "| Speaker 2: 'It's an ordinary six cylinder.'                  |          |\n",
       "+--------------------------------------------------------------+----------+\n",
       "| Speaker 1: 'Did you order the code red?' Speaker 2: 'You're  | yes      |\n",
       "| goddamn right.'                                              |          |\n",
       "+--------------------------------------------------------------+----------+\n",
       "| Speaker 1: 'You've seen rain before... right?' Speaker 2:    | no       |\n",
       "| 'We don't get out much.'                                     |          |\n",
       "+--------------------------------------------------------------+----------+\n",
       "| Speaker 1: 'Does anyone know how to pick a lock?' Speaker 2: | yes      |\n",
       "| 'Sure. Picking locks is my thing.'                           |          |\n",
       "+--------------------------------------------------------------+----------+\n",
       "Constants: {'instructions': \"Does Speaker 2's answer mean yes or no? \"}"
      ]
     },
     "execution_count": 9,
     "metadata": {},
     "output_type": "execute_result"
    }
   ],
   "source": [
    "labeling_prompt = GenerateText(\n",
    "    Template(\n",
    "        \"Instructions:{{constants.instructions}}\\nOutput labels: yes, no\\nInput: {{input}}\\nOutput:\"\n",
    "    )\n",
    ")\n",
    "sample = mydata.sample(10, seed=42)\n",
    "result = Output(labeling_prompt).run(runner, sample)\n",
    "result"
   ]
  },
  {
   "cell_type": "markdown",
   "metadata": {
    "editable": true,
    "slideshow": {
     "slide_type": ""
    },
    "tags": []
   },
   "source": [
    "Outputs have three different access methods. First, if we only want the list of final values, we can use the `.values` property. These are also the values shown by default."
   ]
  },
  {
   "cell_type": "code",
   "execution_count": 10,
   "metadata": {
    "editable": true,
    "slideshow": {
     "slide_type": ""
    },
    "tags": []
   },
   "outputs": [
    {
     "data": {
      "text/plain": [
       "['no', 'no', 'no', 'yes', 'yes']"
      ]
     },
     "execution_count": 10,
     "metadata": {},
     "output_type": "execute_result"
    }
   ],
   "source": [
    "y_pred = result.outputs.values\n",
    "y_pred[:5]"
   ]
  },
  {
   "cell_type": "markdown",
   "metadata": {
    "editable": true,
    "slideshow": {
     "slide_type": ""
    },
    "tags": []
   },
   "source": [
    "If we want lower-level access to the result objects, we can call `.raw`."
   ]
  },
  {
   "cell_type": "code",
   "execution_count": 13,
   "metadata": {
    "editable": true,
    "slideshow": {
     "slide_type": ""
    },
    "tags": []
   },
   "outputs": [
    {
     "data": {
      "text/plain": [
       "[LLMResult(value='no', parent=TextResult),\n",
       " LLMResult(value='no', parent=TextResult),\n",
       " LLMResult(value='no', parent=TextResult),\n",
       " LLMResult(value='yes', parent=TextResult),\n",
       " LLMResult(value='yes', parent=TextResult),\n",
       " LLMResult(value='no', parent=TextResult),\n",
       " LLMResult(value='no', parent=TextResult),\n",
       " LLMResult(value='yes', parent=TextResult),\n",
       " LLMResult(value='no', parent=TextResult),\n",
       " LLMResult(value='yes', parent=TextResult)]"
      ]
     },
     "execution_count": 13,
     "metadata": {},
     "output_type": "execute_result"
    }
   ],
   "source": [
    "result.outputs.raw_values"
   ]
  },
  {
   "attachments": {},
   "cell_type": "markdown",
   "metadata": {
    "editable": true,
    "slideshow": {
     "slide_type": ""
    },
    "tags": []
   },
   "source": [
    "This returns the set of underlying result objects which also keep track of the entire chain of calls.\n",
    "\n",
    "Finally, we can use `.normalized_values()` to apply common post-processing steps, e.g., replacing missing values or making them a list. \n",
    "This can be useful when computing metrics, e.g., accuracy below:"
   ]
  },
  {
   "cell_type": "code",
   "execution_count": 15,
   "metadata": {
    "editable": true,
    "slideshow": {
     "slide_type": ""
    },
    "tags": []
   },
   "outputs": [
    {
     "data": {
      "text/plain": [
       "0.8"
      ]
     },
     "execution_count": 15,
     "metadata": {},
     "output_type": "execute_result"
    }
   ],
   "source": [
    "y_true = sample.outputs.normalized_values(on_empty=\"\")\n",
    "n_correct = sum([y_p == y_t for y_p, y_t in zip(y_pred, y_true)])\n",
    "accuracy = n_correct / len(y_true)\n",
    "accuracy"
   ]
  },
  {
   "cell_type": "markdown",
   "metadata": {
    "editable": true,
    "slideshow": {
     "slide_type": ""
    },
    "tags": []
   },
   "source": [
    "Not bad, but it still seems to be a hard task. Let's see what we can do with basic prompt engineering in the next section."
   ]
  }
 ],
 "metadata": {
  "kernelspec": {
   "display_name": "Python 3 (ipykernel)",
   "language": "python",
   "name": "python3"
  },
  "language_info": {
   "codemirror_mode": {
    "name": "ipython",
    "version": 3
   },
   "file_extension": ".py",
   "mimetype": "text/x-python",
   "name": "python",
   "nbconvert_exporter": "python",
   "pygments_lexer": "ipython3",
   "version": "3.11.9"
  },
  "widgets": {
   "application/vnd.jupyter.widget-state+json": {
    "state": {},
    "version_major": 2,
    "version_minor": 0
   }
  }
 },
 "nbformat": 4,
 "nbformat_minor": 4
}
