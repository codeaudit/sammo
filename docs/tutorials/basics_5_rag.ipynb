{
 "cells": [
  {
   "cell_type": "code",
   "execution_count": 8,
   "metadata": {
    "editable": true,
    "slideshow": {
     "slide_type": ""
    },
    "tags": [
     "remove-cell"
    ]
   },
   "outputs": [],
   "source": [
    "# Load from parent directory if not installed\n",
    "import importlib\n",
    "import os\n",
    "\n",
    "if not importlib.util.find_spec(\"sammo\"):\n",
    "    import sys\n",
    "\n",
    "    sys.path.append(\"../../\")"
   ]
  },
  {
   "cell_type": "markdown",
   "metadata": {
    "editable": true,
    "slideshow": {
     "slide_type": ""
    },
    "tags": []
   },
   "source": [
    "# RAG\n",
    "\n",
    "In Retrieval-Augmented Generation (RAG), a set of results is retrieved via some ranking algorithm and then added to the prompt to provide additional context.\n",
    "SAMMO has built-in in-memory RAG for smaller scales, but you can implement your own Component to connect it to other backends."
   ]
  },
  {
   "cell_type": "code",
   "execution_count": 9,
   "metadata": {
    "editable": true,
    "slideshow": {
     "slide_type": ""
    },
    "tags": [
     "hide-input"
    ]
   },
   "outputs": [],
   "source": [
    "# %load -r 3:25 _init.py\n",
    "import pathlib\n",
    "import sammo\n",
    "from sammo.runners import OpenAIChat, OpenAIEmbedding\n",
    "from sammo.base import Template, EvaluationScore\n",
    "from sammo.components import Output, GenerateText, ForEach, Union\n",
    "from sammo.extractors import ExtractRegex\n",
    "from sammo.data import DataTable\n",
    "import json\n",
    "import requests\n",
    "import os\n",
    "\n",
    "if not \"OPENAI_API_KEY\" in os.environ:\n",
    "    raise ValueError(\"Please set the environment variable OPENAI_API_KEY'.\")\n",
    "\n",
    "_ = sammo.setup_logger(\"WARNING\")  # we're only interested in warnings for now\n",
    "\n",
    "runner = OpenAIChat(\n",
    "    model_id=\"gpt-3.5-turbo-16k\",\n",
    "    api_config={\"api_key\": os.getenv(\"OPENAI_API_KEY\")},\n",
    "    cache=os.getenv(\"CACHE_FILE\", \"cache.tsv\"),\n",
    "    timeout=30,\n",
    ")"
   ]
  },
  {
   "cell_type": "markdown",
   "metadata": {
    "editable": true,
    "slideshow": {
     "slide_type": ""
    },
    "tags": [
     "hide-input"
    ]
   },
   "source": [
    "In addition to the normal LLM runner, we also need to provide a runner for the embeddings:"
   ]
  },
  {
   "cell_type": "code",
   "execution_count": 10,
   "metadata": {
    "editable": true,
    "slideshow": {
     "slide_type": ""
    },
    "tags": []
   },
   "outputs": [],
   "source": [
    "embedder = OpenAIEmbedding(\n",
    "    model_id=\"text-embedding-3-small\",\n",
    "    api_config={\"api_key\": os.getenv(\"OPENAI_API_KEY\")},\n",
    "    rate_limit=10,\n",
    "    cache=os.getenv(\"EMBEDDING_FILE\", \"embeddings.tsv\"),\n",
    ")"
   ]
  },
  {
   "cell_type": "markdown",
   "metadata": {
    "editable": true,
    "slideshow": {
     "slide_type": ""
    },
    "tags": []
   },
   "source": [
    "Let's generate a bit of mock data:"
   ]
  },
  {
   "cell_type": "code",
   "execution_count": 11,
   "metadata": {
    "editable": true,
    "slideshow": {
     "slide_type": ""
    },
    "tags": []
   },
   "outputs": [
    {
     "data": {
      "text/plain": [
       "+------------------------------------------------------------+----------+\n",
       "| input                                                      | output   |\n",
       "+============================================================+==========+\n",
       "| {'category': 'vegetable', 'name': 'carrot', 'description': | None     |\n",
       "| 'Article about carrot'}                                    |          |\n",
       "+------------------------------------------------------------+----------+\n",
       "Constants: None"
      ]
     },
     "execution_count": 11,
     "metadata": {},
     "output_type": "execute_result"
    }
   ],
   "source": [
    "fruits = [\n",
    "    {\"category\": \"fruit\", \"name\": x, \"description\": f\"Article about {x}\"}\n",
    "    for x in [\"mango\", \"banana\", \"apple\", \"orange\", \"grapes\"]\n",
    "]\n",
    "vegetables = [\n",
    "    {\"category\": \"vegetable\", \"name\": x, \"description\": f\"Article about {x}\"}\n",
    "    for x in [\"cucumber\", \"tomato\", \"carrot\", \"onion\", \"garlic\"]\n",
    "]\n",
    "data = DataTable(fruits + vegetables)\n",
    "d_fewshot, d_train = data.random_split(9, 1)\n",
    "d_train"
   ]
  },
  {
   "cell_type": "markdown",
   "metadata": {
    "editable": true,
    "slideshow": {
     "slide_type": ""
    },
    "tags": []
   },
   "source": [
    "So our query item is a vegetable. We expect to only get vegetables from the fewshot retriever then, too. Okay, the next step is to assemble a prompt."
   ]
  },
  {
   "cell_type": "code",
   "execution_count": 12,
   "metadata": {
    "editable": true,
    "slideshow": {
     "slide_type": ""
    },
    "tags": []
   },
   "outputs": [],
   "source": [
    "from sammo.instructions import Section, InputData, EmbeddingFewshotExamples, MetaPrompt\n",
    "from sammo.dataformatters import PlainFormatter\n",
    "\n",
    "structure = [\n",
    "    Section(\n",
    "        \"Examples\",\n",
    "        EmbeddingFewshotExamples(\n",
    "            embedder,\n",
    "            d_fewshot,\n",
    "            n_examples=3,\n",
    "            budget=\"relative\",\n",
    "        ),\n",
    "    ),\n",
    "    Section(\n",
    "        \"Question\",\n",
    "        \"How many vegetables and how many fruits are above?\",\n",
    "    ),\n",
    "]\n",
    "rag_prompt = Output(MetaPrompt(structure, render_as=\"markdown\", data_formatter=PlainFormatter()).with_extractor())"
   ]
  },
  {
   "cell_type": "markdown",
   "metadata": {
    "editable": true,
    "slideshow": {
     "slide_type": ""
    },
    "tags": []
   },
   "source": [
    "The `EmbeddingFewshotExamples` renders the input column of the `DataTable` in its canonical Python format before embedding it. Time to run it:"
   ]
  },
  {
   "cell_type": "code",
   "execution_count": 13,
   "metadata": {
    "editable": true,
    "slideshow": {
     "slide_type": ""
    },
    "tags": []
   },
   "outputs": [
    {
     "data": {
      "text/plain": [
       "+------------------------------------------------------------+------------------------------------------------+\n",
       "| input                                                      | output                                         |\n",
       "+============================================================+================================================+\n",
       "| {'category': 'vegetable', 'name': 'carrot', 'description': | ['There are 3 vegetables and 0 fruits above.'] |\n",
       "| 'Article about carrot'}                                    |                                                |\n",
       "+------------------------------------------------------------+------------------------------------------------+\n",
       "Constants: None"
      ]
     },
     "execution_count": 13,
     "metadata": {},
     "output_type": "execute_result"
    }
   ],
   "source": [
    "results = rag_prompt.run(runner, d_train)\n",
    "results"
   ]
  },
  {
   "cell_type": "markdown",
   "metadata": {
    "editable": true,
    "slideshow": {
     "slide_type": ""
    },
    "tags": []
   },
   "source": [
    "Nice! We indeed got the best matches. Let's see what was going on behind the scenes."
   ]
  },
  {
   "cell_type": "code",
   "execution_count": 14,
   "metadata": {
    "editable": true,
    "slideshow": {
     "slide_type": ""
    },
    "tags": []
   },
   "outputs": [
    {
     "data": {
      "text/html": [
       "            <iframe srcdoc=\"\n",
       "&lt;!DOCTYPE html&gt;\n",
       "&lt;html lang=&quot;en&quot;&gt;\n",
       "\n",
       "&lt;head&gt;\n",
       "  &lt;style&gt;\n",
       "  body,\n",
       "  html {\n",
       "    margin: 0;\n",
       "    height: 100%;\n",
       "    width: 100%;\n",
       "  }\n",
       "\n",
       "  .split {\n",
       "    display: flex;\n",
       "    flex-direction: row;\n",
       "    height: 100%;\n",
       "    overflow: hidden;\n",
       "  }\n",
       "  .gutter {\n",
       "    background-color: #eee;\n",
       "    background-repeat: no-repeat;\n",
       "    background-position: 50%;\n",
       "  }\n",
       "\n",
       "  .gutter.gutter-horizontal {\n",
       "    background-image: url(&#x27;data:image/png;base64,iVBORw0KGgoAAAANSUhEUgAAAAUAAAAeCAYAAADkftS9AAAAIklEQVQoU2M4c+bMfxAGAgYYmwGrIIiDjrELjpo5aiZeMwF+yNnOs5KSvgAAAABJRU5ErkJggg==&#x27;);\n",
       "    cursor: col-resize;\n",
       "  }\n",
       "  #info {\n",
       "\toverflow-y: auto;\n",
       "  }\n",
       "  #info div {\n",
       "    font-family: Helvetica, sans-serif;\n",
       "    font-weight: 600;\n",
       "    text-transform: uppercase;\n",
       "    background-color: #d6d8d9;\n",
       "    color: #616161;\n",
       "    font-size: 11px;\n",
       "    padding: 6px;\n",
       "  }\n",
       "  pre {\n",
       "\twhite-space: pre-wrap;\n",
       "\tpadding: 6px;\n",
       "\tbackground-color: #f9f9f9;\n",
       "\tmargin: 0;\n",
       "\tfont-size: 12px;\n",
       "  }\n",
       "  &lt;/style&gt;\n",
       "  &lt;meta charset=&quot;utf-8&quot; /&gt;\n",
       "  &lt;title&gt;Callgraph&lt;/title&gt;\n",
       "  &lt;script src=&quot;https://cdnjs.cloudflare.com/ajax/libs/cytoscape/3.26.0/cytoscape.min.js&quot;&gt;&lt;/script&gt;\n",
       "  &lt;script src=&quot;https://cdnjs.cloudflare.com/ajax/libs/split.js/1.6.0/split.min.js&quot;&gt;&lt;/script&gt;\n",
       "&lt;/head&gt;\n",
       "\n",
       "&lt;body&gt;\n",
       "  &lt;div class=&quot;split&quot;&gt;\n",
       "    &lt;div id=&quot;info&quot;&gt;&lt;pre&gt;Click on node for details.&lt;/pre&gt;&lt;/div&gt;\n",
       "    &lt;div id=&quot;graph&quot;&gt;&lt;/div&gt;\n",
       "  &lt;/div&gt;\n",
       "  &lt;script&gt;\n",
       "  Split([&#x27;#info&#x27;, &#x27;#graph&#x27;], {\n",
       "    sizes: [20, 80],\n",
       "    minSize: [150, 0],\n",
       "    onDragEnd: resizeCyto\n",
       "  });\n",
       "  const DATA = {&quot;nodes&quot;: [{&quot;data&quot;: {&quot;id&quot;: 2139661565392, &quot;label&quot;: &quot;Output&quot;, &quot;priority&quot;: 0, &quot;details&quot;: {&quot;Output&quot;: [&quot;There are 3 vegetables and 0 fruits above.&quot;], &quot;Parameters&quot;: &quot;- child: StripWhitespace\\n- minibatch_size: 1\\n- on_error: raise&quot;}}}, {&quot;data&quot;: {&quot;id&quot;: 2139661562224, &quot;label&quot;: &quot;StripWhitespace&quot;, &quot;priority&quot;: 1, &quot;details&quot;: {&quot;Output&quot;: [&quot;There are 3 vegetables and 0 fruits above.&quot;], &quot;Parameters&quot;: &quot;- child: GenerateText\\n- on_error: raise&quot;}}}, {&quot;data&quot;: {&quot;id&quot;: 2139661537744, &quot;label&quot;: &quot;GenerateText&quot;, &quot;priority&quot;: 2, &quot;details&quot;: {&quot;Output&quot;: &quot;There are 3 vegetables and 0 fruits above.&quot;, &quot;Parameters&quot;: &quot;- child: MetaPrompt\\n- reference_id: NoneType\\n- system_prompt: NoneType\\n- history: NoneType\\n- seed: 0\\n- randomness: 0\\n- max_tokens: NoneType\\n- json_mode: False\\n- on_error: empty_result\\n- runner: NoneType&quot;}}}, {&quot;data&quot;: {&quot;id&quot;: 2139661564816, &quot;label&quot;: &quot;MetaPrompt&quot;, &quot;priority&quot;: 3, &quot;details&quot;: {&quot;Output&quot;: &quot;# Examples\\nInput: {&#x27;category&#x27;: &#x27;vegetable&#x27;, &#x27;name&#x27;: &#x27;onion&#x27;, &#x27;description&#x27;: &#x27;Article about onion&#x27;}\\nOutput: None\\n\\nInput: {&#x27;category&#x27;: &#x27;vegetable&#x27;, &#x27;name&#x27;: &#x27;tomato&#x27;, &#x27;description&#x27;: &#x27;Article about tomato&#x27;}\\nOutput: None\\n\\nInput: {&#x27;category&#x27;: &#x27;vegetable&#x27;, &#x27;name&#x27;: &#x27;cucumber&#x27;, &#x27;description&#x27;: &#x27;Article about cucumber&#x27;}\\nOutput: None\\n\\n\\n# Question\\nHow many vegetables and how many fruits are above?&quot;, &quot;Parameters&quot;: &quot;- child: List\\n- render_as: markdown\\n- data_formatter: PlainFormatter\\n- reference_id: NoneType\\n- seed: 0&quot;}}}, {&quot;data&quot;: {&quot;id&quot;: 2139661565488, &quot;label&quot;: &quot;Section&quot;, &quot;priority&quot;: 4, &quot;details&quot;: {&quot;Output&quot;: &quot;# Examples\\nInput: {&#x27;category&#x27;: &#x27;vegetable&#x27;, &#x27;name&#x27;: &#x27;onion&#x27;, &#x27;description&#x27;: &#x27;Article about onion&#x27;}\\nOutput: None\\n\\nInput: {&#x27;category&#x27;: &#x27;vegetable&#x27;, &#x27;name&#x27;: &#x27;tomato&#x27;, &#x27;description&#x27;: &#x27;Article about tomato&#x27;}\\nOutput: None\\n\\nInput: {&#x27;category&#x27;: &#x27;vegetable&#x27;, &#x27;name&#x27;: &#x27;cucumber&#x27;, &#x27;description&#x27;: &#x27;Article about cucumber&#x27;}\\nOutput: None\\n\\n&quot;, &quot;Parameters&quot;: &quot;- title: Examples\\n- content: EmbeddingFewshotExamples\\n- reference_id: NoneType\\n- reference_classes: NoneType&quot;}}}, {&quot;data&quot;: {&quot;id&quot;: 2139661565296, &quot;label&quot;: &quot;Section&quot;, &quot;priority&quot;: 5, &quot;details&quot;: {&quot;Output&quot;: &quot;# Question\\nHow many vegetables and how many fruits are above?\\n&quot;, &quot;Parameters&quot;: &quot;- title: Question\\n- content: How many vegetables and how many fruits are above?\\n- reference_id: NoneType\\n- reference_classes: NoneType&quot;}}}, {&quot;data&quot;: {&quot;id&quot;: 2139661565872, &quot;label&quot;: &quot;EmbeddingFewshotExamples&quot;, &quot;priority&quot;: 6, &quot;details&quot;: {&quot;Output&quot;: &quot;Input: {&#x27;category&#x27;: &#x27;vegetable&#x27;, &#x27;name&#x27;: &#x27;onion&#x27;, &#x27;description&#x27;: &#x27;Article about onion&#x27;}\\nOutput: None\\n\\nInput: {&#x27;category&#x27;: &#x27;vegetable&#x27;, &#x27;name&#x27;: &#x27;tomato&#x27;, &#x27;description&#x27;: &#x27;Article about tomato&#x27;}\\nOutput: None\\n\\nInput: {&#x27;category&#x27;: &#x27;vegetable&#x27;, &#x27;name&#x27;: &#x27;cucumber&#x27;, &#x27;description&#x27;: &#x27;Article about cucumber&#x27;}\\nOutput: None\\n&quot;, &quot;Parameters&quot;: &quot;- embedder: OpenAIEmbedding\\n- data: DataTable\\n- n_examples: 3\\n- reference_id: NoneType\\n- aggregate: roundrobin\\n- filter_exact_matches: True\\n- budget: relative&quot;}}}], &quot;edges&quot;: [{&quot;data&quot;: {&quot;target&quot;: 2139661565392, &quot;source&quot;: 2139661562224}}, {&quot;data&quot;: {&quot;target&quot;: 2139661562224, &quot;source&quot;: 2139661537744}}, {&quot;data&quot;: {&quot;target&quot;: 2139661537744, &quot;source&quot;: 2139661564816}}, {&quot;data&quot;: {&quot;target&quot;: 2139661564816, &quot;source&quot;: 2139661565488}}, {&quot;data&quot;: {&quot;target&quot;: 2139661564816, &quot;source&quot;: 2139661565296}}, {&quot;data&quot;: {&quot;target&quot;: 2139661565488, &quot;source&quot;: 2139661565872}}]};\n",
       "\n",
       "  var cy = cytoscape({\n",
       "    container: document.getElementById(&#x27;graph&#x27;),\n",
       "    style: cytoscape.stylesheet().selector(&#x27;node&#x27;).style({\n",
       "      &#x27;content&#x27;: &#x27;data(label)&#x27;,\n",
       "\t  &#x27;background-color&#x27;: DATA[&#x27;node-color&#x27;] || &#x27;Teal&#x27;,\n",
       "\t  &#x27;border-width&#x27;: DATA[&#x27;node-border&#x27;] || 0,\n",
       "    }).selector(&#x27;:selected&#x27;).style({&#x27;background-color&#x27;: &#x27;Turquoise&#x27;}).selector(&#x27;edge&#x27;).style({\n",
       "      &#x27;curve-style&#x27;: &#x27;bezier&#x27;,\n",
       "      &#x27;target-arrow-shape&#x27;: &#x27;triangle&#x27;,\n",
       "      &#x27;width&#x27;: 1,\n",
       "      &#x27;line-color&#x27;: &#x27;black&#x27;,\n",
       "      &#x27;target-arrow-color&#x27;: &#x27;black&#x27;\n",
       "    }),\n",
       "    elements: DATA,\n",
       "    wheelSensitivity: 0.3,\n",
       "    layout: {\n",
       "      name: &#x27;breadthfirst&#x27;,\n",
       "      directed: true,\n",
       "      depthSort: function(a, b){ return a.data(&#x27;priority&#x27;) - b.data(&#x27;priority&#x27;) }\n",
       "    }\n",
       "  });\n",
       "\n",
       "  function resizeCyto() {\n",
       "    cy.resize();\n",
       "    cy.fit();\n",
       "  }\n",
       "\n",
       "  function escapeHTML(str){\n",
       "    return new Option(str).innerHTML;\n",
       "  }\n",
       "\n",
       "  window.addEventListener(&#x27;resize&#x27;, resizeCyto);\n",
       "  cy.on(&#x27;tap&#x27;, &#x27;node&#x27;, function(evt) {\n",
       "    const node = evt.target;\n",
       "    const details = node.data(&#x27;details&#x27;);\n",
       "    const info = document.getElementById(&#x27;info&#x27;);\n",
       "    info.innerHTML = &#x27;&#x27;;\n",
       "\n",
       "    if (!details) {\n",
       "        info.innerHTML = &quot;&lt;div&gt;Node has no metadata.&lt;/div&gt;&quot;;\n",
       "    } else if (typeof details === &#x27;object&#x27; &amp;&amp; !Array.isArray(details)) {\n",
       "        Object.entries(details).forEach(([key, value]) =&gt; {\n",
       "            info.innerHTML += `&lt;div&gt;${escapeHTML(key)}&lt;/div&gt;&lt;pre&gt;${escapeHTML(value)}&lt;/pre&gt;`;\n",
       "        });\n",
       "    } else {\n",
       "        info.innerHTML = `&lt;pre&gt;${escapeHTML(details)}&lt;/pre&gt;`;\n",
       "    }\n",
       "  });\n",
       "  &lt;/script&gt;\n",
       "&lt;/body&gt;\n",
       "\n",
       "&lt;/html&gt;\n",
       "\" width=\"100%\" height=\"300px\"'\n",
       "            \"allowfullscreen\" style=\"border:1px solid #e0e0e0; box-sizing: border-box;\">\n",
       "            </iframe>"
      ],
      "text/plain": [
       "<sammo.utils.HtmlRenderer at 0x1f205a30fd0>"
      ]
     },
     "execution_count": 14,
     "metadata": {},
     "output_type": "execute_result"
    }
   ],
   "source": [
    "results.outputs[0].plot_call_trace()"
   ]
  },
  {
   "cell_type": "markdown",
   "metadata": {
    "editable": true,
    "slideshow": {
     "slide_type": ""
    },
    "tags": []
   },
   "source": [
    "We can see that the `EmbeddingFewshotExamples` component retrieved all relevant vegetables (click on it to see its output) from our dataset before including them in the prompt."
   ]
  }
 ],
 "metadata": {
  "kernelspec": {
   "display_name": "Python 3 (ipykernel)",
   "language": "python",
   "name": "python3"
  },
  "language_info": {
   "codemirror_mode": {
    "name": "ipython",
    "version": 3
   },
   "file_extension": ".py",
   "mimetype": "text/x-python",
   "name": "python",
   "nbconvert_exporter": "python",
   "pygments_lexer": "ipython3",
   "version": "3.11.9"
  },
  "widgets": {
   "application/vnd.jupyter.widget-state+json": {
    "state": {},
    "version_major": 2,
    "version_minor": 0
   }
  }
 },
 "nbformat": 4,
 "nbformat_minor": 4
}
