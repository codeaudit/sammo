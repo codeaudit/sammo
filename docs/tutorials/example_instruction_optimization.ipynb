{
 "cells": [
  {
   "cell_type": "code",
   "execution_count": 1,
   "metadata": {
    "editable": true,
    "slideshow": {
     "slide_type": ""
    },
    "tags": [
     "remove-cell"
    ]
   },
   "outputs": [],
   "source": [
    "# Load from parent directory if not installed\n",
    "import importlib\n",
    "import os\n",
    "\n",
    "if not importlib.util.find_spec(\"sammo\"):\n",
    "    import sys\n",
    "\n",
    "    sys.path.append(\"../../\")\n",
    "os.environ[\"CACHE_FILE\"] = \"cache/working_with_prompts.tsv\""
   ]
  },
  {
   "cell_type": "markdown",
   "metadata": {
    "editable": true,
    "slideshow": {
     "slide_type": ""
    },
    "tags": []
   },
   "source": [
    "# Instruction Optimization\n",
    "\n",
    "We use the term *instruction optimization* to refer to the problem of finding the task instructions that maximize some target metric (e.g., accuracy). \n",
    "\n",
    "```{note}\n",
    "We will work with an extremely small number of data instances here to show the general flow. We recommend using 100+ examples for train and test..\r\n",
    "```\n",
    "\n",
    "We start by initalizing things as before."
   ]
  },
  {
   "cell_type": "code",
   "execution_count": 2,
   "metadata": {
    "editable": true,
    "slideshow": {
     "slide_type": ""
    },
    "tags": [
     "hide-input"
    ]
   },
   "outputs": [],
   "source": [
    "# %load -r 3:25 _init.py\n",
    "import pathlib\n",
    "import sammo\n",
    "from sammo.runners import OpenAIChat\n",
    "from sammo.base import Template, EvaluationScore\n",
    "from sammo.components import Output, GenerateText, ForEach, Union\n",
    "from sammo.extractors import ExtractRegex\n",
    "from sammo.data import DataTable\n",
    "import json\n",
    "import requests\n",
    "import os\n",
    "\n",
    "if not \"OPENAI_API_KEY\" in os.environ:\n",
    "    raise ValueError(\"Please set the environment variable OPENAI_API_KEY'.\")\n",
    "\n",
    "_ = sammo.setup_logger(\"WARNING\")  # we're only interested in warnings for now\n",
    "\n",
    "runner = OpenAIChat(\n",
    "    model_id=\"gpt-3.5-turbo-16k\",\n",
    "    api_config={\"api_key\": os.getenv(\"OPENAI_API_KEY\")},\n",
    "    cache=os.getenv(\"CACHE_FILE\", \"cache.tsv\"),\n",
    "    timeout=30,\n",
    ")"
   ]
  },
  {
   "cell_type": "code",
   "execution_count": 3,
   "metadata": {
    "editable": true,
    "slideshow": {
     "slide_type": ""
    },
    "tags": [
     "hide-input"
    ]
   },
   "outputs": [],
   "source": [
    "# %load -s load_data,accuracy _init.py\n",
    "def load_data(\n",
    "    url=\"https://github.com/google/BIG-bench/raw/main/bigbench/benchmark_tasks/implicatures/task.json\",\n",
    "):\n",
    "    task = json.loads(requests.get(url).content)\n",
    "    # convert label to single string\n",
    "    for x in task[\"examples\"]:\n",
    "        x[\"output\"] = max(x[\"target_scores\"], key=x[\"target_scores\"].get)\n",
    "\n",
    "    return DataTable.from_records(\n",
    "        task[\"examples\"],\n",
    "        input_fields=\"input\",\n",
    "        constants={\"instructions\": task[\"task_prefix\"]},\n",
    "    )\n",
    "\n",
    "\n",
    "def accuracy(y_true: DataTable, y_pred: DataTable) -> EvaluationScore:\n",
    "    y_true = y_true.outputs.normalized_values()\n",
    "    y_pred = y_pred.outputs.normalized_values()\n",
    "    n_correct = sum([y_p == y_t for y_p, y_t in zip(y_pred, y_true)])\n",
    "\n",
    "    return EvaluationScore(n_correct / len(y_true))"
   ]
  },
  {
   "cell_type": "markdown",
   "metadata": {
    "editable": true,
    "slideshow": {
     "slide_type": ""
    },
    "tags": []
   },
   "source": [
    "## Step 1: Defining the set of initial candidates\n",
    "\n",
    "Our plan is to use beam search with mutation operators to refine a set of initial candidates. Similar to using grid search previously, we can use the same syntax to define a parametric set of initial candidates.\n",
    "\n",
    "### Using Callables to bind static values\n",
    "\n",
    "A very common problem is that of having a set of static values, e.g., configuration or input datasets, that are needed in constructing a metaprompt.\n",
    "\n",
    "To bind these static values, we recommend using callables. These are objects that behave like functions but can be initalized with the static values for the task. In essence, they behave like partially bound functions but offer a cleaner interface.\n",
    "\n",
    "Below, we show how we can bind the training dataset to the search space object so we can use its values during the construction of the initial candidate space."
   ]
  },
  {
   "cell_type": "code",
   "execution_count": 4,
   "metadata": {
    "editable": true,
    "slideshow": {
     "slide_type": ""
    },
    "tags": []
   },
   "outputs": [],
   "source": [
    "from sammo.instructions import MetaPrompt, Section, Paragraph, InputData\n",
    "from sammo.dataformatters import PlainFormatter\n",
    "from sammo.search_op import one_of\n",
    "\n",
    "class InititialCandidates:\n",
    "    def __init__(self, dtrain):\n",
    "        self.dtrain = dtrain\n",
    "\n",
    "    def __call__(self):\n",
    "        example_formatter = PlainFormatter(\n",
    "            all_labels=self.dtrain.outputs.unique(), orient=\"item\"\n",
    "        )\n",
    "\n",
    "        labels = self.dtrain.outputs.unique()\n",
    "        instructions = MetaPrompt(\n",
    "            [\n",
    "                Paragraph(\"Instructions: \"),\n",
    "                Paragraph(\n",
    "                    one_of(\n",
    "                        [\n",
    "                            self.dtrain.constants[\"instructions\"],\n",
    "                            \"\",\n",
    "                            \"Find the best output label given the input.\",\n",
    "                            self.dtrain.constants[\"instructions\"] * 2,\n",
    "                        ]\n",
    "                    ),\n",
    "                    reference_id=\"instructions\",\n",
    "                ),\n",
    "                Paragraph(\"\\n\"),\n",
    "                Paragraph(\n",
    "                    f\"Output labels: {', '.join(labels)}\\n\" if len(labels) <= 10 else \"\"\n",
    "                ),\n",
    "                Paragraph(InputData()),\n",
    "                Paragraph(\"Output: \"),\n",
    "            ],\n",
    "            render_as=\"raw\",\n",
    "            data_formatter=example_formatter,\n",
    "        )\n",
    "\n",
    "        return Output(\n",
    "            instructions.with_extractor(\"raise\"),\n",
    "            minibatch_size=1,\n",
    "            on_error=\"empty_result\",\n",
    "        )"
   ]
  },
  {
   "cell_type": "markdown",
   "metadata": {
    "editable": true,
    "slideshow": {
     "slide_type": ""
    },
    "tags": []
   },
   "source": [
    "## Step 2: Define a set of mutation operators\n",
    "\n",
    "In each step of the beam search, `SAMMO` will sample a set of mutation operators and apply them to the current set of active candidates (beams). "
   ]
  },
  {
   "cell_type": "code",
   "execution_count": 5,
   "metadata": {
    "editable": true,
    "slideshow": {
     "slide_type": ""
    },
    "tags": []
   },
   "outputs": [],
   "source": [
    "from sammo.mutators import BagOfMutators, InduceInstructions, Paraphrase\n",
    "\n",
    "mydata = load_data()\n",
    "d_train = mydata.sample(10, seed=42)\n",
    "\n",
    "mutation_operators = BagOfMutators(\n",
    "    InititialCandidates(d_train),\n",
    "    InduceInstructions(\"#instructions\", d_train),\n",
    "    Paraphrase(\"#instructions\"),\n",
    "    sample_for_init_candidates=False,\n",
    ")"
   ]
  },
  {
   "attachments": {},
   "cell_type": "markdown",
   "metadata": {
    "editable": true,
    "slideshow": {
     "slide_type": ""
    },
    "tags": []
   },
   "source": [
    "What we have done above is to define a set of mutators to be applied. We say that we want to initialize with our previously defined `InitialCandidates` set, and can apply two different mutation operations here: we can induce new instructions from labeled samples, or just paraphrase existing ones. To know what part of the metaprompt we want to apply a mutator to, we need to pass a path descriptor.\n",
    "\n",
    "## Step 3: Run the beam search\n",
    "\n",
    "Let's set up our beam search and run it."
   ]
  },
  {
   "cell_type": "code",
   "execution_count": 30,
   "metadata": {
    "editable": true,
    "slideshow": {
     "slide_type": ""
    },
    "tags": []
   },
   "outputs": [
    {
     "name": "stdout",
     "output_type": "stream",
     "text": [
      "search depth[############]3/3[00:00<00:00] >> eval[#################################]8/8 >> tasks[######]80/80[00:00<00:00, 62.50it/s]\n",
      "\n",
      "Fitting log:\n",
      "iteration    action              objective    costs                          parse_errors    prev_actions\n",
      "-----------  ------------------  -----------  -----------------------------  --------------  --------------------------------------------------\n",
      "-1           init                0.8          {'input': 466, 'output': 10}   0.0             ['init']\n",
      "-1           init                0.8          {'input': 546, 'output': 10}   0.0             ['init']\n",
      "-1           init                0.5          {'input': 576, 'output': 10}   0.0             ['init']\n",
      "-1           init                0.5          {'input': 686, 'output': 10}   0.0             ['init']\n",
      "0            Paraphrase          0.6          {'input': 636, 'output': 10}   0.0             ['Paraphrase', 'init']\n",
      "0            Paraphrase          0.0          {'input': 516, 'output': 282}  0.0             ['Paraphrase', 'init']\n",
      "0            InduceInstructions  0.6          {'input': 796, 'output': 10}   0.0             ['InduceInstructions', 'init']\n",
      "0            Paraphrase          0.8          {'input': 566, 'output': 10}   0.0             ['Paraphrase', 'init']\n",
      "0            Paraphrase          0.6          {'input': 586, 'output': 10}   0.0             ['Paraphrase', 'init']\n",
      "0            Paraphrase          0.6          {'input': 586, 'output': 10}   0.0             ['Paraphrase', 'init']\n",
      "0            InduceInstructions  0.8          {'input': 926, 'output': 10}   0.0             ['InduceInstructions', 'init']\n",
      "0            Paraphrase          0.3          {'input': 696, 'output': 17}   0.0             ['Paraphrase', 'init']\n",
      "1            InduceInstructions  0.7          {'input': 706, 'output': 10}   0.0             ['InduceInstructions', 'Paraphrase', 'init']\n",
      "1            Paraphrase          0.8          {'input': 566, 'output': 10}   0.0             ['Paraphrase', 'Paraphrase', 'init']\n",
      "1            InduceInstructions  0.8          {'input': 586, 'output': 10}   0.0             ['InduceInstructions', 'InduceInstructions',\n",
      "                                                                                             'init']\n",
      "1            InduceInstructions  0.9          {'input': 1136, 'output': 10}  0.0             ['InduceInstructions', 'InduceInstructions',\n",
      "                                                                                             'init']\n",
      "1            Paraphrase          0.3          {'input': 516, 'output': 137}  0.0             ['Paraphrase', 'init']\n",
      "1            InduceInstructions  0.7          {'input': 546, 'output': 10}   0.0             ['InduceInstructions', 'init']\n",
      "1            InduceInstructions  0.7          {'input': 546, 'output': 10}   0.0             ['InduceInstructions', 'init']\n",
      "1            Paraphrase          0.8          {'input': 566, 'output': 10}   0.0             ['Paraphrase', 'init']\n",
      "2            InduceInstructions  0.8          {'input': 626, 'output': 10}   0.0             ['InduceInstructions', 'InduceInstructions',\n",
      "                                                                                             'InduceInstructions', 'init']\n",
      "2            InduceInstructions  0.8          {'input': 856, 'output': 10}   0.0             ['InduceInstructions', 'InduceInstructions',\n",
      "                                                                                             'InduceInstructions', 'init']\n",
      "2            Paraphrase          0.8          {'input': 566, 'output': 10}   0.0             ['Paraphrase', 'Paraphrase', 'Paraphrase', 'init']\n",
      "2            Paraphrase          0.8          {'input': 566, 'output': 10}   0.0             ['Paraphrase', 'Paraphrase', 'Paraphrase', 'init']\n",
      "2            InduceInstructions  0.7          {'input': 636, 'output': 10}   0.0             ['InduceInstructions', 'InduceInstructions',\n",
      "                                                                                             'InduceInstructions', 'init']\n",
      "2            Paraphrase          0.9          {'input': 586, 'output': 10}   0.0             ['Paraphrase', 'InduceInstructions',\n",
      "                                                                                             'InduceInstructions', 'init']\n",
      "2            Paraphrase          0.8          {'input': 566, 'output': 10}   0.0             ['Paraphrase', 'Paraphrase', 'init']\n",
      "2            Paraphrase          0.8          {'input': 566, 'output': 10}   0.0             ['Paraphrase', 'Paraphrase', 'init']\n",
      "Action stats:\n",
      "action              stats\n",
      "------------------  -----------------------------\n",
      "Paraphrase          {'chosen': 14, 'improved': 0}\n",
      "InduceInstructions  {'chosen': 10, 'improved': 1}\n"
     ]
    }
   ],
   "source": [
    "from sammo.search import BeamSearch\n",
    "\n",
    "prompt_optimizer = BeamSearch(\n",
    "            runner,\n",
    "            mutation_operators,\n",
    "            accuracy,\n",
    "            maximize=True,\n",
    "            depth=3,\n",
    "            mutations_per_beam=2,\n",
    "            n_initial_candidates=4,\n",
    "            beam_width=4,\n",
    "            add_previous=True,\n",
    "    )\n",
    "prompt_optimizer.fit(d_train)\n",
    "prompt_optimizer.show_report()"
   ]
  },
  {
   "cell_type": "markdown",
   "metadata": {
    "editable": true,
    "slideshow": {
     "slide_type": ""
    },
    "tags": []
   },
   "source": [
    "Great! Our best prompt gets an accuracy of 0.9 on the training set. Let's see what it came up with."
   ]
  },
  {
   "cell_type": "code",
   "execution_count": 33,
   "metadata": {},
   "outputs": [
    {
     "name": "stdout",
     "output_type": "stream",
     "text": [
      "Output(\n",
      "  child = StripWhitespace(\n",
      "    child = GenerateText(\n",
      "      child = MetaPrompt(\n",
      "        structure = [\n",
      "          0 : Paragraph(\n",
      "            content = 'Instructions: ',\n",
      "            id = None\n",
      "          ),\n",
      "          1 : Paragraph(\n",
      "            content = 'The instruction given is to determine whether the second speaker's response indicates agreement or disagreement with the first speaker's statement. If the second speaker's response supports or aligns with the first speaker's statement, the output is \"yes.\" If the second speaker's response contradicts or opposes the first speaker's statement, the output is \"no.\"',\n",
      "            id = 'instructions'\n",
      "          ),\n",
      "          2 : Paragraph(\n",
      "            content = '\n",
      "',\n",
      "            id = None\n",
      "          ),\n",
      "          3 : Paragraph(\n",
      "            content = 'Output labels: no, yes\n",
      "',\n",
      "            id = None\n",
      "          ),\n",
      "          4 : Paragraph(\n",
      "            content = InputData(\n",
      "              id_offset = 0,\n",
      "              name = None\n",
      "            ),\n",
      "            id = None\n",
      "          ),\n",
      "          5 : Paragraph(\n",
      "            content = 'Output: ',\n",
      "            id = None\n",
      "          )\n",
      "        ],\n",
      "        render_as = 'raw',\n",
      "        data_formatter = PlainFormatter(\n",
      "          all_labels = [\n",
      "            0 : 'no',\n",
      "            1 : 'yes'\n",
      "          ],\n",
      "          orient = 'item'\n",
      "        ),\n",
      "        name = None,\n",
      "        seed = 0\n",
      "      ),\n",
      "      name = None,\n",
      "      system_prompt = None,\n",
      "      history = None,\n",
      "      seed = 0,\n",
      "      randomness = 0,\n",
      "      max_tokens = None,\n",
      "      on_error = 'empty_result'\n",
      "    ),\n",
      "    on_error = 'raise',\n",
      "    flatten = True\n",
      "  ),\n",
      "  minibatch_size = 1,\n",
      "  on_error = 'empty_result'\n",
      ")\n"
     ]
    }
   ],
   "source": [
    "print(prompt_optimizer.best_prompt)"
   ]
  },
  {
   "cell_type": "code",
   "execution_count": null,
   "metadata": {},
   "outputs": [],
   "source": []
  }
 ],
 "metadata": {
  "kernelspec": {
   "display_name": "Python 3 (ipykernel)",
   "language": "python",
   "name": "python3"
  },
  "language_info": {
   "codemirror_mode": {
    "name": "ipython",
    "version": 3
   },
   "file_extension": ".py",
   "mimetype": "text/x-python",
   "name": "python",
   "nbconvert_exporter": "python",
   "pygments_lexer": "ipython3",
   "version": "3.11.9"
  },
  "widgets": {
   "application/vnd.jupyter.widget-state+json": {
    "state": {},
    "version_major": 2,
    "version_minor": 0
   }
  }
 },
 "nbformat": 4,
 "nbformat_minor": 4
}
