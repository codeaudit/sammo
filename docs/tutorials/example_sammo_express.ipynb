{
 "cells": [
  {
   "cell_type": "code",
   "execution_count": 21,
   "metadata": {
    "editable": true,
    "slideshow": {
     "slide_type": ""
    },
    "tags": [
     "remove-cell"
    ]
   },
   "outputs": [],
   "source": [
    "# Load from parent directory if not installed\n",
    "import importlib\n",
    "import os\n",
    "\n",
    "if not importlib.util.find_spec(\"sammo\"):\n",
    "    import sys\n",
    "\n",
    "    sys.path.append(\"../../\")\n",
    "os.environ[\"CACHE_FILE\"] = \"cache/sammo_express.tsv\""
   ]
  },
  {
   "cell_type": "markdown",
   "metadata": {
    "editable": true,
    "slideshow": {
     "slide_type": ""
    },
    "tags": []
   },
   "source": [
    "# SAMMO Express (beta)\n",
    "\n",
    "One of the more time-consuming tasks is converting an existing prompt into a prompt program. `SAMMO` Express is now able to do this using a Markdown file."
   ]
  },
  {
   "cell_type": "code",
   "execution_count": 22,
   "metadata": {
    "editable": true,
    "slideshow": {
     "slide_type": ""
    },
    "tags": [
     "hide-cell"
    ]
   },
   "outputs": [],
   "source": [
    "# %load -r 3:25 _init.py\n",
    "import pathlib\n",
    "import sammo\n",
    "from sammo.runners import OpenAIChat\n",
    "from sammo.base import Template, EvaluationScore, Component\n",
    "from sammo.components import Output, GenerateText, ForEach, Union\n",
    "from sammo.extractors import ExtractRegex\n",
    "from sammo.data import DataTable\n",
    "import json\n",
    "import requests\n",
    "import os\n",
    "\n",
    "if not \"OPENAI_API_KEY\" in os.environ:\n",
    "    raise ValueError(\"Please set the environment variable 'OPENAI_API_KEY'.\")\n",
    "\n",
    "_ = sammo.setup_logger(\"WARNING\")  # we're only interested in warnings for now\n",
    "\n",
    "runner = OpenAIChat(\n",
    "    model_id=\"gpt-3.5-turbo\",\n",
    "    api_config={\"api_key\": os.environ[\"OPENAI_API_KEY\"]},\n",
    "    cache=os.getenv(\"CACHE_FILE\", \"cache.tsv\"),\n",
    "    timeout=30,\n",
    ")"
   ]
  },
  {
   "cell_type": "markdown",
   "metadata": {},
   "source": [
    "We start with a prompt written in Markdown. SAMMO additionally recognizes:\n",
    "* CSS-like classes in the form of `.classname`\n",
    "* CSS-like identifiers in the form of `#id`\n",
    "* Native placeholders in handlebar.js syntax for the input like `{{{input}}}`\n",
    "\n",
    "Here is an example:"
   ]
  },
  {
   "cell_type": "code",
   "execution_count": 23,
   "metadata": {
    "editable": true,
    "slideshow": {
     "slide_type": ""
    },
    "tags": [
     "hide-input"
    ]
   },
   "outputs": [],
   "source": [
    "PROMPT_IN_MARKDOWN = \"\"\"\n",
    "# Instructions <!-- #instr -->\n",
    "Convert the following user queries into a SQL query.\n",
    "\n",
    "# Table\n",
    "Users:\n",
    "- user_id (INTEGER, PRIMARY KEY)\n",
    "- name (TEXT)\n",
    "- age (INTEGER)\n",
    "- city (TEXT)\n",
    "\n",
    "# Examples <!-- #examp -->\n",
    "Input: \"Find all users who are older than 30.\"  \n",
    "Output: `SELECT name FROM Users WHERE age > 30;`\n",
    "\n",
    "Input: \"List the names of users who live in 'New York'.\"  \n",
    "Output: `SELECT name FROM Users WHERE city = 'New York';`\n",
    "   \n",
    "# Complete this\n",
    "Input: {{{input}}}\n",
    "Output:\n",
    "\"\"\""
   ]
  },
  {
   "cell_type": "markdown",
   "metadata": {
    "editable": true,
    "slideshow": {
     "slide_type": ""
    },
    "tags": []
   },
   "source": [
    "Using `sammo.express`, we can automatically map the structure implied by Markdown into a structred symbolic prompt program:"
   ]
  },
  {
   "cell_type": "code",
   "execution_count": 30,
   "metadata": {
    "editable": true,
    "slideshow": {
     "slide_type": ""
    },
    "tags": []
   },
   "outputs": [
    {
     "data": {
      "text/html": [
       "            <iframe srcdoc=\"\n",
       "&lt;!DOCTYPE html&gt;\n",
       "&lt;html lang=&quot;en&quot;&gt;\n",
       "\n",
       "&lt;head&gt;\n",
       "  &lt;style&gt;\n",
       "  body,\n",
       "  html {\n",
       "    margin: 0;\n",
       "    height: 100%;\n",
       "    width: 100%;\n",
       "  }\n",
       "\n",
       "  .split {\n",
       "    display: flex;\n",
       "    flex-direction: row;\n",
       "    height: 100%;\n",
       "    overflow: hidden;\n",
       "  }\n",
       "  .gutter {\n",
       "    background-color: #eee;\n",
       "    background-repeat: no-repeat;\n",
       "    background-position: 50%;\n",
       "  }\n",
       "\n",
       "  .gutter.gutter-horizontal {\n",
       "    background-image: url(&#x27;data:image/png;base64,iVBORw0KGgoAAAANSUhEUgAAAAUAAAAeCAYAAADkftS9AAAAIklEQVQoU2M4c+bMfxAGAgYYmwGrIIiDjrELjpo5aiZeMwF+yNnOs5KSvgAAAABJRU5ErkJggg==&#x27;);\n",
       "    cursor: col-resize;\n",
       "  }\n",
       "  #info {\n",
       "\toverflow-y: auto;\n",
       "  }\n",
       "  #info div {\n",
       "    font-family: Helvetica, sans-serif;\n",
       "    font-weight: 600;\n",
       "    text-transform: uppercase;\n",
       "    background-color: #d6d8d9;\n",
       "    color: #616161;\n",
       "    font-size: 11px;\n",
       "    padding: 6px;\n",
       "  }\n",
       "  pre {\n",
       "\twhite-space: pre-wrap;\n",
       "\tpadding: 6px;\n",
       "\tbackground-color: #f9f9f9;\n",
       "\tmargin: 0;\n",
       "\tfont-size: 12px;\n",
       "  }\n",
       "  &lt;/style&gt;\n",
       "  &lt;meta charset=&quot;utf-8&quot; /&gt;\n",
       "  &lt;title&gt;Callgraph&lt;/title&gt;\n",
       "  &lt;script src=&quot;https://cdnjs.cloudflare.com/ajax/libs/cytoscape/3.26.0/cytoscape.min.js&quot;&gt;&lt;/script&gt;\n",
       "  &lt;script src=&quot;https://cdnjs.cloudflare.com/ajax/libs/split.js/1.6.0/split.min.js&quot;&gt;&lt;/script&gt;\n",
       "&lt;/head&gt;\n",
       "\n",
       "&lt;body&gt;\n",
       "  &lt;div class=&quot;split&quot;&gt;\n",
       "    &lt;div id=&quot;info&quot;&gt;&lt;pre&gt;Click on node for details.&lt;/pre&gt;&lt;/div&gt;\n",
       "    &lt;div id=&quot;graph&quot;&gt;&lt;/div&gt;\n",
       "  &lt;/div&gt;\n",
       "  &lt;script&gt;\n",
       "  Split([&#x27;#info&#x27;, &#x27;#graph&#x27;], {\n",
       "    sizes: [20, 80],\n",
       "    minSize: [150, 0],\n",
       "    onDragEnd: resizeCyto\n",
       "  });\n",
       "  const DATA = {&quot;nodes&quot;: [{&quot;data&quot;: {&quot;id&quot;: 3192839726224, &quot;label&quot;: &quot;MetaPrompt&quot;, &quot;priority&quot;: 0, &quot;details&quot;: {&quot;Parameters&quot;: &quot;- child: List\\n- render_as: raw\\n- data_formatter: NoneType\\n- reference_id: NoneType\\n- seed: 0&quot;}}}, {&quot;data&quot;: {&quot;id&quot;: 3192838434448, &quot;label&quot;: &quot;Section&quot;, &quot;priority&quot;: 1, &quot;details&quot;: {&quot;Parameters&quot;: &quot;- title: # Instructions \\n\\n- content: List\\n- reference_id: instr\\n- reference_classes: NoneType&quot;}}}, {&quot;data&quot;: {&quot;id&quot;: 3192810821136, &quot;label&quot;: &quot;Section&quot;, &quot;priority&quot;: 2, &quot;details&quot;: {&quot;Parameters&quot;: &quot;- title: # Table\\n\\n- content: List\\n- reference_id: NoneType\\n- reference_classes: NoneType&quot;}}}, {&quot;data&quot;: {&quot;id&quot;: 3192838426640, &quot;label&quot;: &quot;Section&quot;, &quot;priority&quot;: 3, &quot;details&quot;: {&quot;Parameters&quot;: &quot;- title: # Examples \\n\\n- content: List\\n- reference_id: examp\\n- reference_classes: NoneType&quot;}}}, {&quot;data&quot;: {&quot;id&quot;: 3192839726160, &quot;label&quot;: &quot;Section&quot;, &quot;priority&quot;: 4, &quot;details&quot;: {&quot;Parameters&quot;: &quot;- title: # Complete this\\n\\n- content: List\\n- reference_id: NoneType\\n- reference_classes: NoneType&quot;}}}, {&quot;data&quot;: {&quot;id&quot;: 3192838763344, &quot;label&quot;: &quot;Paragraph&quot;, &quot;priority&quot;: 5, &quot;details&quot;: {&quot;Parameters&quot;: &quot;- content: List\\n- reference_id: NoneType\\n- reference_classes: NoneType&quot;}}}, {&quot;data&quot;: {&quot;id&quot;: 3192838437200, &quot;label&quot;: &quot;Paragraph&quot;, &quot;priority&quot;: 6, &quot;details&quot;: {&quot;Parameters&quot;: &quot;- content: List\\n- reference_id: NoneType\\n- reference_classes: NoneType&quot;}}}, {&quot;data&quot;: {&quot;id&quot;: 3192839068432, &quot;label&quot;: &quot;Paragraph&quot;, &quot;priority&quot;: 7, &quot;details&quot;: {&quot;Parameters&quot;: &quot;- content: List\\n- reference_id: NoneType\\n- reference_classes: NoneType&quot;}}}, {&quot;data&quot;: {&quot;id&quot;: 3192839148624, &quot;label&quot;: &quot;Paragraph&quot;, &quot;priority&quot;: 8, &quot;details&quot;: {&quot;Parameters&quot;: &quot;- content: List\\n- reference_id: NoneType\\n- reference_classes: NoneType&quot;}}}, {&quot;data&quot;: {&quot;id&quot;: 3192839368720, &quot;label&quot;: &quot;Paragraph&quot;, &quot;priority&quot;: 9, &quot;details&quot;: {&quot;Parameters&quot;: &quot;- content: List\\n- reference_id: NoneType\\n- reference_classes: NoneType&quot;}}}, {&quot;data&quot;: {&quot;id&quot;: 3192839082128, &quot;label&quot;: &quot;Paragraph&quot;, &quot;priority&quot;: 10, &quot;details&quot;: {&quot;Parameters&quot;: &quot;- content: List\\n- reference_id: NoneType\\n- reference_classes: NoneType&quot;}}}, {&quot;data&quot;: {&quot;id&quot;: 3192838768656, &quot;label&quot;: &quot;Template&quot;, &quot;priority&quot;: 11, &quot;details&quot;: {&quot;Parameters&quot;: &quot;- content: Input: {{{input}}}\\nOutput:\\n\\n- reference_id: NoneType\\n- reference_classes: NoneType&quot;}}}], &quot;edges&quot;: [{&quot;data&quot;: {&quot;target&quot;: 3192839726224, &quot;source&quot;: 3192838434448}}, {&quot;data&quot;: {&quot;target&quot;: 3192839726224, &quot;source&quot;: 3192810821136}}, {&quot;data&quot;: {&quot;target&quot;: 3192839726224, &quot;source&quot;: 3192838426640}}, {&quot;data&quot;: {&quot;target&quot;: 3192839726224, &quot;source&quot;: 3192839726160}}, {&quot;data&quot;: {&quot;target&quot;: 3192838434448, &quot;source&quot;: 3192838763344}}, {&quot;data&quot;: {&quot;target&quot;: 3192810821136, &quot;source&quot;: 3192838437200}}, {&quot;data&quot;: {&quot;target&quot;: 3192810821136, &quot;source&quot;: 3192839068432}}, {&quot;data&quot;: {&quot;target&quot;: 3192838426640, &quot;source&quot;: 3192839148624}}, {&quot;data&quot;: {&quot;target&quot;: 3192838426640, &quot;source&quot;: 3192839368720}}, {&quot;data&quot;: {&quot;target&quot;: 3192839726160, &quot;source&quot;: 3192839082128}}, {&quot;data&quot;: {&quot;target&quot;: 3192839082128, &quot;source&quot;: 3192838768656}}], &quot;node-color&quot;: &quot;white&quot;, &quot;node-border&quot;: 1};\n",
       "\n",
       "  var cy = cytoscape({\n",
       "    container: document.getElementById(&#x27;graph&#x27;),\n",
       "    style: cytoscape.stylesheet().selector(&#x27;node&#x27;).style({\n",
       "      &#x27;content&#x27;: &#x27;data(label)&#x27;,\n",
       "\t  &#x27;background-color&#x27;: DATA[&#x27;node-color&#x27;] || &#x27;Teal&#x27;,\n",
       "\t  &#x27;border-width&#x27;: DATA[&#x27;node-border&#x27;] || 0,\n",
       "    }).selector(&#x27;:selected&#x27;).style({&#x27;background-color&#x27;: &#x27;Turquoise&#x27;}).selector(&#x27;edge&#x27;).style({\n",
       "      &#x27;curve-style&#x27;: &#x27;bezier&#x27;,\n",
       "      &#x27;target-arrow-shape&#x27;: &#x27;triangle&#x27;,\n",
       "      &#x27;width&#x27;: 1,\n",
       "      &#x27;line-color&#x27;: &#x27;black&#x27;,\n",
       "      &#x27;target-arrow-color&#x27;: &#x27;black&#x27;\n",
       "    }),\n",
       "    elements: DATA,\n",
       "    wheelSensitivity: 0.3,\n",
       "    layout: {\n",
       "      name: &#x27;breadthfirst&#x27;,\n",
       "      directed: true,\n",
       "      depthSort: function(a, b){ return a.data(&#x27;priority&#x27;) - b.data(&#x27;priority&#x27;) }\n",
       "    }\n",
       "  });\n",
       "\n",
       "  function resizeCyto() {\n",
       "    cy.resize();\n",
       "    cy.fit();\n",
       "  }\n",
       "\n",
       "  function escapeHTML(str){\n",
       "    return new Option(str).innerHTML;\n",
       "  }\n",
       "\n",
       "  window.addEventListener(&#x27;resize&#x27;, resizeCyto);\n",
       "  cy.on(&#x27;tap&#x27;, &#x27;node&#x27;, function(evt) {\n",
       "    const node = evt.target;\n",
       "    const details = node.data(&#x27;details&#x27;);\n",
       "    const info = document.getElementById(&#x27;info&#x27;);\n",
       "    info.innerHTML = &#x27;&#x27;;\n",
       "\n",
       "    if (!details) {\n",
       "        info.innerHTML = &quot;&lt;div&gt;Node has no metadata.&lt;/div&gt;&quot;;\n",
       "    } else if (typeof details === &#x27;object&#x27; &amp;&amp; !Array.isArray(details)) {\n",
       "        Object.entries(details).forEach(([key, value]) =&gt; {\n",
       "            info.innerHTML += `&lt;div&gt;${escapeHTML(key)}&lt;/div&gt;&lt;pre&gt;${escapeHTML(value)}&lt;/pre&gt;`;\n",
       "        });\n",
       "    } else {\n",
       "        info.innerHTML = `&lt;pre&gt;${escapeHTML(details)}&lt;/pre&gt;`;\n",
       "    }\n",
       "  });\n",
       "  &lt;/script&gt;\n",
       "&lt;/body&gt;\n",
       "\n",
       "&lt;/html&gt;\n",
       "\" width=\"100%\" height=\"300px\"'\n",
       "            \"allowfullscreen\" style=\"border:1px solid #e0e0e0; box-sizing: border-box;\">\n",
       "            </iframe>"
      ],
      "text/plain": [
       "<sammo.utils.HtmlRenderer at 0x2e764141490>"
      ]
     },
     "execution_count": 30,
     "metadata": {},
     "output_type": "execute_result"
    }
   ],
   "source": [
    "from sammo.express import MarkdownParser\n",
    "spp = MarkdownParser(PROMPT_IN_MARKDOWN).get_sammo_program()\n",
    "spp.plot_program()"
   ]
  },
  {
   "cell_type": "markdown",
   "metadata": {},
   "source": [
    "Let's execute it on some data. For this small test, we will skip the DataTables and use a list of dicts."
   ]
  },
  {
   "cell_type": "code",
   "execution_count": 25,
   "metadata": {},
   "outputs": [
    {
     "data": {
      "text/plain": [
       "+------------------------------------------+-----------------------------------------------------+\n",
       "| input                                    | output                                              |\n",
       "+==========================================+=====================================================+\n",
       "| {'input': 'No of users starting with J'} | SELECT COUNT(name) FROM Users WHERE name LIKE 'J%'; |\n",
       "+------------------------------------------+-----------------------------------------------------+\n",
       "Constants: None"
      ]
     },
     "execution_count": 25,
     "metadata": {},
     "output_type": "execute_result"
    }
   ],
   "source": [
    "Output(GenerateText(spp)).run(runner, [{\"input\": \"No of users starting with J\"}])"
   ]
  },
  {
   "cell_type": "markdown",
   "metadata": {},
   "source": [
    "## Bonus: Optimizing the prompt program"
   ]
  },
  {
   "cell_type": "code",
   "execution_count": 26,
   "metadata": {
    "editable": true,
    "slideshow": {
     "slide_type": ""
    },
    "tags": []
   },
   "outputs": [],
   "source": [
    "d_train =   DataTable.from_records([{\"input\": \"Get all users whose name starts with the letter 'J'\",\n",
    "    \"output\": \"SELECT * FROM Users WHERE name LIKE 'J%';\"\n",
    "  },\n",
    "  {\n",
    "    \"input\": \"Retrieve the youngest user's information\",\n",
    "    \"output\": \"SELECT * FROM Users ORDER BY age ASC LIMIT 1;\"\n",
    "  },\n",
    "  {\n",
    "    \"input\": \"Get all cities where users live\",\n",
    "    \"output\": \"SELECT DISTINCT city FROM Users;\"\n",
    "  }])\n",
    "\n",
    "def accuracy(y_true: DataTable, y_pred: DataTable) -> EvaluationScore:\n",
    "    y_true = y_true.outputs.normalized_values()\n",
    "    y_pred = y_pred.outputs.normalized_values()\n",
    "    n_correct = sum([y_p == y_t for y_p, y_t in zip(y_pred, y_true)])\n",
    "\n",
    "    return EvaluationScore(n_correct / len(y_true))"
   ]
  },
  {
   "cell_type": "code",
   "execution_count": 27,
   "metadata": {},
   "outputs": [
    {
     "name": "stdout",
     "output_type": "stream",
     "text": [
      "search depth[############]1/1[00:00<00:00] >> eval[#################################]3/3 >> tasks[#######]9/9[00:00<00:00, 600.00it/s]\n",
      "\n",
      "Fitting log (5 entries):\n",
      "iteration    action      objective           costs                         parse_errors    prev_actions\n",
      "-----------  ----------  ------------------  ----------------------------  --------------  ----------------------\n",
      "-1           init        0.3333333333333333  {'input': 386, 'output': 33}  0.0             ['init']\n",
      "-1           init        0.3333333333333333  {'input': 386, 'output': 33}  0.0             ['init']\n",
      "0            Rewrite     0.6666666666666666  {'input': 437, 'output': 28}  0.0             ['Rewrite', 'init']\n",
      "0            Paraphrase  0.6666666666666666  {'input': 380, 'output': 28}  0.0             ['Paraphrase', 'init']\n",
      "0            Rewrite     0.6666666666666666  {'input': 437, 'output': 28}  0.0             ['Rewrite', 'init']\n",
      "Action stats:\n",
      "action      stats\n",
      "----------  ----------------------------\n",
      "Rewrite     {'chosen': 2, 'improved': 2}\n",
      "Paraphrase  {'chosen': 1, 'improved': 1}\n"
     ]
    }
   ],
   "source": [
    "from sammo.search import BeamSearch\n",
    "from sammo.mutators import BagOfMutators, Paraphrase, Rewrite\n",
    "\n",
    "mutation_operators = BagOfMutators(\n",
    "    Output(GenerateText(spp)),\n",
    "    Paraphrase(\"#instr\"),\n",
    "    Rewrite(\"#examp\", \"Repeat these examples and add two new ones.\\n\\n {{{{text}}}}\")\n",
    ")\n",
    "prompt_optimizer = BeamSearch(\n",
    "            runner,\n",
    "            mutation_operators,\n",
    "            accuracy,\n",
    "            depth=1,\n",
    "            mutations_per_beam=2,\n",
    "            n_initial_candidates=2\n",
    "    )\n",
    "prompt_optimizer.fit(d_train)\n",
    "prompt_optimizer.show_report()"
   ]
  },
  {
   "cell_type": "code",
   "execution_count": 29,
   "metadata": {},
   "outputs": [
    {
     "data": {
      "text/html": [
       "            <iframe srcdoc=\"\n",
       "&lt;!DOCTYPE html&gt;\n",
       "&lt;html lang=&quot;en&quot;&gt;\n",
       "\n",
       "&lt;head&gt;\n",
       "  &lt;style&gt;\n",
       "  body,\n",
       "  html {\n",
       "    margin: 0;\n",
       "    height: 100%;\n",
       "    width: 100%;\n",
       "  }\n",
       "\n",
       "  .split {\n",
       "    display: flex;\n",
       "    flex-direction: row;\n",
       "    height: 100%;\n",
       "    overflow: hidden;\n",
       "  }\n",
       "  .gutter {\n",
       "    background-color: #eee;\n",
       "    background-repeat: no-repeat;\n",
       "    background-position: 50%;\n",
       "  }\n",
       "\n",
       "  .gutter.gutter-horizontal {\n",
       "    background-image: url(&#x27;data:image/png;base64,iVBORw0KGgoAAAANSUhEUgAAAAUAAAAeCAYAAADkftS9AAAAIklEQVQoU2M4c+bMfxAGAgYYmwGrIIiDjrELjpo5aiZeMwF+yNnOs5KSvgAAAABJRU5ErkJggg==&#x27;);\n",
       "    cursor: col-resize;\n",
       "  }\n",
       "  #info {\n",
       "\toverflow-y: auto;\n",
       "  }\n",
       "  #info div {\n",
       "    font-family: Helvetica, sans-serif;\n",
       "    font-weight: 600;\n",
       "    text-transform: uppercase;\n",
       "    background-color: #d6d8d9;\n",
       "    color: #616161;\n",
       "    font-size: 11px;\n",
       "    padding: 6px;\n",
       "  }\n",
       "  pre {\n",
       "\twhite-space: pre-wrap;\n",
       "\tpadding: 6px;\n",
       "\tbackground-color: #f9f9f9;\n",
       "\tmargin: 0;\n",
       "\tfont-size: 12px;\n",
       "  }\n",
       "  &lt;/style&gt;\n",
       "  &lt;meta charset=&quot;utf-8&quot; /&gt;\n",
       "  &lt;title&gt;Callgraph&lt;/title&gt;\n",
       "  &lt;script src=&quot;https://cdnjs.cloudflare.com/ajax/libs/cytoscape/3.26.0/cytoscape.min.js&quot;&gt;&lt;/script&gt;\n",
       "  &lt;script src=&quot;https://cdnjs.cloudflare.com/ajax/libs/split.js/1.6.0/split.min.js&quot;&gt;&lt;/script&gt;\n",
       "&lt;/head&gt;\n",
       "\n",
       "&lt;body&gt;\n",
       "  &lt;div class=&quot;split&quot;&gt;\n",
       "    &lt;div id=&quot;info&quot;&gt;&lt;pre&gt;Click on node for details.&lt;/pre&gt;&lt;/div&gt;\n",
       "    &lt;div id=&quot;graph&quot;&gt;&lt;/div&gt;\n",
       "  &lt;/div&gt;\n",
       "  &lt;script&gt;\n",
       "  Split([&#x27;#info&#x27;, &#x27;#graph&#x27;], {\n",
       "    sizes: [20, 80],\n",
       "    minSize: [150, 0],\n",
       "    onDragEnd: resizeCyto\n",
       "  });\n",
       "  const DATA = {&quot;nodes&quot;: [{&quot;data&quot;: {&quot;id&quot;: 3192839559632, &quot;label&quot;: &quot;Output&quot;, &quot;priority&quot;: 0, &quot;details&quot;: {&quot;Parameters&quot;: &quot;- child: GenerateText\\n- minibatch_size: 1\\n- on_error: raise&quot;}}}, {&quot;data&quot;: {&quot;id&quot;: 3192839557008, &quot;label&quot;: &quot;GenerateText&quot;, &quot;priority&quot;: 1, &quot;details&quot;: {&quot;Parameters&quot;: &quot;- child: MetaPrompt\\n- reference_id: NoneType\\n- system_prompt: NoneType\\n- history: NoneType\\n- seed: 0\\n- randomness: 0\\n- max_tokens: NoneType\\n- json_mode: False\\n- on_error: empty_result\\n- runner: NoneType&quot;}}}, {&quot;data&quot;: {&quot;id&quot;: 3192839572368, &quot;label&quot;: &quot;MetaPrompt&quot;, &quot;priority&quot;: 2, &quot;details&quot;: {&quot;Parameters&quot;: &quot;- child: List\\n- render_as: raw\\n- data_formatter: NoneType\\n- reference_id: NoneType\\n- seed: 0&quot;}}}, {&quot;data&quot;: {&quot;id&quot;: 3192837339536, &quot;label&quot;: &quot;Section&quot;, &quot;priority&quot;: 3, &quot;details&quot;: {&quot;Parameters&quot;: &quot;- title: # Instructions \\n\\n- content: List\\n- reference_id: instr\\n- reference_classes: NoneType&quot;}}}, {&quot;data&quot;: {&quot;id&quot;: 3192838675536, &quot;label&quot;: &quot;Section&quot;, &quot;priority&quot;: 4, &quot;details&quot;: {&quot;Parameters&quot;: &quot;- title: # Table\\n\\n- content: List\\n- reference_id: NoneType\\n- reference_classes: NoneType&quot;}}}, {&quot;data&quot;: {&quot;id&quot;: 3192838678352, &quot;label&quot;: &quot;Section&quot;, &quot;priority&quot;: 5, &quot;details&quot;: {&quot;Parameters&quot;: &quot;- title: # Examples \\n\\n- content: Input: \\&quot;Find all users who have an email address ending in &#x27;@gmail.com&#x27;.\\&quot;  \\nOutput: `SELECT name FROM Users WHERE email LIKE &#x27;%@gmail.com&#x27;;`\\n\\nInput: \\&quot;List the names of users who have a subscription that expires after 2022.\\&quot;  \\nOutput: `SELECT name FROM Users WHERE subscription_expiration_date &gt; &#x27;2022-12-31&#x27;;`\\n- reference_id: examp\\n- reference_classes: NoneType&quot;}}}, {&quot;data&quot;: {&quot;id&quot;: 3192839572112, &quot;label&quot;: &quot;Section&quot;, &quot;priority&quot;: 6, &quot;details&quot;: {&quot;Parameters&quot;: &quot;- title: # Complete this\\n\\n- content: List\\n- reference_id: NoneType\\n- reference_classes: NoneType&quot;}}}, {&quot;data&quot;: {&quot;id&quot;: 3192838669264, &quot;label&quot;: &quot;Paragraph&quot;, &quot;priority&quot;: 7, &quot;details&quot;: {&quot;Parameters&quot;: &quot;- content: List\\n- reference_id: NoneType\\n- reference_classes: NoneType&quot;}}}, {&quot;data&quot;: {&quot;id&quot;: 3192838673808, &quot;label&quot;: &quot;Paragraph&quot;, &quot;priority&quot;: 8, &quot;details&quot;: {&quot;Parameters&quot;: &quot;- content: List\\n- reference_id: NoneType\\n- reference_classes: NoneType&quot;}}}, {&quot;data&quot;: {&quot;id&quot;: 3192839435280, &quot;label&quot;: &quot;Paragraph&quot;, &quot;priority&quot;: 9, &quot;details&quot;: {&quot;Parameters&quot;: &quot;- content: List\\n- reference_id: NoneType\\n- reference_classes: NoneType&quot;}}}, {&quot;data&quot;: {&quot;id&quot;: 3192839572560, &quot;label&quot;: &quot;Paragraph&quot;, &quot;priority&quot;: 10, &quot;details&quot;: {&quot;Parameters&quot;: &quot;- content: List\\n- reference_id: NoneType\\n- reference_classes: NoneType&quot;}}}, {&quot;data&quot;: {&quot;id&quot;: 3192839452368, &quot;label&quot;: &quot;Template&quot;, &quot;priority&quot;: 11, &quot;details&quot;: {&quot;Parameters&quot;: &quot;- content: Input: {{{input}}}\\nOutput:\\n\\n- reference_id: NoneType\\n- reference_classes: NoneType&quot;}}}], &quot;edges&quot;: [{&quot;data&quot;: {&quot;target&quot;: 3192839559632, &quot;source&quot;: 3192839557008}}, {&quot;data&quot;: {&quot;target&quot;: 3192839557008, &quot;source&quot;: 3192839572368}}, {&quot;data&quot;: {&quot;target&quot;: 3192839572368, &quot;source&quot;: 3192837339536}}, {&quot;data&quot;: {&quot;target&quot;: 3192839572368, &quot;source&quot;: 3192838675536}}, {&quot;data&quot;: {&quot;target&quot;: 3192839572368, &quot;source&quot;: 3192838678352}}, {&quot;data&quot;: {&quot;target&quot;: 3192839572368, &quot;source&quot;: 3192839572112}}, {&quot;data&quot;: {&quot;target&quot;: 3192837339536, &quot;source&quot;: 3192838669264}}, {&quot;data&quot;: {&quot;target&quot;: 3192838675536, &quot;source&quot;: 3192838673808}}, {&quot;data&quot;: {&quot;target&quot;: 3192838675536, &quot;source&quot;: 3192839435280}}, {&quot;data&quot;: {&quot;target&quot;: 3192839572112, &quot;source&quot;: 3192839572560}}, {&quot;data&quot;: {&quot;target&quot;: 3192839572560, &quot;source&quot;: 3192839452368}}], &quot;node-color&quot;: &quot;white&quot;, &quot;node-border&quot;: 1};\n",
       "\n",
       "  var cy = cytoscape({\n",
       "    container: document.getElementById(&#x27;graph&#x27;),\n",
       "    style: cytoscape.stylesheet().selector(&#x27;node&#x27;).style({\n",
       "      &#x27;content&#x27;: &#x27;data(label)&#x27;,\n",
       "\t  &#x27;background-color&#x27;: DATA[&#x27;node-color&#x27;] || &#x27;Teal&#x27;,\n",
       "\t  &#x27;border-width&#x27;: DATA[&#x27;node-border&#x27;] || 0,\n",
       "    }).selector(&#x27;:selected&#x27;).style({&#x27;background-color&#x27;: &#x27;Turquoise&#x27;}).selector(&#x27;edge&#x27;).style({\n",
       "      &#x27;curve-style&#x27;: &#x27;bezier&#x27;,\n",
       "      &#x27;target-arrow-shape&#x27;: &#x27;triangle&#x27;,\n",
       "      &#x27;width&#x27;: 1,\n",
       "      &#x27;line-color&#x27;: &#x27;black&#x27;,\n",
       "      &#x27;target-arrow-color&#x27;: &#x27;black&#x27;\n",
       "    }),\n",
       "    elements: DATA,\n",
       "    wheelSensitivity: 0.3,\n",
       "    layout: {\n",
       "      name: &#x27;breadthfirst&#x27;,\n",
       "      directed: true,\n",
       "      depthSort: function(a, b){ return a.data(&#x27;priority&#x27;) - b.data(&#x27;priority&#x27;) }\n",
       "    }\n",
       "  });\n",
       "\n",
       "  function resizeCyto() {\n",
       "    cy.resize();\n",
       "    cy.fit();\n",
       "  }\n",
       "\n",
       "  function escapeHTML(str){\n",
       "    return new Option(str).innerHTML;\n",
       "  }\n",
       "\n",
       "  window.addEventListener(&#x27;resize&#x27;, resizeCyto);\n",
       "  cy.on(&#x27;tap&#x27;, &#x27;node&#x27;, function(evt) {\n",
       "    const node = evt.target;\n",
       "    const details = node.data(&#x27;details&#x27;);\n",
       "    const info = document.getElementById(&#x27;info&#x27;);\n",
       "    info.innerHTML = &#x27;&#x27;;\n",
       "\n",
       "    if (!details) {\n",
       "        info.innerHTML = &quot;&lt;div&gt;Node has no metadata.&lt;/div&gt;&quot;;\n",
       "    } else if (typeof details === &#x27;object&#x27; &amp;&amp; !Array.isArray(details)) {\n",
       "        Object.entries(details).forEach(([key, value]) =&gt; {\n",
       "            info.innerHTML += `&lt;div&gt;${escapeHTML(key)}&lt;/div&gt;&lt;pre&gt;${escapeHTML(value)}&lt;/pre&gt;`;\n",
       "        });\n",
       "    } else {\n",
       "        info.innerHTML = `&lt;pre&gt;${escapeHTML(details)}&lt;/pre&gt;`;\n",
       "    }\n",
       "  });\n",
       "  &lt;/script&gt;\n",
       "&lt;/body&gt;\n",
       "\n",
       "&lt;/html&gt;\n",
       "\" width=\"100%\" height=\"300px\"'\n",
       "            \"allowfullscreen\" style=\"border:1px solid #e0e0e0; box-sizing: border-box;\">\n",
       "            </iframe>"
      ],
      "text/plain": [
       "<sammo.utils.HtmlRenderer at 0x2e7640c0150>"
      ]
     },
     "execution_count": 29,
     "metadata": {},
     "output_type": "execute_result"
    }
   ],
   "source": [
    "prompt_optimizer.best_prompt.plot_program()"
   ]
  }
 ],
 "metadata": {
  "kernelspec": {
   "display_name": "Python 3 (ipykernel)",
   "language": "python",
   "name": "python3"
  },
  "language_info": {
   "codemirror_mode": {
    "name": "ipython",
    "version": 3
   },
   "file_extension": ".py",
   "mimetype": "text/x-python",
   "name": "python",
   "nbconvert_exporter": "python",
   "pygments_lexer": "ipython3",
   "version": "3.11.9"
  },
  "widgets": {
   "application/vnd.jupyter.widget-state+json": {
    "state": {},
    "version_major": 2,
    "version_minor": 0
   }
  }
 },
 "nbformat": 4,
 "nbformat_minor": 4
}
