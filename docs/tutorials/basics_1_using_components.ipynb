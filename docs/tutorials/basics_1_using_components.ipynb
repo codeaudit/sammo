{
 "cells": [
  {
   "cell_type": "code",
   "execution_count": 15,
   "metadata": {
    "editable": true,
    "slideshow": {
     "slide_type": ""
    },
    "tags": [
     "remove-cell"
    ]
   },
   "outputs": [],
   "source": [
    "# Load from parent directory if not installed\n",
    "import importlib\n",
    "import os\n",
    "\n",
    "if not importlib.util.find_spec(\"sammo\"):\n",
    "    import sys\n",
    "\n",
    "    sys.path.append(\"../../\")"
   ]
  },
  {
   "cell_type": "markdown",
   "metadata": {
    "editable": true,
    "slideshow": {
     "slide_type": ""
    },
    "tags": []
   },
   "source": [
    "# Components\n",
    "\n",
    "In this tutorial, we'll go into more depth around the building blocks of SPPs -- components. \n",
    "\n",
    "As mentioned before, symbolic prompt programs are essentially graphs of components that are evaluated lazily with `.run*` methods. "
   ]
  },
  {
   "cell_type": "code",
   "execution_count": 2,
   "metadata": {
    "editable": true,
    "slideshow": {
     "slide_type": ""
    },
    "tags": [
     "hide-input"
    ]
   },
   "outputs": [],
   "source": [
    "# %load -r 3:25 _init.py\n",
    "import pathlib\n",
    "import sammo\n",
    "from sammo.runners import OpenAIChat\n",
    "from sammo.base import Template, EvaluationScore\n",
    "from sammo.components import Output, GenerateText, ForEach, Union\n",
    "from sammo.extractors import ExtractRegex\n",
    "from sammo.data import DataTable\n",
    "import json\n",
    "import requests\n",
    "import os\n",
    "\n",
    "if not 'OPENAI_API_KEY' in os.environ:\n",
    "    raise ValueError(\"Please set the environment variable 'OPENAI_API_KEY'.\")\n",
    "\n",
    "_ = sammo.setup_logger(\"WARNING\")  # we're only interested in warnings for now\n",
    "\n",
    "runner = OpenAIChat(\n",
    "    model_id=\"gpt-3.5-turbo\",\n",
    "    api_config={\"api_key\": os.environ['OPENAI_API_KEY']},\n",
    "    cache=os.getenv(\"CACHE_FILE\", \"cache.tsv\"),\n",
    "    timeout=30,\n",
    ")"
   ]
  },
  {
   "cell_type": "markdown",
   "metadata": {},
   "source": [
    "## What is a component, actually?\n",
    "\n",
    "A component is simply a lazily evaluated function that gets information from its parents, calls its children, performs some operation on the values and returns a `Result` instance.\n",
    "\n",
    "To better understand the details, let's write our own component that sorts the output of its child node."
   ]
  },
  {
   "cell_type": "code",
   "execution_count": 3,
   "metadata": {},
   "outputs": [],
   "source": [
    "from sammo.base import Result, Component, Runner, VerbatimText\n",
    "from frozendict import frozendict\n",
    "\n",
    "class Sort(Component):\n",
    "    async def _call(self, runner: Runner, context: dict, dynamic_context: frozendict | None) -> Result:\n",
    "        intermediate_result = await self._child(runner, context, dynamic_context)\n",
    "        return Result([sorted(intermediate_result.value)], parent=intermediate_result, op=self)"
   ]
  },
  {
   "cell_type": "markdown",
   "metadata": {},
   "source": [
    "Pretty straightforward! We pass on the intermediate result as a parent as well as a reference to self.\n",
    "\n",
    "Let's try it out!"
   ]
  },
  {
   "cell_type": "code",
   "execution_count": 4,
   "metadata": {
    "editable": true,
    "slideshow": {
     "slide_type": ""
    },
    "tags": []
   },
   "outputs": [
    {
     "data": {
      "text/plain": [
       "+---------+-----------------------------+\n",
       "| input   | output                      |\n",
       "+=========+=============================+\n",
       "| None    | [['a', 'd', 'd', 'f', 'z']] |\n",
       "+---------+-----------------------------+\n",
       "Constants: None"
      ]
     },
     "execution_count": 4,
     "metadata": {},
     "output_type": "execute_result"
    }
   ],
   "source": [
    "sorted_text = Output(Sort(VerbatimText(\"zdadf\"))).run(runner)\n",
    "sorted_text"
   ]
  },
  {
   "cell_type": "markdown",
   "metadata": {},
   "source": [
    "Because we passed on a reference to self, we can easily follow the call trace."
   ]
  },
  {
   "cell_type": "code",
   "execution_count": 5,
   "metadata": {},
   "outputs": [
    {
     "data": {
      "text/html": [
       "            <iframe srcdoc=\"\n",
       "&lt;!DOCTYPE html&gt;\n",
       "&lt;html lang=&quot;en&quot;&gt;\n",
       "\n",
       "&lt;head&gt;\n",
       "  &lt;style&gt;\n",
       "  body,\n",
       "  html {\n",
       "    margin: 0;\n",
       "    height: 100%;\n",
       "    width: 100%;\n",
       "  }\n",
       "\n",
       "  .split {\n",
       "    display: flex;\n",
       "    flex-direction: row;\n",
       "    height: 100%;\n",
       "    overflow: hidden;\n",
       "  }\n",
       "  .gutter {\n",
       "    background-color: #eee;\n",
       "    background-repeat: no-repeat;\n",
       "    background-position: 50%;\n",
       "  }\n",
       "\n",
       "  .gutter.gutter-horizontal {\n",
       "    background-image: url(&#x27;data:image/png;base64,iVBORw0KGgoAAAANSUhEUgAAAAUAAAAeCAYAAADkftS9AAAAIklEQVQoU2M4c+bMfxAGAgYYmwGrIIiDjrELjpo5aiZeMwF+yNnOs5KSvgAAAABJRU5ErkJggg==&#x27;);\n",
       "    cursor: col-resize;\n",
       "  }\n",
       "  #info {\n",
       "\toverflow-y: auto;\n",
       "  }\n",
       "  #info div {\n",
       "    font-family: Helvetica, sans-serif;\n",
       "    font-weight: 600;\n",
       "    text-transform: uppercase;\n",
       "    background-color: #d6d8d9;\n",
       "    color: #616161;\n",
       "    font-size: 11px;\n",
       "    padding: 6px;\n",
       "  }\n",
       "  pre {\n",
       "\twhite-space: pre-wrap;\n",
       "\tpadding: 6px;\n",
       "\tbackground-color: #f9f9f9;\n",
       "\tmargin: 0;\n",
       "\tfont-size: 12px;\n",
       "  }\n",
       "  &lt;/style&gt;\n",
       "  &lt;meta charset=&quot;utf-8&quot; /&gt;\n",
       "  &lt;title&gt;Callgraph&lt;/title&gt;\n",
       "  &lt;script src=&quot;https://cdnjs.cloudflare.com/ajax/libs/cytoscape/3.26.0/cytoscape.min.js&quot;&gt;&lt;/script&gt;\n",
       "  &lt;script src=&quot;https://cdnjs.cloudflare.com/ajax/libs/split.js/1.6.0/split.min.js&quot;&gt;&lt;/script&gt;\n",
       "&lt;/head&gt;\n",
       "\n",
       "&lt;body&gt;\n",
       "  &lt;div class=&quot;split&quot;&gt;\n",
       "    &lt;div id=&quot;info&quot;&gt;&lt;pre&gt;Click on node for details.&lt;/pre&gt;&lt;/div&gt;\n",
       "    &lt;div id=&quot;graph&quot;&gt;&lt;/div&gt;\n",
       "  &lt;/div&gt;\n",
       "  &lt;script&gt;\n",
       "  Split([&#x27;#info&#x27;, &#x27;#graph&#x27;], {\n",
       "    sizes: [20, 80],\n",
       "    minSize: [150, 0],\n",
       "    onDragEnd: resizeCyto\n",
       "  });\n",
       "  const DATA = {&quot;nodes&quot;: [{&quot;data&quot;: {&quot;id&quot;: 1867340638704, &quot;label&quot;: &quot;Output&quot;, &quot;priority&quot;: 0, &quot;details&quot;: {&quot;Output&quot;: [[&quot;a&quot;, &quot;d&quot;, &quot;d&quot;, &quot;f&quot;, &quot;z&quot;]], &quot;Parameters&quot;: &quot;- child: Sort\\n- minibatch_size: 1\\n- on_error: raise&quot;}}}, {&quot;data&quot;: {&quot;id&quot;: 1867341470784, &quot;label&quot;: &quot;Sort&quot;, &quot;priority&quot;: 1, &quot;details&quot;: {&quot;Output&quot;: [[&quot;a&quot;, &quot;d&quot;, &quot;d&quot;, &quot;f&quot;, &quot;z&quot;]], &quot;Parameters&quot;: &quot;- child: VerbatimText\\n- reference_id: None\\n- reference_classes: None&quot;}}}, {&quot;data&quot;: {&quot;id&quot;: 1867340638608, &quot;label&quot;: &quot;VerbatimText&quot;, &quot;priority&quot;: 2, &quot;details&quot;: {&quot;Output&quot;: &quot;zdadf&quot;, &quot;Parameters&quot;: &quot;- content: zdadf\\n- reference_id: None\\n- reference_classes: None&quot;}}}], &quot;edges&quot;: [{&quot;data&quot;: {&quot;target&quot;: 1867340638704, &quot;source&quot;: 1867341470784}}, {&quot;data&quot;: {&quot;target&quot;: 1867341470784, &quot;source&quot;: 1867340638608}}]};\n",
       "\n",
       "  var cy = cytoscape({\n",
       "    container: document.getElementById(&#x27;graph&#x27;),\n",
       "    style: cytoscape.stylesheet().selector(&#x27;node&#x27;).style({\n",
       "      &#x27;content&#x27;: &#x27;data(label)&#x27;,\n",
       "\t  &#x27;background-color&#x27;: DATA[&#x27;node-color&#x27;] || &#x27;Teal&#x27;,\n",
       "\t  &#x27;border-width&#x27;: DATA[&#x27;node-border&#x27;] || 0,\n",
       "    }).selector(&#x27;:selected&#x27;).style({&#x27;background-color&#x27;: &#x27;Turquoise&#x27;}).selector(&#x27;edge&#x27;).style({\n",
       "      &#x27;curve-style&#x27;: &#x27;bezier&#x27;,\n",
       "      &#x27;target-arrow-shape&#x27;: &#x27;triangle&#x27;,\n",
       "      &#x27;width&#x27;: 1,\n",
       "      &#x27;line-color&#x27;: &#x27;black&#x27;,\n",
       "      &#x27;target-arrow-color&#x27;: &#x27;black&#x27;\n",
       "    }),\n",
       "    elements: DATA,\n",
       "    wheelSensitivity: 0.3,\n",
       "    layout: {\n",
       "      name: &#x27;breadthfirst&#x27;,\n",
       "      directed: true,\n",
       "      depthSort: function(a, b){ return a.data(&#x27;priority&#x27;) - b.data(&#x27;priority&#x27;) }\n",
       "    }\n",
       "  });\n",
       "\n",
       "  function resizeCyto() {\n",
       "    cy.resize();\n",
       "    cy.fit();\n",
       "  }\n",
       "\n",
       "  function escapeHTML(str){\n",
       "    return new Option(str).innerHTML;\n",
       "  }\n",
       "\n",
       "  window.addEventListener(&#x27;resize&#x27;, resizeCyto);\n",
       "  cy.on(&#x27;tap&#x27;, &#x27;node&#x27;, function(evt) {\n",
       "    const node = evt.target;\n",
       "    const details = node.data(&#x27;details&#x27;);\n",
       "    const info = document.getElementById(&#x27;info&#x27;);\n",
       "    info.innerHTML = &#x27;&#x27;;\n",
       "\n",
       "    if (!details) {\n",
       "        info.innerHTML = &quot;&lt;div&gt;Node has no metadata.&lt;/div&gt;&quot;;\n",
       "    } else if (typeof details === &#x27;object&#x27; &amp;&amp; !Array.isArray(details)) {\n",
       "        Object.entries(details).forEach(([key, value]) =&gt; {\n",
       "            info.innerHTML += `&lt;div&gt;${escapeHTML(key)}&lt;/div&gt;&lt;pre&gt;${escapeHTML(value)}&lt;/pre&gt;`;\n",
       "        });\n",
       "    } else {\n",
       "        info.innerHTML = `&lt;pre&gt;${escapeHTML(details)}&lt;/pre&gt;`;\n",
       "    }\n",
       "  });\n",
       "  &lt;/script&gt;\n",
       "&lt;/body&gt;\n",
       "\n",
       "&lt;/html&gt;\n",
       "\" width=\"100%\" height=\"300px\"'\n",
       "            \"allowfullscreen\" style=\"border:1px solid #e0e0e0; box-sizing: border-box;\">\n",
       "            </iframe>"
      ],
      "text/plain": [
       "<sammo.utils.HtmlRenderer at 0x1b2c6368c10>"
      ]
     },
     "execution_count": 5,
     "metadata": {},
     "output_type": "execute_result"
    }
   ],
   "source": [
    "sorted_text.outputs[0].plot_call_trace()"
   ]
  },
  {
   "cell_type": "markdown",
   "metadata": {
    "editable": true,
    "slideshow": {
     "slide_type": ""
    },
    "tags": []
   },
   "source": [
    "### Shortcut: LamdaExtractor\n",
    "\n",
    "The most flexibile solution to implement a custom function is writing your own `Component` which we did above. In many cases, however, it is enough to use a `LambdaExtractor` to apply a user-defined function (UDF)."
   ]
  },
  {
   "cell_type": "code",
   "execution_count": 6,
   "metadata": {
    "editable": true,
    "slideshow": {
     "slide_type": ""
    },
    "tags": []
   },
   "outputs": [
    {
     "data": {
      "text/plain": [
       "+---------+-----------------------------+\n",
       "| input   | output                      |\n",
       "+=========+=============================+\n",
       "| None    | [['a', 'd', 'd', 'f', 'z']] |\n",
       "+---------+-----------------------------+\n",
       "Constants: None"
      ]
     },
     "execution_count": 6,
     "metadata": {},
     "output_type": "execute_result"
    }
   ],
   "source": [
    "from sammo.extractors import LambdaExtractor\n",
    "\n",
    "sorted_text_udf = Output(LambdaExtractor(VerbatimText(\"zdadf\"), \"lambda x: sorted(x)\")).run(runner)\n",
    "sorted_text_udf"
   ]
  },
  {
   "cell_type": "markdown",
   "metadata": {},
   "source": [
    "## Calling an LLM\n",
    "\n",
    "Perhaps the most important component is `GenerateText()` which calls an LLM to generate a response.\n",
    "\n",
    "Using it is fairly straightforward."
   ]
  },
  {
   "cell_type": "code",
   "execution_count": 7,
   "metadata": {
    "editable": true,
    "slideshow": {
     "slide_type": ""
    },
    "tags": []
   },
   "outputs": [
    {
     "data": {
      "text/plain": [
       "+---------+--------------------------------------------------------------+\n",
       "| input   | output                                                       |\n",
       "+=========+==============================================================+\n",
       "| None    | Hark! Good morrow, fair Peter! Thy name doth ring sweetly in |\n",
       "|         | mine ears. Dost thou fancy the noble steeds that roam the    |\n",
       "|         | fields? Verily, horses are a wondrous creature, full of      |\n",
       "|         | grace and strength. Pray, tell me more of thy love for these |\n",
       "|         | majestic beasts.                                             |\n",
       "+---------+--------------------------------------------------------------+\n",
       "Constants: None"
      ]
     },
     "execution_count": 7,
     "metadata": {},
     "output_type": "execute_result"
    }
   ],
   "source": [
    "first = GenerateText(\n",
    "    \"Hello! My name is Peter and I like horses.\",\n",
    "    system_prompt=\"Talk like Shakespeare.\",\n",
    ")\n",
    "Output(first).run(runner)"
   ]
  },
  {
   "cell_type": "markdown",
   "metadata": {},
   "source": [
    "To pass on history, you can use the `history` argument:"
   ]
  },
  {
   "cell_type": "code",
   "execution_count": 8,
   "metadata": {},
   "outputs": [
    {
     "data": {
      "text/plain": [
       "+---------+------------------------------------------------------------+\n",
       "| input   | output                                                     |\n",
       "+=========+============================================================+\n",
       "| None    | In fields of green, the horse doth roam, With flowing mane |\n",
       "|         | and spirit bold. A creature fair, a sight to behold, In my |\n",
       "|         | heart, its beauty finds a home.                            |\n",
       "+---------+------------------------------------------------------------+\n",
       "Constants: None"
      ]
     },
     "execution_count": 8,
     "metadata": {},
     "output_type": "execute_result"
    }
   ],
   "source": [
    "second = GenerateText(\"Write a four line poem about my favorite animal.\", history=first)\n",
    "poem = Output(second).run(runner)\n",
    "poem"
   ]
  },
  {
   "cell_type": "markdown",
   "metadata": {},
   "source": [
    "When we plot the call trace, we can see that adding history is reflected in the dependencies:"
   ]
  },
  {
   "cell_type": "code",
   "execution_count": 9,
   "metadata": {},
   "outputs": [
    {
     "data": {
      "text/html": [
       "            <iframe srcdoc=\"\n",
       "&lt;!DOCTYPE html&gt;\n",
       "&lt;html lang=&quot;en&quot;&gt;\n",
       "\n",
       "&lt;head&gt;\n",
       "  &lt;style&gt;\n",
       "  body,\n",
       "  html {\n",
       "    margin: 0;\n",
       "    height: 100%;\n",
       "    width: 100%;\n",
       "  }\n",
       "\n",
       "  .split {\n",
       "    display: flex;\n",
       "    flex-direction: row;\n",
       "    height: 100%;\n",
       "    overflow: hidden;\n",
       "  }\n",
       "  .gutter {\n",
       "    background-color: #eee;\n",
       "    background-repeat: no-repeat;\n",
       "    background-position: 50%;\n",
       "  }\n",
       "\n",
       "  .gutter.gutter-horizontal {\n",
       "    background-image: url(&#x27;data:image/png;base64,iVBORw0KGgoAAAANSUhEUgAAAAUAAAAeCAYAAADkftS9AAAAIklEQVQoU2M4c+bMfxAGAgYYmwGrIIiDjrELjpo5aiZeMwF+yNnOs5KSvgAAAABJRU5ErkJggg==&#x27;);\n",
       "    cursor: col-resize;\n",
       "  }\n",
       "  #info {\n",
       "\toverflow-y: auto;\n",
       "  }\n",
       "  #info div {\n",
       "    font-family: Helvetica, sans-serif;\n",
       "    font-weight: 600;\n",
       "    text-transform: uppercase;\n",
       "    background-color: #d6d8d9;\n",
       "    color: #616161;\n",
       "    font-size: 11px;\n",
       "    padding: 6px;\n",
       "  }\n",
       "  pre {\n",
       "\twhite-space: pre-wrap;\n",
       "\tpadding: 6px;\n",
       "\tbackground-color: #f9f9f9;\n",
       "\tmargin: 0;\n",
       "\tfont-size: 12px;\n",
       "  }\n",
       "  &lt;/style&gt;\n",
       "  &lt;meta charset=&quot;utf-8&quot; /&gt;\n",
       "  &lt;title&gt;Callgraph&lt;/title&gt;\n",
       "  &lt;script src=&quot;https://cdnjs.cloudflare.com/ajax/libs/cytoscape/3.26.0/cytoscape.min.js&quot;&gt;&lt;/script&gt;\n",
       "  &lt;script src=&quot;https://cdnjs.cloudflare.com/ajax/libs/split.js/1.6.0/split.min.js&quot;&gt;&lt;/script&gt;\n",
       "&lt;/head&gt;\n",
       "\n",
       "&lt;body&gt;\n",
       "  &lt;div class=&quot;split&quot;&gt;\n",
       "    &lt;div id=&quot;info&quot;&gt;&lt;pre&gt;Click on node for details.&lt;/pre&gt;&lt;/div&gt;\n",
       "    &lt;div id=&quot;graph&quot;&gt;&lt;/div&gt;\n",
       "  &lt;/div&gt;\n",
       "  &lt;script&gt;\n",
       "  Split([&#x27;#info&#x27;, &#x27;#graph&#x27;], {\n",
       "    sizes: [20, 80],\n",
       "    minSize: [150, 0],\n",
       "    onDragEnd: resizeCyto\n",
       "  });\n",
       "  const DATA = {&quot;nodes&quot;: [{&quot;data&quot;: {&quot;id&quot;: 1867340547472, &quot;label&quot;: &quot;Output&quot;, &quot;priority&quot;: 0, &quot;details&quot;: {&quot;Output&quot;: &quot;In fields of green, the horse doth roam,\\nWith flowing mane and spirit bold.\\nA creature fair, a sight to behold,\\nIn my heart, its beauty finds a home.&quot;, &quot;Parameters&quot;: &quot;- child: GenerateText\\n- minibatch_size: 1\\n- on_error: raise&quot;}}}, {&quot;data&quot;: {&quot;id&quot;: 1867340568112, &quot;label&quot;: &quot;GenerateText&quot;, &quot;priority&quot;: 1, &quot;details&quot;: {&quot;Output&quot;: &quot;In fields of green, the horse doth roam,\\nWith flowing mane and spirit bold.\\nA creature fair, a sight to behold,\\nIn my heart, its beauty finds a home.&quot;, &quot;Parameters&quot;: &quot;- child: Write a four line poem about my favorite animal.\\n- reference_id: None\\n- system_prompt: None\\n- history: GenerateText\\n- seed: 0\\n- randomness: 0\\n- max_tokens: None\\n- json_mode: False\\n- on_error: empty_result\\n- runner: None&quot;}}}, {&quot;data&quot;: {&quot;id&quot;: 1867340547568, &quot;label&quot;: &quot;VerbatimText&quot;, &quot;priority&quot;: 2, &quot;details&quot;: {&quot;Output&quot;: &quot;Write a four line poem about my favorite animal.&quot;, &quot;Parameters&quot;: &quot;- content: Write a four line poem about my favorite animal.\\n- reference_id: None\\n- reference_classes: None&quot;}}}, {&quot;data&quot;: {&quot;id&quot;: 1867340567952, &quot;label&quot;: &quot;GenerateText&quot;, &quot;priority&quot;: 3, &quot;details&quot;: {&quot;Output&quot;: &quot;Hark! Good morrow, fair Peter! Thy name doth ring sweetly in mine ears. Dost thou fancy the noble steeds that roam the fields? Verily, horses are a wondrous creature, full of grace and strength. Pray, tell me more of thy love for these majestic beasts.&quot;, &quot;Parameters&quot;: &quot;- child: Hello! My name is Peter and I like horses.\\n- reference_id: None\\n- system_prompt: Talk like Shakespeare.\\n- history: None\\n- seed: 0\\n- randomness: 0\\n- max_tokens: None\\n- json_mode: False\\n- on_error: empty_result\\n- runner: None&quot;}}}, {&quot;data&quot;: {&quot;id&quot;: 1867340547184, &quot;label&quot;: &quot;VerbatimText&quot;, &quot;priority&quot;: 4, &quot;details&quot;: {&quot;Output&quot;: &quot;Hello! My name is Peter and I like horses.&quot;, &quot;Parameters&quot;: &quot;- content: Hello! My name is Peter and I like horses.\\n- reference_id: None\\n- reference_classes: None&quot;}}}], &quot;edges&quot;: [{&quot;data&quot;: {&quot;target&quot;: 1867340547472, &quot;source&quot;: 1867340568112}}, {&quot;data&quot;: {&quot;target&quot;: 1867340568112, &quot;source&quot;: 1867340547568}}, {&quot;data&quot;: {&quot;target&quot;: 1867340568112, &quot;source&quot;: 1867340567952}}, {&quot;data&quot;: {&quot;target&quot;: 1867340567952, &quot;source&quot;: 1867340547184}}]};\n",
       "\n",
       "  var cy = cytoscape({\n",
       "    container: document.getElementById(&#x27;graph&#x27;),\n",
       "    style: cytoscape.stylesheet().selector(&#x27;node&#x27;).style({\n",
       "      &#x27;content&#x27;: &#x27;data(label)&#x27;,\n",
       "\t  &#x27;background-color&#x27;: DATA[&#x27;node-color&#x27;] || &#x27;Teal&#x27;,\n",
       "\t  &#x27;border-width&#x27;: DATA[&#x27;node-border&#x27;] || 0,\n",
       "    }).selector(&#x27;:selected&#x27;).style({&#x27;background-color&#x27;: &#x27;Turquoise&#x27;}).selector(&#x27;edge&#x27;).style({\n",
       "      &#x27;curve-style&#x27;: &#x27;bezier&#x27;,\n",
       "      &#x27;target-arrow-shape&#x27;: &#x27;triangle&#x27;,\n",
       "      &#x27;width&#x27;: 1,\n",
       "      &#x27;line-color&#x27;: &#x27;black&#x27;,\n",
       "      &#x27;target-arrow-color&#x27;: &#x27;black&#x27;\n",
       "    }),\n",
       "    elements: DATA,\n",
       "    wheelSensitivity: 0.3,\n",
       "    layout: {\n",
       "      name: &#x27;breadthfirst&#x27;,\n",
       "      directed: true,\n",
       "      depthSort: function(a, b){ return a.data(&#x27;priority&#x27;) - b.data(&#x27;priority&#x27;) }\n",
       "    }\n",
       "  });\n",
       "\n",
       "  function resizeCyto() {\n",
       "    cy.resize();\n",
       "    cy.fit();\n",
       "  }\n",
       "\n",
       "  function escapeHTML(str){\n",
       "    return new Option(str).innerHTML;\n",
       "  }\n",
       "\n",
       "  window.addEventListener(&#x27;resize&#x27;, resizeCyto);\n",
       "  cy.on(&#x27;tap&#x27;, &#x27;node&#x27;, function(evt) {\n",
       "    const node = evt.target;\n",
       "    const details = node.data(&#x27;details&#x27;);\n",
       "    const info = document.getElementById(&#x27;info&#x27;);\n",
       "    info.innerHTML = &#x27;&#x27;;\n",
       "\n",
       "    if (!details) {\n",
       "        info.innerHTML = &quot;&lt;div&gt;Node has no metadata.&lt;/div&gt;&quot;;\n",
       "    } else if (typeof details === &#x27;object&#x27; &amp;&amp; !Array.isArray(details)) {\n",
       "        Object.entries(details).forEach(([key, value]) =&gt; {\n",
       "            info.innerHTML += `&lt;div&gt;${escapeHTML(key)}&lt;/div&gt;&lt;pre&gt;${escapeHTML(value)}&lt;/pre&gt;`;\n",
       "        });\n",
       "    } else {\n",
       "        info.innerHTML = `&lt;pre&gt;${escapeHTML(details)}&lt;/pre&gt;`;\n",
       "    }\n",
       "  });\n",
       "  &lt;/script&gt;\n",
       "&lt;/body&gt;\n",
       "\n",
       "&lt;/html&gt;\n",
       "\" width=\"100%\" height=\"300px\"'\n",
       "            \"allowfullscreen\" style=\"border:1px solid #e0e0e0; box-sizing: border-box;\">\n",
       "            </iframe>"
      ],
      "text/plain": [
       "<sammo.utils.HtmlRenderer at 0x1b2c6354c10>"
      ]
     },
     "execution_count": 9,
     "metadata": {},
     "output_type": "execute_result"
    }
   ],
   "source": [
    "poem.outputs[0].plot_call_trace()"
   ]
  },
  {
   "attachments": {},
   "cell_type": "markdown",
   "metadata": {
    "editable": true,
    "slideshow": {
     "slide_type": ""
    },
    "tags": []
   },
   "source": [
    "## Loops\n",
    "\n",
    "Loops are only needed if you need to loop over anything *beyond* all inputs. More on this in the next section on parallelization.\n",
    "\n",
    "### Static loops\n",
    "A common use case for this is when we want to repeat certain operations for a known number of times, e.g., sample LLM responses *N* times."
   ]
  },
  {
   "cell_type": "code",
   "execution_count": 10,
   "metadata": {
    "editable": true,
    "slideshow": {
     "slide_type": ""
    },
    "tags": []
   },
   "outputs": [
    {
     "data": {
      "text/plain": [
       "+---------+-----------------------------------------------------------+\n",
       "| input   | output                                                    |\n",
       "+=========+===========================================================+\n",
       "| None    | ['Honeydewberry', 'Starfruit', 'Lemonberry', 'Starfruit', |\n",
       "|         | 'Mangosteen.']                                            |\n",
       "+---------+-----------------------------------------------------------+\n",
       "Constants: None"
      ]
     },
     "execution_count": 10,
     "metadata": {},
     "output_type": "execute_result"
    }
   ],
   "source": [
    "N = 5\n",
    "fruits = [\n",
    "    GenerateText(\"Generate the name of a random fruit.\", randomness=0.9, seed=i)\n",
    "    for i in range(N)\n",
    "]\n",
    "static_loop = Output(Union(*fruits))\n",
    "static_loop.run(runner)"
   ]
  },
  {
   "cell_type": "markdown",
   "metadata": {},
   "source": [
    "Starfruit wins.\n",
    "\n",
    "```{note}\n",
    "We had to set `seed` to a different value in each `GenerateText` instance to disable local caching. Otherwise, we would get the same answer 5 times.\n",
    "```"
   ]
  },
  {
   "cell_type": "code",
   "execution_count": 11,
   "metadata": {},
   "outputs": [
    {
     "data": {
      "text/html": [
       "            <iframe srcdoc=\"\n",
       "&lt;!DOCTYPE html&gt;\n",
       "&lt;html lang=&quot;en&quot;&gt;\n",
       "\n",
       "&lt;head&gt;\n",
       "  &lt;style&gt;\n",
       "  body,\n",
       "  html {\n",
       "    margin: 0;\n",
       "    height: 100%;\n",
       "    width: 100%;\n",
       "  }\n",
       "\n",
       "  .split {\n",
       "    display: flex;\n",
       "    flex-direction: row;\n",
       "    height: 100%;\n",
       "    overflow: hidden;\n",
       "  }\n",
       "  .gutter {\n",
       "    background-color: #eee;\n",
       "    background-repeat: no-repeat;\n",
       "    background-position: 50%;\n",
       "  }\n",
       "\n",
       "  .gutter.gutter-horizontal {\n",
       "    background-image: url(&#x27;data:image/png;base64,iVBORw0KGgoAAAANSUhEUgAAAAUAAAAeCAYAAADkftS9AAAAIklEQVQoU2M4c+bMfxAGAgYYmwGrIIiDjrELjpo5aiZeMwF+yNnOs5KSvgAAAABJRU5ErkJggg==&#x27;);\n",
       "    cursor: col-resize;\n",
       "  }\n",
       "  #info {\n",
       "\toverflow-y: auto;\n",
       "  }\n",
       "  #info div {\n",
       "    font-family: Helvetica, sans-serif;\n",
       "    font-weight: 600;\n",
       "    text-transform: uppercase;\n",
       "    background-color: #d6d8d9;\n",
       "    color: #616161;\n",
       "    font-size: 11px;\n",
       "    padding: 6px;\n",
       "  }\n",
       "  pre {\n",
       "\twhite-space: pre-wrap;\n",
       "\tpadding: 6px;\n",
       "\tbackground-color: #f9f9f9;\n",
       "\tmargin: 0;\n",
       "\tfont-size: 12px;\n",
       "  }\n",
       "  &lt;/style&gt;\n",
       "  &lt;meta charset=&quot;utf-8&quot; /&gt;\n",
       "  &lt;title&gt;Callgraph&lt;/title&gt;\n",
       "  &lt;script src=&quot;https://cdnjs.cloudflare.com/ajax/libs/cytoscape/3.26.0/cytoscape.min.js&quot;&gt;&lt;/script&gt;\n",
       "  &lt;script src=&quot;https://cdnjs.cloudflare.com/ajax/libs/split.js/1.6.0/split.min.js&quot;&gt;&lt;/script&gt;\n",
       "&lt;/head&gt;\n",
       "\n",
       "&lt;body&gt;\n",
       "  &lt;div class=&quot;split&quot;&gt;\n",
       "    &lt;div id=&quot;info&quot;&gt;&lt;pre&gt;Click on node for details.&lt;/pre&gt;&lt;/div&gt;\n",
       "    &lt;div id=&quot;graph&quot;&gt;&lt;/div&gt;\n",
       "  &lt;/div&gt;\n",
       "  &lt;script&gt;\n",
       "  Split([&#x27;#info&#x27;, &#x27;#graph&#x27;], {\n",
       "    sizes: [20, 80],\n",
       "    minSize: [150, 0],\n",
       "    onDragEnd: resizeCyto\n",
       "  });\n",
       "  const DATA = {&quot;nodes&quot;: [{&quot;data&quot;: {&quot;id&quot;: 1867341189968, &quot;label&quot;: &quot;Output&quot;, &quot;priority&quot;: 0, &quot;details&quot;: {&quot;Parameters&quot;: &quot;- child: Union\\n- minibatch_size: 1\\n- on_error: raise&quot;}}}, {&quot;data&quot;: {&quot;id&quot;: 1867341172880, &quot;label&quot;: &quot;Union&quot;, &quot;priority&quot;: 1, &quot;details&quot;: {&quot;Parameters&quot;: &quot;- children: [\\n  0 : GenerateText(\\n    child = &#x27;Generate the name of a random fruit.&#x27;,\\n    reference_id = None,\\n    system_prompt = None,\\n    history = None,\\n    seed = 0,\\n    randomness = 0.9,\\n    max_tokens = None,\\n    json_mode = False,\\n    on_error = &#x27;empty_result&#x27;,\\n    runner = None\\n  ),\\n  1 : GenerateText(\\n    child = &#x27;Generate the name of a random fruit.&#x27;,\\n    reference_id = None,\\n    system_prompt = None,\\n    history = None,\\n    seed = 1,\\n    randomness = 0.9,\\n    max_tokens = None,\\n    json_mode = False,\\n    on_error = &#x27;empty_result&#x27;,\\n    runner = None\\n  ),\\n  2 : GenerateText(\\n    child = &#x27;Generate the name of a random fruit.&#x27;,\\n    reference_id = None,\\n    system_prompt = None,\\n    history = None,\\n    seed = 2,\\n    randomness = 0.9,\\n    max_tokens = None,\\n    json_mode = False,\\n    on_error = &#x27;empty_result&#x27;,\\n    runner = None\\n  ),\\n  3 : GenerateText(\\n    child = &#x27;Generate the name of a random fruit.&#x27;,\\n    reference_id = None,\\n    system_prompt = None,\\n    history = None,\\n    seed = 3,\\n    randomness = 0.9,\\n    max_tokens = None,\\n    json_mode = False,\\n    on_error = &#x27;empty_result&#x27;,\\n    runner = None\\n  ),\\n  4 : GenerateText(\\n    child = &#x27;Generate the name of a random fruit.&#x27;,\\n    reference_id = None,\\n    system_prompt = None,\\n    history = None,\\n    seed = 4,\\n    randomness = 0.9,\\n    max_tokens = None,\\n    json_mode = False,\\n    on_error = &#x27;empty_result&#x27;,\\n    runner = None\\n  )\\n]\\n- reference_id: None&quot;}}}, {&quot;data&quot;: {&quot;id&quot;: 1867343221648, &quot;label&quot;: &quot;GenerateText&quot;, &quot;priority&quot;: 2, &quot;details&quot;: {&quot;Parameters&quot;: &quot;- child: Generate the name of a random fruit.\\n- reference_id: None\\n- system_prompt: None\\n- history: None\\n- seed: 0\\n- randomness: 0.9\\n- max_tokens: None\\n- json_mode: False\\n- on_error: empty_result\\n- runner: None&quot;}}}, {&quot;data&quot;: {&quot;id&quot;: 1867341479440, &quot;label&quot;: &quot;GenerateText&quot;, &quot;priority&quot;: 3, &quot;details&quot;: {&quot;Parameters&quot;: &quot;- child: Generate the name of a random fruit.\\n- reference_id: None\\n- system_prompt: None\\n- history: None\\n- seed: 1\\n- randomness: 0.9\\n- max_tokens: None\\n- json_mode: False\\n- on_error: empty_result\\n- runner: None&quot;}}}, {&quot;data&quot;: {&quot;id&quot;: 1867341185296, &quot;label&quot;: &quot;GenerateText&quot;, &quot;priority&quot;: 4, &quot;details&quot;: {&quot;Parameters&quot;: &quot;- child: Generate the name of a random fruit.\\n- reference_id: None\\n- system_prompt: None\\n- history: None\\n- seed: 2\\n- randomness: 0.9\\n- max_tokens: None\\n- json_mode: False\\n- on_error: empty_result\\n- runner: None&quot;}}}, {&quot;data&quot;: {&quot;id&quot;: 1867324060752, &quot;label&quot;: &quot;GenerateText&quot;, &quot;priority&quot;: 5, &quot;details&quot;: {&quot;Parameters&quot;: &quot;- child: Generate the name of a random fruit.\\n- reference_id: None\\n- system_prompt: None\\n- history: None\\n- seed: 3\\n- randomness: 0.9\\n- max_tokens: None\\n- json_mode: False\\n- on_error: empty_result\\n- runner: None&quot;}}}, {&quot;data&quot;: {&quot;id&quot;: 1867341185744, &quot;label&quot;: &quot;GenerateText&quot;, &quot;priority&quot;: 6, &quot;details&quot;: {&quot;Parameters&quot;: &quot;- child: Generate the name of a random fruit.\\n- reference_id: None\\n- system_prompt: None\\n- history: None\\n- seed: 4\\n- randomness: 0.9\\n- max_tokens: None\\n- json_mode: False\\n- on_error: empty_result\\n- runner: None&quot;}}}], &quot;edges&quot;: [{&quot;data&quot;: {&quot;target&quot;: 1867341189968, &quot;source&quot;: 1867341172880}}, {&quot;data&quot;: {&quot;target&quot;: 1867341172880, &quot;source&quot;: 1867343221648}}, {&quot;data&quot;: {&quot;target&quot;: 1867341172880, &quot;source&quot;: 1867341479440}}, {&quot;data&quot;: {&quot;target&quot;: 1867341172880, &quot;source&quot;: 1867341185296}}, {&quot;data&quot;: {&quot;target&quot;: 1867341172880, &quot;source&quot;: 1867324060752}}, {&quot;data&quot;: {&quot;target&quot;: 1867341172880, &quot;source&quot;: 1867341185744}}], &quot;node-color&quot;: &quot;white&quot;, &quot;node-border&quot;: 1};\n",
       "\n",
       "  var cy = cytoscape({\n",
       "    container: document.getElementById(&#x27;graph&#x27;),\n",
       "    style: cytoscape.stylesheet().selector(&#x27;node&#x27;).style({\n",
       "      &#x27;content&#x27;: &#x27;data(label)&#x27;,\n",
       "\t  &#x27;background-color&#x27;: DATA[&#x27;node-color&#x27;] || &#x27;Teal&#x27;,\n",
       "\t  &#x27;border-width&#x27;: DATA[&#x27;node-border&#x27;] || 0,\n",
       "    }).selector(&#x27;:selected&#x27;).style({&#x27;background-color&#x27;: &#x27;Turquoise&#x27;}).selector(&#x27;edge&#x27;).style({\n",
       "      &#x27;curve-style&#x27;: &#x27;bezier&#x27;,\n",
       "      &#x27;target-arrow-shape&#x27;: &#x27;triangle&#x27;,\n",
       "      &#x27;width&#x27;: 1,\n",
       "      &#x27;line-color&#x27;: &#x27;black&#x27;,\n",
       "      &#x27;target-arrow-color&#x27;: &#x27;black&#x27;\n",
       "    }),\n",
       "    elements: DATA,\n",
       "    wheelSensitivity: 0.3,\n",
       "    layout: {\n",
       "      name: &#x27;breadthfirst&#x27;,\n",
       "      directed: true,\n",
       "      depthSort: function(a, b){ return a.data(&#x27;priority&#x27;) - b.data(&#x27;priority&#x27;) }\n",
       "    }\n",
       "  });\n",
       "\n",
       "  function resizeCyto() {\n",
       "    cy.resize();\n",
       "    cy.fit();\n",
       "  }\n",
       "\n",
       "  function escapeHTML(str){\n",
       "    return new Option(str).innerHTML;\n",
       "  }\n",
       "\n",
       "  window.addEventListener(&#x27;resize&#x27;, resizeCyto);\n",
       "  cy.on(&#x27;tap&#x27;, &#x27;node&#x27;, function(evt) {\n",
       "    const node = evt.target;\n",
       "    const details = node.data(&#x27;details&#x27;);\n",
       "    const info = document.getElementById(&#x27;info&#x27;);\n",
       "    info.innerHTML = &#x27;&#x27;;\n",
       "\n",
       "    if (!details) {\n",
       "        info.innerHTML = &quot;&lt;div&gt;Node has no metadata.&lt;/div&gt;&quot;;\n",
       "    } else if (typeof details === &#x27;object&#x27; &amp;&amp; !Array.isArray(details)) {\n",
       "        Object.entries(details).forEach(([key, value]) =&gt; {\n",
       "            info.innerHTML += `&lt;div&gt;${escapeHTML(key)}&lt;/div&gt;&lt;pre&gt;${escapeHTML(value)}&lt;/pre&gt;`;\n",
       "        });\n",
       "    } else {\n",
       "        info.innerHTML = `&lt;pre&gt;${escapeHTML(details)}&lt;/pre&gt;`;\n",
       "    }\n",
       "  });\n",
       "  &lt;/script&gt;\n",
       "&lt;/body&gt;\n",
       "\n",
       "&lt;/html&gt;\n",
       "\" width=\"100%\" height=\"300px\"'\n",
       "            \"allowfullscreen\" style=\"border:1px solid #e0e0e0; box-sizing: border-box;\">\n",
       "            </iframe>"
      ],
      "text/plain": [
       "<sammo.utils.HtmlRenderer at 0x1b2c65eb950>"
      ]
     },
     "execution_count": 11,
     "metadata": {},
     "output_type": "execute_result"
    }
   ],
   "source": [
    "static_loop.plot_program()"
   ]
  },
  {
   "cell_type": "markdown",
   "metadata": {
    "editable": true,
    "slideshow": {
     "slide_type": ""
    },
    "tags": []
   },
   "source": [
    "### Dynamic loops\n",
    "\n",
    "If you want to loop over all results of a previous layer, you can do this with a `ForEach` component."
   ]
  },
  {
   "cell_type": "code",
   "execution_count": 12,
   "metadata": {
    "editable": true,
    "slideshow": {
     "slide_type": ""
    },
    "tags": []
   },
   "outputs": [],
   "source": [
    "fruits = ExtractRegex(\n",
    "    GenerateText(\n",
    "        \"Generate a list of 5 fruits. Wrap each fruit with <item> and </item>.\"\n",
    "    ),\n",
    "    r\"<item>(.*?)<.?item>\"\n",
    ")\n",
    "\n",
    "fruit_blurbs = Output(ForEach(\n",
    "    \"fruit\",\n",
    "    fruits,\n",
    "    GenerateText(Template(\"Why is {{fruit}} a good fruit in less than 25 words?\")),\n",
    "))\n",
    "fruit_desc = fruit_blurbs.run(runner)"
   ]
  },
  {
   "cell_type": "code",
   "execution_count": 13,
   "metadata": {
    "editable": true,
    "slideshow": {
     "slide_type": ""
    },
    "tags": []
   },
   "outputs": [
    {
     "data": {
      "text/html": [
       "            <iframe srcdoc=\"\n",
       "&lt;!DOCTYPE html&gt;\n",
       "&lt;html lang=&quot;en&quot;&gt;\n",
       "\n",
       "&lt;head&gt;\n",
       "  &lt;style&gt;\n",
       "  body,\n",
       "  html {\n",
       "    margin: 0;\n",
       "    height: 100%;\n",
       "    width: 100%;\n",
       "  }\n",
       "\n",
       "  .split {\n",
       "    display: flex;\n",
       "    flex-direction: row;\n",
       "    height: 100%;\n",
       "    overflow: hidden;\n",
       "  }\n",
       "  .gutter {\n",
       "    background-color: #eee;\n",
       "    background-repeat: no-repeat;\n",
       "    background-position: 50%;\n",
       "  }\n",
       "\n",
       "  .gutter.gutter-horizontal {\n",
       "    background-image: url(&#x27;data:image/png;base64,iVBORw0KGgoAAAANSUhEUgAAAAUAAAAeCAYAAADkftS9AAAAIklEQVQoU2M4c+bMfxAGAgYYmwGrIIiDjrELjpo5aiZeMwF+yNnOs5KSvgAAAABJRU5ErkJggg==&#x27;);\n",
       "    cursor: col-resize;\n",
       "  }\n",
       "  #info {\n",
       "\toverflow-y: auto;\n",
       "  }\n",
       "  #info div {\n",
       "    font-family: Helvetica, sans-serif;\n",
       "    font-weight: 600;\n",
       "    text-transform: uppercase;\n",
       "    background-color: #d6d8d9;\n",
       "    color: #616161;\n",
       "    font-size: 11px;\n",
       "    padding: 6px;\n",
       "  }\n",
       "  pre {\n",
       "\twhite-space: pre-wrap;\n",
       "\tpadding: 6px;\n",
       "\tbackground-color: #f9f9f9;\n",
       "\tmargin: 0;\n",
       "\tfont-size: 12px;\n",
       "  }\n",
       "  &lt;/style&gt;\n",
       "  &lt;meta charset=&quot;utf-8&quot; /&gt;\n",
       "  &lt;title&gt;Callgraph&lt;/title&gt;\n",
       "  &lt;script src=&quot;https://cdnjs.cloudflare.com/ajax/libs/cytoscape/3.26.0/cytoscape.min.js&quot;&gt;&lt;/script&gt;\n",
       "  &lt;script src=&quot;https://cdnjs.cloudflare.com/ajax/libs/split.js/1.6.0/split.min.js&quot;&gt;&lt;/script&gt;\n",
       "&lt;/head&gt;\n",
       "\n",
       "&lt;body&gt;\n",
       "  &lt;div class=&quot;split&quot;&gt;\n",
       "    &lt;div id=&quot;info&quot;&gt;&lt;pre&gt;Click on node for details.&lt;/pre&gt;&lt;/div&gt;\n",
       "    &lt;div id=&quot;graph&quot;&gt;&lt;/div&gt;\n",
       "  &lt;/div&gt;\n",
       "  &lt;script&gt;\n",
       "  Split([&#x27;#info&#x27;, &#x27;#graph&#x27;], {\n",
       "    sizes: [20, 80],\n",
       "    minSize: [150, 0],\n",
       "    onDragEnd: resizeCyto\n",
       "  });\n",
       "  const DATA = {&quot;nodes&quot;: [{&quot;data&quot;: {&quot;id&quot;: 1867340550640, &quot;label&quot;: &quot;Output&quot;, &quot;priority&quot;: 0, &quot;details&quot;: {&quot;Output&quot;: [&quot;Apple is a good fruit because it is high in fiber, vitamins, and antioxidants, and can help improve digestion and support overall health.&quot;, &quot;Orange is a good fruit because it is high in vitamin C, fiber, and antioxidants, and can help boost immunity and improve skin health.&quot;, &quot;Bananas are a good fruit because they are high in potassium, fiber, and vitamins, and are convenient, portable, and delicious.&quot;, &quot;Strawberries are high in vitamin C, fiber, and antioxidants, promoting heart health, aiding digestion, and boosting the immune system.&quot;, &quot;Watermelon is hydrating, low in calories, high in vitamins A and C, and contains antioxidants that promote heart health and reduce inflammation.&quot;], &quot;Parameters&quot;: &quot;- child: ForEach\\n- minibatch_size: 1\\n- on_error: raise&quot;}}}, {&quot;data&quot;: {&quot;id&quot;: 1867340551216, &quot;label&quot;: &quot;ForEach&quot;, &quot;priority&quot;: 1, &quot;details&quot;: {&quot;Output&quot;: [&quot;Apple is a good fruit because it is high in fiber, vitamins, and antioxidants, and can help improve digestion and support overall health.&quot;, &quot;Orange is a good fruit because it is high in vitamin C, fiber, and antioxidants, and can help boost immunity and improve skin health.&quot;, &quot;Bananas are a good fruit because they are high in potassium, fiber, and vitamins, and are convenient, portable, and delicious.&quot;, &quot;Strawberries are high in vitamin C, fiber, and antioxidants, promoting heart health, aiding digestion, and boosting the immune system.&quot;, &quot;Watermelon is hydrating, low in calories, high in vitamins A and C, and contains antioxidants that promote heart health and reduce inflammation.&quot;], &quot;Parameters&quot;: &quot;- loop_variable: fruit\\n- child: ExtractRegex\\n- operator: GenerateText\\n- reference_id: None&quot;}}}, {&quot;data&quot;: {&quot;id&quot;: 1867340554576, &quot;label&quot;: &quot;ExtractRegex&quot;, &quot;priority&quot;: 2, &quot;details&quot;: {&quot;Output&quot;: [&quot;Apple&quot;, &quot;Orange&quot;, &quot;Banana&quot;, &quot;Strawberry&quot;, &quot;Watermelon&quot;], &quot;Parameters&quot;: &quot;- child: GenerateText\\n- regex: &lt;item&gt;(.*?)&lt;.?item&gt;\\n- max_matches: None\\n- strip_whitespaces: True&quot;}}}, {&quot;data&quot;: {&quot;id&quot;: 1867337987600, &quot;label&quot;: &quot;GenerateText&quot;, &quot;priority&quot;: 3, &quot;details&quot;: {&quot;Output&quot;: &quot;Apple is a good fruit because it is high in fiber, vitamins, and antioxidants, and can help improve digestion and support overall health.&quot;, &quot;Parameters&quot;: &quot;- child: Template\\n- reference_id: None\\n- system_prompt: None\\n- history: None\\n- seed: 0\\n- randomness: 0\\n- max_tokens: None\\n- json_mode: False\\n- on_error: empty_result\\n- runner: None&quot;}}}, {&quot;data&quot;: {&quot;id&quot;: 1867337983760, &quot;label&quot;: &quot;GenerateText&quot;, &quot;priority&quot;: 4, &quot;details&quot;: {&quot;Output&quot;: &quot;Orange is a good fruit because it is high in vitamin C, fiber, and antioxidants, and can help boost immunity and improve skin health.&quot;, &quot;Parameters&quot;: &quot;- child: Template\\n- reference_id: None\\n- system_prompt: None\\n- history: None\\n- seed: 0\\n- randomness: 0\\n- max_tokens: None\\n- json_mode: False\\n- on_error: empty_result\\n- runner: None&quot;}}}, {&quot;data&quot;: {&quot;id&quot;: 1867337987920, &quot;label&quot;: &quot;GenerateText&quot;, &quot;priority&quot;: 5, &quot;details&quot;: {&quot;Output&quot;: &quot;Bananas are a good fruit because they are high in potassium, fiber, and vitamins, and are convenient, portable, and delicious.&quot;, &quot;Parameters&quot;: &quot;- child: Template\\n- reference_id: None\\n- system_prompt: None\\n- history: None\\n- seed: 0\\n- randomness: 0\\n- max_tokens: None\\n- json_mode: False\\n- on_error: empty_result\\n- runner: None&quot;}}}, {&quot;data&quot;: {&quot;id&quot;: 1867337990000, &quot;label&quot;: &quot;GenerateText&quot;, &quot;priority&quot;: 6, &quot;details&quot;: {&quot;Output&quot;: &quot;Strawberries are high in vitamin C, fiber, and antioxidants, promoting heart health, aiding digestion, and boosting the immune system.&quot;, &quot;Parameters&quot;: &quot;- child: Template\\n- reference_id: None\\n- system_prompt: None\\n- history: None\\n- seed: 0\\n- randomness: 0\\n- max_tokens: None\\n- json_mode: False\\n- on_error: empty_result\\n- runner: None&quot;}}}, {&quot;data&quot;: {&quot;id&quot;: 1867337988080, &quot;label&quot;: &quot;GenerateText&quot;, &quot;priority&quot;: 7, &quot;details&quot;: {&quot;Output&quot;: &quot;Watermelon is hydrating, low in calories, high in vitamins A and C, and contains antioxidants that promote heart health and reduce inflammation.&quot;, &quot;Parameters&quot;: &quot;- child: Template\\n- reference_id: None\\n- system_prompt: None\\n- history: None\\n- seed: 0\\n- randomness: 0\\n- max_tokens: None\\n- json_mode: False\\n- on_error: empty_result\\n- runner: None&quot;}}}, {&quot;data&quot;: {&quot;id&quot;: 1867337988560, &quot;label&quot;: &quot;GenerateText&quot;, &quot;priority&quot;: 8, &quot;details&quot;: {&quot;Output&quot;: &quot;&lt;item&gt;Apple&lt;/item&gt;\\n&lt;item&gt;Orange&lt;/item&gt;\\n&lt;item&gt;Banana&lt;/item&gt;\\n&lt;item&gt;Strawberry&lt;/item&gt;\\n&lt;item&gt;Watermelon&lt;/item&gt;&quot;, &quot;Parameters&quot;: &quot;- child: Generate a list of 5 fruits. Wrap each fruit with &lt;item&gt; and &lt;/item&gt;.\\n- reference_id: None\\n- system_prompt: None\\n- history: None\\n- seed: 0\\n- randomness: 0\\n- max_tokens: None\\n- json_mode: False\\n- on_error: empty_result\\n- runner: None&quot;}}}, {&quot;data&quot;: {&quot;id&quot;: 1867340552560, &quot;label&quot;: &quot;Template&quot;, &quot;priority&quot;: 9, &quot;details&quot;: {&quot;Output&quot;: &quot;Why is Apple a good fruit in less than 25 words?&quot;, &quot;Parameters&quot;: &quot;- content: Why is {{fruit}} a good fruit in less than 25 words?\\n- reference_id: None\\n- reference_classes: None&quot;}}}, {&quot;data&quot;: {&quot;id&quot;: 1867340552848, &quot;label&quot;: &quot;Template&quot;, &quot;priority&quot;: 10, &quot;details&quot;: {&quot;Output&quot;: &quot;Why is Orange a good fruit in less than 25 words?&quot;, &quot;Parameters&quot;: &quot;- content: Why is {{fruit}} a good fruit in less than 25 words?\\n- reference_id: None\\n- reference_classes: None&quot;}}}, {&quot;data&quot;: {&quot;id&quot;: 1867340553136, &quot;label&quot;: &quot;Template&quot;, &quot;priority&quot;: 11, &quot;details&quot;: {&quot;Output&quot;: &quot;Why is Banana a good fruit in less than 25 words?&quot;, &quot;Parameters&quot;: &quot;- content: Why is {{fruit}} a good fruit in less than 25 words?\\n- reference_id: None\\n- reference_classes: None&quot;}}}, {&quot;data&quot;: {&quot;id&quot;: 1867340553232, &quot;label&quot;: &quot;Template&quot;, &quot;priority&quot;: 12, &quot;details&quot;: {&quot;Output&quot;: &quot;Why is Strawberry a good fruit in less than 25 words?&quot;, &quot;Parameters&quot;: &quot;- content: Why is {{fruit}} a good fruit in less than 25 words?\\n- reference_id: None\\n- reference_classes: None&quot;}}}, {&quot;data&quot;: {&quot;id&quot;: 1867340553904, &quot;label&quot;: &quot;Template&quot;, &quot;priority&quot;: 13, &quot;details&quot;: {&quot;Output&quot;: &quot;Why is Watermelon a good fruit in less than 25 words?&quot;, &quot;Parameters&quot;: &quot;- content: Why is {{fruit}} a good fruit in less than 25 words?\\n- reference_id: None\\n- reference_classes: None&quot;}}}, {&quot;data&quot;: {&quot;id&quot;: 1867340552656, &quot;label&quot;: &quot;VerbatimText&quot;, &quot;priority&quot;: 14, &quot;details&quot;: {&quot;Output&quot;: &quot;Generate a list of 5 fruits. Wrap each fruit with &lt;item&gt; and &lt;/item&gt;.&quot;, &quot;Parameters&quot;: &quot;- content: Generate a list of 5 fruits. Wrap each fruit with &lt;item&gt; and &lt;/item&gt;.\\n- reference_id: None\\n- reference_classes: None&quot;}}}], &quot;edges&quot;: [{&quot;data&quot;: {&quot;target&quot;: 1867340550640, &quot;source&quot;: 1867340551216}}, {&quot;data&quot;: {&quot;target&quot;: 1867340551216, &quot;source&quot;: 1867340554576}}, {&quot;data&quot;: {&quot;target&quot;: 1867340551216, &quot;source&quot;: 1867337987600}}, {&quot;data&quot;: {&quot;target&quot;: 1867340551216, &quot;source&quot;: 1867337983760}}, {&quot;data&quot;: {&quot;target&quot;: 1867340551216, &quot;source&quot;: 1867337987920}}, {&quot;data&quot;: {&quot;target&quot;: 1867340551216, &quot;source&quot;: 1867337990000}}, {&quot;data&quot;: {&quot;target&quot;: 1867340551216, &quot;source&quot;: 1867337988080}}, {&quot;data&quot;: {&quot;target&quot;: 1867340554576, &quot;source&quot;: 1867337988560}}, {&quot;data&quot;: {&quot;target&quot;: 1867337987600, &quot;source&quot;: 1867340552560}}, {&quot;data&quot;: {&quot;target&quot;: 1867337983760, &quot;source&quot;: 1867340552848}}, {&quot;data&quot;: {&quot;target&quot;: 1867337987920, &quot;source&quot;: 1867340553136}}, {&quot;data&quot;: {&quot;target&quot;: 1867337990000, &quot;source&quot;: 1867340553232}}, {&quot;data&quot;: {&quot;target&quot;: 1867337988080, &quot;source&quot;: 1867340553904}}, {&quot;data&quot;: {&quot;target&quot;: 1867337988560, &quot;source&quot;: 1867340552656}}]};\n",
       "\n",
       "  var cy = cytoscape({\n",
       "    container: document.getElementById(&#x27;graph&#x27;),\n",
       "    style: cytoscape.stylesheet().selector(&#x27;node&#x27;).style({\n",
       "      &#x27;content&#x27;: &#x27;data(label)&#x27;,\n",
       "\t  &#x27;background-color&#x27;: DATA[&#x27;node-color&#x27;] || &#x27;Teal&#x27;,\n",
       "\t  &#x27;border-width&#x27;: DATA[&#x27;node-border&#x27;] || 0,\n",
       "    }).selector(&#x27;:selected&#x27;).style({&#x27;background-color&#x27;: &#x27;Turquoise&#x27;}).selector(&#x27;edge&#x27;).style({\n",
       "      &#x27;curve-style&#x27;: &#x27;bezier&#x27;,\n",
       "      &#x27;target-arrow-shape&#x27;: &#x27;triangle&#x27;,\n",
       "      &#x27;width&#x27;: 1,\n",
       "      &#x27;line-color&#x27;: &#x27;black&#x27;,\n",
       "      &#x27;target-arrow-color&#x27;: &#x27;black&#x27;\n",
       "    }),\n",
       "    elements: DATA,\n",
       "    wheelSensitivity: 0.3,\n",
       "    layout: {\n",
       "      name: &#x27;breadthfirst&#x27;,\n",
       "      directed: true,\n",
       "      depthSort: function(a, b){ return a.data(&#x27;priority&#x27;) - b.data(&#x27;priority&#x27;) }\n",
       "    }\n",
       "  });\n",
       "\n",
       "  function resizeCyto() {\n",
       "    cy.resize();\n",
       "    cy.fit();\n",
       "  }\n",
       "\n",
       "  function escapeHTML(str){\n",
       "    return new Option(str).innerHTML;\n",
       "  }\n",
       "\n",
       "  window.addEventListener(&#x27;resize&#x27;, resizeCyto);\n",
       "  cy.on(&#x27;tap&#x27;, &#x27;node&#x27;, function(evt) {\n",
       "    const node = evt.target;\n",
       "    const details = node.data(&#x27;details&#x27;);\n",
       "    const info = document.getElementById(&#x27;info&#x27;);\n",
       "    info.innerHTML = &#x27;&#x27;;\n",
       "\n",
       "    if (!details) {\n",
       "        info.innerHTML = &quot;&lt;div&gt;Node has no metadata.&lt;/div&gt;&quot;;\n",
       "    } else if (typeof details === &#x27;object&#x27; &amp;&amp; !Array.isArray(details)) {\n",
       "        Object.entries(details).forEach(([key, value]) =&gt; {\n",
       "            info.innerHTML += `&lt;div&gt;${escapeHTML(key)}&lt;/div&gt;&lt;pre&gt;${escapeHTML(value)}&lt;/pre&gt;`;\n",
       "        });\n",
       "    } else {\n",
       "        info.innerHTML = `&lt;pre&gt;${escapeHTML(details)}&lt;/pre&gt;`;\n",
       "    }\n",
       "  });\n",
       "  &lt;/script&gt;\n",
       "&lt;/body&gt;\n",
       "\n",
       "&lt;/html&gt;\n",
       "\" width=\"100%\" height=\"300px\"'\n",
       "            \"allowfullscreen\" style=\"border:1px solid #e0e0e0; box-sizing: border-box;\">\n",
       "            </iframe>"
      ],
      "text/plain": [
       "<sammo.utils.HtmlRenderer at 0x1b2c636c110>"
      ]
     },
     "execution_count": 13,
     "metadata": {},
     "output_type": "execute_result"
    }
   ],
   "source": [
    "fruit_desc.outputs[0].plot_call_trace()"
   ]
  },
  {
   "cell_type": "markdown",
   "metadata": {},
   "source": [
    "As an aside, this is a case where the static program graph looks different from the call trace. This is because we don't know how many fruits will actually be generated until the LLM is called."
   ]
  },
  {
   "cell_type": "code",
   "execution_count": 14,
   "metadata": {},
   "outputs": [
    {
     "data": {
      "text/html": [
       "            <iframe srcdoc=\"\n",
       "&lt;!DOCTYPE html&gt;\n",
       "&lt;html lang=&quot;en&quot;&gt;\n",
       "\n",
       "&lt;head&gt;\n",
       "  &lt;style&gt;\n",
       "  body,\n",
       "  html {\n",
       "    margin: 0;\n",
       "    height: 100%;\n",
       "    width: 100%;\n",
       "  }\n",
       "\n",
       "  .split {\n",
       "    display: flex;\n",
       "    flex-direction: row;\n",
       "    height: 100%;\n",
       "    overflow: hidden;\n",
       "  }\n",
       "  .gutter {\n",
       "    background-color: #eee;\n",
       "    background-repeat: no-repeat;\n",
       "    background-position: 50%;\n",
       "  }\n",
       "\n",
       "  .gutter.gutter-horizontal {\n",
       "    background-image: url(&#x27;data:image/png;base64,iVBORw0KGgoAAAANSUhEUgAAAAUAAAAeCAYAAADkftS9AAAAIklEQVQoU2M4c+bMfxAGAgYYmwGrIIiDjrELjpo5aiZeMwF+yNnOs5KSvgAAAABJRU5ErkJggg==&#x27;);\n",
       "    cursor: col-resize;\n",
       "  }\n",
       "  #info {\n",
       "\toverflow-y: auto;\n",
       "  }\n",
       "  #info div {\n",
       "    font-family: Helvetica, sans-serif;\n",
       "    font-weight: 600;\n",
       "    text-transform: uppercase;\n",
       "    background-color: #d6d8d9;\n",
       "    color: #616161;\n",
       "    font-size: 11px;\n",
       "    padding: 6px;\n",
       "  }\n",
       "  pre {\n",
       "\twhite-space: pre-wrap;\n",
       "\tpadding: 6px;\n",
       "\tbackground-color: #f9f9f9;\n",
       "\tmargin: 0;\n",
       "\tfont-size: 12px;\n",
       "  }\n",
       "  &lt;/style&gt;\n",
       "  &lt;meta charset=&quot;utf-8&quot; /&gt;\n",
       "  &lt;title&gt;Callgraph&lt;/title&gt;\n",
       "  &lt;script src=&quot;https://cdnjs.cloudflare.com/ajax/libs/cytoscape/3.26.0/cytoscape.min.js&quot;&gt;&lt;/script&gt;\n",
       "  &lt;script src=&quot;https://cdnjs.cloudflare.com/ajax/libs/split.js/1.6.0/split.min.js&quot;&gt;&lt;/script&gt;\n",
       "&lt;/head&gt;\n",
       "\n",
       "&lt;body&gt;\n",
       "  &lt;div class=&quot;split&quot;&gt;\n",
       "    &lt;div id=&quot;info&quot;&gt;&lt;pre&gt;Click on node for details.&lt;/pre&gt;&lt;/div&gt;\n",
       "    &lt;div id=&quot;graph&quot;&gt;&lt;/div&gt;\n",
       "  &lt;/div&gt;\n",
       "  &lt;script&gt;\n",
       "  Split([&#x27;#info&#x27;, &#x27;#graph&#x27;], {\n",
       "    sizes: [20, 80],\n",
       "    minSize: [150, 0],\n",
       "    onDragEnd: resizeCyto\n",
       "  });\n",
       "  const DATA = {&quot;nodes&quot;: [{&quot;data&quot;: {&quot;id&quot;: 1867342454736, &quot;label&quot;: &quot;Output&quot;, &quot;priority&quot;: 0, &quot;details&quot;: {&quot;Parameters&quot;: &quot;- child: ForEach\\n- minibatch_size: 1\\n- on_error: raise&quot;}}}, {&quot;data&quot;: {&quot;id&quot;: 1867341290640, &quot;label&quot;: &quot;ForEach&quot;, &quot;priority&quot;: 1, &quot;details&quot;: {&quot;Parameters&quot;: &quot;- loop_variable: fruit\\n- child: ExtractRegex\\n- operator: GenerateText\\n- reference_id: None&quot;}}}, {&quot;data&quot;: {&quot;id&quot;: 1867341526928, &quot;label&quot;: &quot;ExtractRegex&quot;, &quot;priority&quot;: 2, &quot;details&quot;: {&quot;Parameters&quot;: &quot;- child: GenerateText\\n- regex: &lt;item&gt;(.*?)&lt;.?item&gt;\\n- max_matches: None\\n- strip_whitespaces: True&quot;}}}, {&quot;data&quot;: {&quot;id&quot;: 1867343218640, &quot;label&quot;: &quot;GenerateText&quot;, &quot;priority&quot;: 3, &quot;details&quot;: {&quot;Parameters&quot;: &quot;- child: Template\\n- reference_id: None\\n- system_prompt: None\\n- history: None\\n- seed: 0\\n- randomness: 0\\n- max_tokens: None\\n- json_mode: False\\n- on_error: empty_result\\n- runner: None&quot;}}}, {&quot;data&quot;: {&quot;id&quot;: 1867341470736, &quot;label&quot;: &quot;GenerateText&quot;, &quot;priority&quot;: 4, &quot;details&quot;: {&quot;Parameters&quot;: &quot;- child: Generate a list of 5 fruits. Wrap each fruit with &lt;item&gt; and &lt;/item&gt;.\\n- reference_id: None\\n- system_prompt: None\\n- history: None\\n- seed: 0\\n- randomness: 0\\n- max_tokens: None\\n- json_mode: False\\n- on_error: empty_result\\n- runner: None&quot;}}}, {&quot;data&quot;: {&quot;id&quot;: 1867341369488, &quot;label&quot;: &quot;Template&quot;, &quot;priority&quot;: 5, &quot;details&quot;: {&quot;Parameters&quot;: &quot;- content: Why is {{fruit}} a good fruit in less than 25 words?\\n- reference_id: None\\n- reference_classes: None&quot;}}}], &quot;edges&quot;: [{&quot;data&quot;: {&quot;target&quot;: 1867342454736, &quot;source&quot;: 1867341290640}}, {&quot;data&quot;: {&quot;target&quot;: 1867341290640, &quot;source&quot;: 1867341526928}}, {&quot;data&quot;: {&quot;target&quot;: 1867341290640, &quot;source&quot;: 1867343218640}}, {&quot;data&quot;: {&quot;target&quot;: 1867341526928, &quot;source&quot;: 1867341470736}}, {&quot;data&quot;: {&quot;target&quot;: 1867343218640, &quot;source&quot;: 1867341369488}}], &quot;node-color&quot;: &quot;white&quot;, &quot;node-border&quot;: 1};\n",
       "\n",
       "  var cy = cytoscape({\n",
       "    container: document.getElementById(&#x27;graph&#x27;),\n",
       "    style: cytoscape.stylesheet().selector(&#x27;node&#x27;).style({\n",
       "      &#x27;content&#x27;: &#x27;data(label)&#x27;,\n",
       "\t  &#x27;background-color&#x27;: DATA[&#x27;node-color&#x27;] || &#x27;Teal&#x27;,\n",
       "\t  &#x27;border-width&#x27;: DATA[&#x27;node-border&#x27;] || 0,\n",
       "    }).selector(&#x27;:selected&#x27;).style({&#x27;background-color&#x27;: &#x27;Turquoise&#x27;}).selector(&#x27;edge&#x27;).style({\n",
       "      &#x27;curve-style&#x27;: &#x27;bezier&#x27;,\n",
       "      &#x27;target-arrow-shape&#x27;: &#x27;triangle&#x27;,\n",
       "      &#x27;width&#x27;: 1,\n",
       "      &#x27;line-color&#x27;: &#x27;black&#x27;,\n",
       "      &#x27;target-arrow-color&#x27;: &#x27;black&#x27;\n",
       "    }),\n",
       "    elements: DATA,\n",
       "    wheelSensitivity: 0.3,\n",
       "    layout: {\n",
       "      name: &#x27;breadthfirst&#x27;,\n",
       "      directed: true,\n",
       "      depthSort: function(a, b){ return a.data(&#x27;priority&#x27;) - b.data(&#x27;priority&#x27;) }\n",
       "    }\n",
       "  });\n",
       "\n",
       "  function resizeCyto() {\n",
       "    cy.resize();\n",
       "    cy.fit();\n",
       "  }\n",
       "\n",
       "  function escapeHTML(str){\n",
       "    return new Option(str).innerHTML;\n",
       "  }\n",
       "\n",
       "  window.addEventListener(&#x27;resize&#x27;, resizeCyto);\n",
       "  cy.on(&#x27;tap&#x27;, &#x27;node&#x27;, function(evt) {\n",
       "    const node = evt.target;\n",
       "    const details = node.data(&#x27;details&#x27;);\n",
       "    const info = document.getElementById(&#x27;info&#x27;);\n",
       "    info.innerHTML = &#x27;&#x27;;\n",
       "\n",
       "    if (!details) {\n",
       "        info.innerHTML = &quot;&lt;div&gt;Node has no metadata.&lt;/div&gt;&quot;;\n",
       "    } else if (typeof details === &#x27;object&#x27; &amp;&amp; !Array.isArray(details)) {\n",
       "        Object.entries(details).forEach(([key, value]) =&gt; {\n",
       "            info.innerHTML += `&lt;div&gt;${escapeHTML(key)}&lt;/div&gt;&lt;pre&gt;${escapeHTML(value)}&lt;/pre&gt;`;\n",
       "        });\n",
       "    } else {\n",
       "        info.innerHTML = `&lt;pre&gt;${escapeHTML(details)}&lt;/pre&gt;`;\n",
       "    }\n",
       "  });\n",
       "  &lt;/script&gt;\n",
       "&lt;/body&gt;\n",
       "\n",
       "&lt;/html&gt;\n",
       "\" width=\"100%\" height=\"300px\"'\n",
       "            \"allowfullscreen\" style=\"border:1px solid #e0e0e0; box-sizing: border-box;\">\n",
       "            </iframe>"
      ],
      "text/plain": [
       "<sammo.utils.HtmlRenderer at 0x1b2c6317550>"
      ]
     },
     "execution_count": 14,
     "metadata": {},
     "output_type": "execute_result"
    }
   ],
   "source": [
    "fruit_blurbs.plot_program()"
   ]
  }
 ],
 "metadata": {
  "kernelspec": {
   "display_name": "Python 3 (ipykernel)",
   "language": "python",
   "name": "python3"
  },
  "language_info": {
   "codemirror_mode": {
    "name": "ipython",
    "version": 3
   },
   "file_extension": ".py",
   "mimetype": "text/x-python",
   "name": "python",
   "nbconvert_exporter": "python",
   "pygments_lexer": "ipython3",
   "version": "3.11.9"
  },
  "widgets": {
   "application/vnd.jupyter.widget-state+json": {
    "state": {},
    "version_major": 2,
    "version_minor": 0
   }
  }
 },
 "nbformat": 4,
 "nbformat_minor": 4
}
