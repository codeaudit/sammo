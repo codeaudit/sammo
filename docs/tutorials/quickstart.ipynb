{
 "cells": [
  {
   "cell_type": "code",
   "execution_count": 4,
   "metadata": {
    "editable": true,
    "slideshow": {
     "slide_type": ""
    },
    "tags": [
     "remove-cell"
    ]
   },
   "outputs": [],
   "source": [
    "# Load from parent directory if not installed\n",
    "import importlib\n",
    "import os\n",
    "\n",
    "if not importlib.util.find_spec(\"sammo\"):\n",
    "    import sys\n",
    "\n",
    "    sys.path.append(\"../../\")\n",
    "os.environ[\"CACHE_FILE\"] = \"cache/quickstart.tsv\""
   ]
  },
  {
   "cell_type": "markdown",
   "metadata": {
    "editable": true,
    "slideshow": {
     "slide_type": ""
    },
    "tags": []
   },
   "source": [
    "# 🚀 Quick Start\n",
    "\n",
    "At the core of SAMMO are symbolic prompt programs. This tutorial will show you a few simple programs.\n",
    "\n",
    "To run this example, you need API credentials to an OpenAI API compatible model. \n",
    "\n",
    "```{note}\n",
    "You an run all of these as live notebooks on Binder. Simply click the rocket icon above.\n",
    "```\n",
    "Below, we will use ChatGPT-3.5 and also cache any requests made."
   ]
  },
  {
   "cell_type": "code",
   "execution_count": 3,
   "metadata": {
    "editable": true,
    "slideshow": {
     "slide_type": ""
    },
    "tags": []
   },
   "outputs": [],
   "source": [
    "# %load -r 3:25 _init.py\n",
    "import pathlib\n",
    "import sammo\n",
    "from sammo.runners import OpenAIChat\n",
    "from sammo.base import Template, EvaluationScore\n",
    "from sammo.components import Output, GenerateText, ForEach, Union\n",
    "from sammo.extractors import ExtractRegex\n",
    "from sammo.data import DataTable\n",
    "import json\n",
    "import requests\n",
    "import os\n",
    "\n",
    "if not 'OPENAI_API_KEY' in os.environ:\n",
    "    raise ValueError(\"Please set the environment variable 'OPENAI_API_KEY'.\")\n",
    "\n",
    "_ = sammo.setup_logger(\"WARNING\")  # we're only interested in warnings for now\n",
    "\n",
    "runner = OpenAIChat(\n",
    "    model_id=\"gpt-3.5-turbo\",\n",
    "    api_config={\"api_key\": os.environ['OPENAI_API_KEY']},\n",
    "    cache=os.getenv(\"CACHE_FILE\", \"cache.tsv\"),\n",
    "    timeout=30,\n",
    ")"
   ]
  },
  {
   "cell_type": "markdown",
   "metadata": {
    "editable": true,
    "slideshow": {
     "slide_type": ""
    },
    "tags": []
   },
   "source": [
    "Let's write our first symbolic prompt program (SPP)! How about a quick 'Hello World?'?"
   ]
  },
  {
   "cell_type": "code",
   "execution_count": 5,
   "metadata": {
    "editable": true,
    "slideshow": {
     "slide_type": ""
    },
    "tags": []
   },
   "outputs": [
    {
     "data": {
      "text/plain": [
       "+---------+------------------------------------+\n",
       "| input   | output                             |\n",
       "+=========+====================================+\n",
       "| None    | Hello! How can I assist you today? |\n",
       "+---------+------------------------------------+\n",
       "Constants: None"
      ]
     },
     "execution_count": 5,
     "metadata": {},
     "output_type": "execute_result"
    }
   ],
   "source": [
    "spp_hello_world = Output(GenerateText(\"Hello World!\"))\n",
    "spp_hello_world.run(runner)"
   ]
  },
  {
   "cell_type": "markdown",
   "metadata": {
    "editable": true,
    "slideshow": {
     "slide_type": ""
    },
    "tags": []
   },
   "source": [
    "## Writing symbolic prompt programs\n",
    "Okay, let's move on to a more interesting example. For a list of countries, we want the top reason to visit:"
   ]
  },
  {
   "cell_type": "code",
   "execution_count": 6,
   "metadata": {
    "editable": true,
    "slideshow": {
     "slide_type": ""
    },
    "tags": []
   },
   "outputs": [
    {
     "name": "stdout",
     "output_type": "stream",
     "text": [
      "minibatches[#################################################################################]5/5[00:00<00:00, 333.33it/s]\n"
     ]
    },
    {
     "data": {
      "text/plain": [
       "+-------------+--------------------------------------------------------------+\n",
       "| input       | output                                                       |\n",
       "+=============+==============================================================+\n",
       "| Switzerland | The stunning natural beauty of the Swiss Alps and crystal-   |\n",
       "|             | clear lakes make Switzerland a must-visit destination for    |\n",
       "|             | outdoor enthusiasts and nature lovers.                       |\n",
       "+-------------+--------------------------------------------------------------+\n",
       "| Morocco     | The top reason to visit Morocco is to experience the vibrant |\n",
       "|             | culture, stunning architecture, and diverse landscapes of    |\n",
       "|             | this North African country.                                  |\n",
       "+-------------+--------------------------------------------------------------+\n",
       "Constants: None"
      ]
     },
     "execution_count": 6,
     "metadata": {},
     "output_type": "execute_result"
    }
   ],
   "source": [
    "COUNTRIES = [\"Switzerland\", \"Morocco\", \"Tanzania\", \"Indonesia\", \"Peru\"]\n",
    "\n",
    "reason_to_visit = GenerateText(\n",
    "    Template(\"What is the top reason to visit {{input}} in one sentence?\")\n",
    ")\n",
    "Output(reason_to_visit).run(runner, COUNTRIES)[:2]"
   ]
  },
  {
   "cell_type": "markdown",
   "metadata": {
    "editable": true,
    "slideshow": {
     "slide_type": ""
    },
    "tags": []
   },
   "source": [
    "What happens under the hood is that SAMMO parallizes the execution across all inputs automatically! \n",
    "\n",
    "Let's add the best time to visit to it and combine both pieces of information."
   ]
  },
  {
   "cell_type": "code",
   "execution_count": 7,
   "metadata": {
    "editable": true,
    "slideshow": {
     "slide_type": ""
    },
    "tags": []
   },
   "outputs": [
    {
     "name": "stdout",
     "output_type": "stream",
     "text": [
      "minibatches[#################################################################################]5/5[00:00<00:00, 312.50it/s]\n"
     ]
    },
    {
     "data": {
      "text/plain": [
       "+-------------+-------------------------------------------------------------+\n",
       "| input       | output                                                      |\n",
       "+=============+=============================================================+\n",
       "| Switzerland | # Switzerland The stunning natural beauty of the Swiss Alps |\n",
       "|             | and crystal-clear lakes make Switzerland a must-visit       |\n",
       "|             | destination for outdoor enthusiasts and nature lovers.  ##  |\n",
       "|             | When to Visit The best time to visit Switzerland is during  |\n",
       "|             | the summer months (June to August) when the weather is warm |\n",
       "|             | and ideal for outdoor activities.                           |\n",
       "+-------------+-------------------------------------------------------------+\n",
       "| Morocco     | # Morocco The top reason to visit Morocco is to experience  |\n",
       "|             | the vibrant culture, stunning architecture, and diverse     |\n",
       "|             | landscapes of this North African country.  ## When to Visit |\n",
       "|             | The best time to visit Morocco is in the spring (March to   |\n",
       "|             | May) when the weather is mild and the landscape is lush and |\n",
       "|             | blooming.                                                   |\n",
       "+-------------+-------------------------------------------------------------+\n",
       "Constants: None"
      ]
     },
     "execution_count": 7,
     "metadata": {},
     "output_type": "execute_result"
    }
   ],
   "source": [
    "when_to_visit = GenerateText(\n",
    "    Template(\n",
    "        \"Which season is the best time to visit {{input}}? Answer in one sentence.\"\n",
    "    )\n",
    ")\n",
    "country_pages = Template(\n",
    "    \"# {{input}}\\n{{reason}}\\n\\n## When to Visit\\n{{when}}\",\n",
    "    reason=reason_to_visit,\n",
    "    when=when_to_visit,\n",
    ")\n",
    "written_pages = Output(country_pages).run(runner, COUNTRIES)\n",
    "written_pages[:2]"
   ]
  },
  {
   "cell_type": "markdown",
   "metadata": {},
   "source": [
    "Nice! To see what operations SAMMO executed under the hood, we can use `plot_call_trace()` to show all intermediate calls. You can click on each node to get more info."
   ]
  },
  {
   "cell_type": "code",
   "execution_count": 8,
   "metadata": {},
   "outputs": [
    {
     "data": {
      "text/html": [
       "            <iframe srcdoc=\"\n",
       "&lt;!DOCTYPE html&gt;\n",
       "&lt;html lang=&quot;en&quot;&gt;\n",
       "\n",
       "&lt;head&gt;\n",
       "  &lt;style&gt;\n",
       "  body,\n",
       "  html {\n",
       "    margin: 0;\n",
       "    height: 100%;\n",
       "    width: 100%;\n",
       "  }\n",
       "\n",
       "  .split {\n",
       "    display: flex;\n",
       "    flex-direction: row;\n",
       "    height: 100%;\n",
       "    overflow: hidden;\n",
       "  }\n",
       "  .gutter {\n",
       "    background-color: #eee;\n",
       "    background-repeat: no-repeat;\n",
       "    background-position: 50%;\n",
       "  }\n",
       "\n",
       "  .gutter.gutter-horizontal {\n",
       "    background-image: url(&#x27;data:image/png;base64,iVBORw0KGgoAAAANSUhEUgAAAAUAAAAeCAYAAADkftS9AAAAIklEQVQoU2M4c+bMfxAGAgYYmwGrIIiDjrELjpo5aiZeMwF+yNnOs5KSvgAAAABJRU5ErkJggg==&#x27;);\n",
       "    cursor: col-resize;\n",
       "  }\n",
       "  #info {\n",
       "\toverflow-y: auto;\n",
       "  }\n",
       "  #info div {\n",
       "    font-family: Helvetica, sans-serif;\n",
       "    font-weight: 600;\n",
       "    text-transform: uppercase;\n",
       "    background-color: #d6d8d9;\n",
       "    color: #616161;\n",
       "    font-size: 11px;\n",
       "    padding: 6px;\n",
       "  }\n",
       "  pre {\n",
       "\twhite-space: pre-wrap;\n",
       "\tpadding: 6px;\n",
       "\tbackground-color: #f9f9f9;\n",
       "\tmargin: 0;\n",
       "\tfont-size: 12px;\n",
       "  }\n",
       "  &lt;/style&gt;\n",
       "  &lt;meta charset=&quot;utf-8&quot; /&gt;\n",
       "  &lt;title&gt;Callgraph&lt;/title&gt;\n",
       "  &lt;script src=&quot;https://cdnjs.cloudflare.com/ajax/libs/cytoscape/3.26.0/cytoscape.min.js&quot;&gt;&lt;/script&gt;\n",
       "  &lt;script src=&quot;https://cdnjs.cloudflare.com/ajax/libs/split.js/1.6.0/split.min.js&quot;&gt;&lt;/script&gt;\n",
       "&lt;/head&gt;\n",
       "\n",
       "&lt;body&gt;\n",
       "  &lt;div class=&quot;split&quot;&gt;\n",
       "    &lt;div id=&quot;info&quot;&gt;&lt;pre&gt;Click on node for details.&lt;/pre&gt;&lt;/div&gt;\n",
       "    &lt;div id=&quot;graph&quot;&gt;&lt;/div&gt;\n",
       "  &lt;/div&gt;\n",
       "  &lt;script&gt;\n",
       "  Split([&#x27;#info&#x27;, &#x27;#graph&#x27;], {\n",
       "    sizes: [20, 80],\n",
       "    minSize: [150, 0],\n",
       "    onDragEnd: resizeCyto\n",
       "  });\n",
       "  const DATA = {&quot;nodes&quot;: [{&quot;data&quot;: {&quot;id&quot;: 2005842240016, &quot;label&quot;: &quot;Output&quot;, &quot;priority&quot;: 0, &quot;details&quot;: {&quot;Output&quot;: &quot;# Switzerland\\nThe stunning natural beauty of the Swiss Alps and crystal-clear lakes make Switzerland a must-visit destination for outdoor enthusiasts and nature lovers.\\n\\n## When to Visit\\nThe best time to visit Switzerland is during the summer months (June to August) when the weather is warm and ideal for outdoor activities.&quot;, &quot;Parameters&quot;: &quot;- child: Template\\n- minibatch_size: 1\\n- on_error: raise&quot;}}}, {&quot;data&quot;: {&quot;id&quot;: 2005842930064, &quot;label&quot;: &quot;Template&quot;, &quot;priority&quot;: 1, &quot;details&quot;: {&quot;Output&quot;: &quot;# Switzerland\\nThe stunning natural beauty of the Swiss Alps and crystal-clear lakes make Switzerland a must-visit destination for outdoor enthusiasts and nature lovers.\\n\\n## When to Visit\\nThe best time to visit Switzerland is during the summer months (June to August) when the weather is warm and ideal for outdoor activities.&quot;, &quot;Parameters&quot;: &quot;- content: # {{input}}\\n{{reason}}\\n\\n## When to Visit\\n{{when}}\\n- reference_id: None\\n- reference_classes: None\\n- reason: GenerateText\\n- when: GenerateText&quot;}}}, {&quot;data&quot;: {&quot;id&quot;: 2005831877328, &quot;label&quot;: &quot;GenerateText&quot;, &quot;priority&quot;: 2, &quot;details&quot;: {&quot;Output&quot;: &quot;The stunning natural beauty of the Swiss Alps and crystal-clear lakes make Switzerland a must-visit destination for outdoor enthusiasts and nature lovers.&quot;, &quot;Parameters&quot;: &quot;- child: Template\\n- reference_id: None\\n- system_prompt: None\\n- history: None\\n- seed: 0\\n- randomness: 0\\n- max_tokens: None\\n- json_mode: False\\n- on_error: empty_result\\n- runner: None&quot;}}}, {&quot;data&quot;: {&quot;id&quot;: 2005842182000, &quot;label&quot;: &quot;GenerateText&quot;, &quot;priority&quot;: 3, &quot;details&quot;: {&quot;Output&quot;: &quot;The best time to visit Switzerland is during the summer months (June to August) when the weather is warm and ideal for outdoor activities.&quot;, &quot;Parameters&quot;: &quot;- child: Template\\n- reference_id: None\\n- system_prompt: None\\n- history: None\\n- seed: 0\\n- randomness: 0\\n- max_tokens: None\\n- json_mode: False\\n- on_error: empty_result\\n- runner: None&quot;}}}, {&quot;data&quot;: {&quot;id&quot;: 2005842925648, &quot;label&quot;: &quot;Template&quot;, &quot;priority&quot;: 4, &quot;details&quot;: {&quot;Output&quot;: &quot;What is the top reason to visit Switzerland in one sentence?&quot;, &quot;Parameters&quot;: &quot;- content: What is the top reason to visit {{input}} in one sentence?\\n- reference_id: None\\n- reference_classes: None&quot;}}}, {&quot;data&quot;: {&quot;id&quot;: 2005842920080, &quot;label&quot;: &quot;Template&quot;, &quot;priority&quot;: 5, &quot;details&quot;: {&quot;Output&quot;: &quot;Which season is the best time to visit Switzerland? Answer in one sentence.&quot;, &quot;Parameters&quot;: &quot;- content: Which season is the best time to visit {{input}}? Answer in one sentence.\\n- reference_id: None\\n- reference_classes: None&quot;}}}], &quot;edges&quot;: [{&quot;data&quot;: {&quot;target&quot;: 2005842240016, &quot;source&quot;: 2005842930064}}, {&quot;data&quot;: {&quot;target&quot;: 2005842930064, &quot;source&quot;: 2005831877328}}, {&quot;data&quot;: {&quot;target&quot;: 2005842930064, &quot;source&quot;: 2005842182000}}, {&quot;data&quot;: {&quot;target&quot;: 2005831877328, &quot;source&quot;: 2005842925648}}, {&quot;data&quot;: {&quot;target&quot;: 2005842182000, &quot;source&quot;: 2005842920080}}]};\n",
       "\n",
       "  var cy = cytoscape({\n",
       "    container: document.getElementById(&#x27;graph&#x27;),\n",
       "    style: cytoscape.stylesheet().selector(&#x27;node&#x27;).style({\n",
       "      &#x27;content&#x27;: &#x27;data(label)&#x27;,\n",
       "\t  &#x27;background-color&#x27;: DATA[&#x27;node-color&#x27;] || &#x27;Teal&#x27;,\n",
       "\t  &#x27;border-width&#x27;: DATA[&#x27;node-border&#x27;] || 0,\n",
       "    }).selector(&#x27;:selected&#x27;).style({&#x27;background-color&#x27;: &#x27;Turquoise&#x27;}).selector(&#x27;edge&#x27;).style({\n",
       "      &#x27;curve-style&#x27;: &#x27;bezier&#x27;,\n",
       "      &#x27;target-arrow-shape&#x27;: &#x27;triangle&#x27;,\n",
       "      &#x27;width&#x27;: 1,\n",
       "      &#x27;line-color&#x27;: &#x27;black&#x27;,\n",
       "      &#x27;target-arrow-color&#x27;: &#x27;black&#x27;\n",
       "    }),\n",
       "    elements: DATA,\n",
       "    wheelSensitivity: 0.3,\n",
       "    layout: {\n",
       "      name: &#x27;breadthfirst&#x27;,\n",
       "      directed: true,\n",
       "      depthSort: function(a, b){ return a.data(&#x27;priority&#x27;) - b.data(&#x27;priority&#x27;) }\n",
       "    }\n",
       "  });\n",
       "\n",
       "  function resizeCyto() {\n",
       "    cy.resize();\n",
       "    cy.fit();\n",
       "  }\n",
       "\n",
       "  function escapeHTML(str){\n",
       "    return new Option(str).innerHTML;\n",
       "  }\n",
       "\n",
       "  window.addEventListener(&#x27;resize&#x27;, resizeCyto);\n",
       "  cy.on(&#x27;tap&#x27;, &#x27;node&#x27;, function(evt) {\n",
       "    const node = evt.target;\n",
       "    const details = node.data(&#x27;details&#x27;);\n",
       "    const info = document.getElementById(&#x27;info&#x27;);\n",
       "    info.innerHTML = &#x27;&#x27;;\n",
       "\n",
       "    if (!details) {\n",
       "        info.innerHTML = &quot;&lt;div&gt;Node has no metadata.&lt;/div&gt;&quot;;\n",
       "    } else if (typeof details === &#x27;object&#x27; &amp;&amp; !Array.isArray(details)) {\n",
       "        Object.entries(details).forEach(([key, value]) =&gt; {\n",
       "            info.innerHTML += `&lt;div&gt;${escapeHTML(key)}&lt;/div&gt;&lt;pre&gt;${escapeHTML(value)}&lt;/pre&gt;`;\n",
       "        });\n",
       "    } else {\n",
       "        info.innerHTML = `&lt;pre&gt;${escapeHTML(details)}&lt;/pre&gt;`;\n",
       "    }\n",
       "  });\n",
       "  &lt;/script&gt;\n",
       "&lt;/body&gt;\n",
       "\n",
       "&lt;/html&gt;\n",
       "\" width=\"100%\" height=\"300px\"'\n",
       "            \"allowfullscreen\" style=\"border:1px solid #e0e0e0; box-sizing: border-box;\">\n",
       "            </iframe>"
      ],
      "text/plain": [
       "<sammo.utils.HtmlRenderer at 0x1d305a85410>"
      ]
     },
     "execution_count": 8,
     "metadata": {},
     "output_type": "execute_result"
    }
   ],
   "source": [
    "written_pages.outputs[0].plot_call_trace()"
   ]
  },
  {
   "cell_type": "markdown",
   "metadata": {
    "editable": true,
    "slideshow": {
     "slide_type": ""
    },
    "tags": []
   },
   "source": [
    "## Recap\n",
    "Let's talk about some of the key concepts from SAMMO we have used:\n",
    "\n",
    "1. We constructed a **symbolic prompt program** — a dynamic prompt that is re-used for different inputs.\n",
    "2. This SPP has a structure which was constructed by nesting **components** from SAMMO.\n",
    "3. To get the **output**, we call `run()` on the Output component which returns a DataTable.\n",
    "4. SAMMO **parallelized** execution for us on the input data — no extra work was needed! "
   ]
  }
 ],
 "metadata": {
  "kernelspec": {
   "display_name": "Python 3 (ipykernel)",
   "language": "python",
   "name": "python3"
  },
  "language_info": {
   "codemirror_mode": {
    "name": "ipython",
    "version": 3
   },
   "file_extension": ".py",
   "mimetype": "text/x-python",
   "name": "python",
   "nbconvert_exporter": "python",
   "pygments_lexer": "ipython3",
   "version": "3.11.9"
  },
  "widgets": {
   "application/vnd.jupyter.widget-state+json": {
    "state": {},
    "version_major": 2,
    "version_minor": 0
   }
  }
 },
 "nbformat": 4,
 "nbformat_minor": 4
}
