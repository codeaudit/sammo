{
 "cells": [
  {
   "cell_type": "code",
   "execution_count": 1,
   "metadata": {
    "editable": true,
    "slideshow": {
     "slide_type": ""
    },
    "tags": [
     "remove-cell"
    ]
   },
   "outputs": [],
   "source": [
    "# Load from parent directory if not installed\n",
    "import importlib\n",
    "import os\n",
    "\n",
    "if not importlib.util.find_spec(\"sammo\"):\n",
    "    import sys\n",
    "\n",
    "    sys.path.append(\"../../\")\n",
    "os.environ[\"CACHE_FILE\"] = \"cache/chaining_prompts.tsv\""
   ]
  },
  {
   "cell_type": "markdown",
   "metadata": {
    "editable": true,
    "slideshow": {
     "slide_type": ""
    },
    "tags": []
   },
   "source": [
    "# Symbolic Prompt Programs\n",
    "\n",
    "At the heart of SAMMO are symbolic prompt programs. If you are familiar with JavaScript, you can think of these of a DOM tree representation of prompts. If you aren't, no problem -- we'll start from the basics."
   ]
  },
  {
   "cell_type": "code",
   "execution_count": 2,
   "metadata": {
    "editable": true,
    "slideshow": {
     "slide_type": ""
    },
    "tags": [
     "hide-input"
    ]
   },
   "outputs": [],
   "source": [
    "# %load -r 3:25 _init.py\n",
    "import pathlib\n",
    "import sammo\n",
    "from sammo.runners import OpenAIChat\n",
    "from sammo.base import Template, EvaluationScore\n",
    "from sammo.extractors import ExtractRegex\n",
    "from sammo.data import DataTable\n",
    "import json\n",
    "import requests\n",
    "import os\n",
    "\n",
    "if not 'OPENAI_API_KEY' in os.environ:\n",
    "    raise ValueError(\"Please set the environment variable 'OPENAI_API_KEY'.\")\n",
    "\n",
    "_ = sammo.setup_logger(\"WARNING\")  # we're only interested in warnings for now\n",
    "\n",
    "runner = OpenAIChat(\n",
    "    model_id=\"gpt-3.5-turbo\",\n",
    "    api_config={\"api_key\": os.environ['OPENAI_API_KEY']},\n",
    "    cache=os.getenv(\"CACHE_FILE\", \"cache.tsv\"),\n",
    "    timeout=30,\n",
    ")"
   ]
  },
  {
   "cell_type": "markdown",
   "metadata": {
    "editable": true,
    "slideshow": {
     "slide_type": ""
    },
    "tags": []
   },
   "source": [
    "## Classification: A simple example\n",
    "\n",
    "Let’s say we want to improve a prompt for labeling speaker responses. We’ll eventually run it with many different inputs, but plug in a concrete one for now:\n",
    "\n",
    "```\n",
    "Instructions: Does Speaker 2's answer mean yes or no?\n",
    "Output labels: no, yes\n",
    "Input: Speaker 1: \"You do this often?\" Speaker 2: \"It's my first time.\"\n",
    "Output:\n",
    "```\n",
    "\n",
    "We have roughly four parts here: the instructions, the set of output labels, the input itself and a prefix. Let's convert this into a symbolic prompt program."
   ]
  },
  {
   "cell_type": "code",
   "execution_count": 3,
   "metadata": {
    "editable": true,
    "slideshow": {
     "slide_type": ""
    },
    "tags": []
   },
   "outputs": [
    {
     "data": {
      "text/html": [
       "            <iframe srcdoc=\"\n",
       "&lt;!DOCTYPE html&gt;\n",
       "&lt;html lang=&quot;en&quot;&gt;\n",
       "\n",
       "&lt;head&gt;\n",
       "  &lt;style&gt;\n",
       "  body,\n",
       "  html {\n",
       "    margin: 0;\n",
       "    height: 100%;\n",
       "    width: 100%;\n",
       "  }\n",
       "\n",
       "  .split {\n",
       "    display: flex;\n",
       "    flex-direction: row;\n",
       "    height: 100%;\n",
       "    overflow: hidden;\n",
       "  }\n",
       "  .gutter {\n",
       "    background-color: #eee;\n",
       "    background-repeat: no-repeat;\n",
       "    background-position: 50%;\n",
       "  }\n",
       "\n",
       "  .gutter.gutter-horizontal {\n",
       "    background-image: url(&#x27;data:image/png;base64,iVBORw0KGgoAAAANSUhEUgAAAAUAAAAeCAYAAADkftS9AAAAIklEQVQoU2M4c+bMfxAGAgYYmwGrIIiDjrELjpo5aiZeMwF+yNnOs5KSvgAAAABJRU5ErkJggg==&#x27;);\n",
       "    cursor: col-resize;\n",
       "  }\n",
       "  #info {\n",
       "\toverflow-y: auto;\n",
       "  }\n",
       "  #info div {\n",
       "    font-family: Helvetica, sans-serif;\n",
       "    font-weight: 600;\n",
       "    text-transform: uppercase;\n",
       "    background-color: #d6d8d9;\n",
       "    color: #616161;\n",
       "    font-size: 11px;\n",
       "    padding: 6px;\n",
       "  }\n",
       "  pre {\n",
       "\twhite-space: pre-wrap;\n",
       "\tpadding: 6px;\n",
       "\tbackground-color: #f9f9f9;\n",
       "\tmargin: 0;\n",
       "\tfont-size: 12px;\n",
       "  }\n",
       "  &lt;/style&gt;\n",
       "  &lt;meta charset=&quot;utf-8&quot; /&gt;\n",
       "  &lt;title&gt;Callgraph&lt;/title&gt;\n",
       "  &lt;script src=&quot;https://cdnjs.cloudflare.com/ajax/libs/cytoscape/3.26.0/cytoscape.min.js&quot;&gt;&lt;/script&gt;\n",
       "  &lt;script src=&quot;https://cdnjs.cloudflare.com/ajax/libs/split.js/1.6.0/split.min.js&quot;&gt;&lt;/script&gt;\n",
       "&lt;/head&gt;\n",
       "\n",
       "&lt;body&gt;\n",
       "  &lt;div class=&quot;split&quot;&gt;\n",
       "    &lt;div id=&quot;info&quot;&gt;&lt;pre&gt;Click on node for details.&lt;/pre&gt;&lt;/div&gt;\n",
       "    &lt;div id=&quot;graph&quot;&gt;&lt;/div&gt;\n",
       "  &lt;/div&gt;\n",
       "  &lt;script&gt;\n",
       "  Split([&#x27;#info&#x27;, &#x27;#graph&#x27;], {\n",
       "    sizes: [20, 80],\n",
       "    minSize: [150, 0],\n",
       "    onDragEnd: resizeCyto\n",
       "  });\n",
       "  const DATA = {&quot;nodes&quot;: [{&quot;data&quot;: {&quot;id&quot;: 2294735196624, &quot;label&quot;: &quot;Output&quot;, &quot;priority&quot;: 0, &quot;details&quot;: {&quot;Parameters&quot;: &quot;- child: GenerateText\\n- minibatch_size: 1\\n- on_error: raise&quot;}}}, {&quot;data&quot;: {&quot;id&quot;: 2294735905296, &quot;label&quot;: &quot;GenerateText&quot;, &quot;priority&quot;: 1, &quot;details&quot;: {&quot;Parameters&quot;: &quot;- child: JoinStrings\\n- reference_id: None\\n- system_prompt: None\\n- history: None\\n- seed: 0\\n- randomness: 0\\n- max_tokens: None\\n- json_mode: False\\n- on_error: empty_result\\n- runner: None&quot;}}}, {&quot;data&quot;: {&quot;id&quot;: 2294734011216, &quot;label&quot;: &quot;JoinStrings&quot;, &quot;priority&quot;: 2, &quot;details&quot;: {&quot;Parameters&quot;: &quot;- children: [\\n  0 : VerbatimText(\\n    content = \\&quot;Instructions: Does Speaker 2&#x27;s answer mean yes or no?\\&quot;,\\n    reference_id = &#x27;instructions&#x27;,\\n    reference_classes = [\\n      0 : &#x27;preamble&#x27;\\n    ]\\n  ),\\n  1 : VerbatimText(\\n    content = &#x27;Output labels: no, yes&#x27;,\\n    reference_id = &#x27;label_space&#x27;,\\n    reference_classes = [\\n      0 : &#x27;preamble&#x27;\\n    ]\\n  ),\\n  2 : Template(\\n    content = &#x27;{{input}}&#x27;,\\n    reference_id = &#x27;input&#x27;,\\n    reference_classes = None\\n  ),\\n  3 : VerbatimText(\\n    content = &#x27;Output: &#x27;,\\n    reference_id = &#x27;prefix&#x27;,\\n    reference_classes = None\\n  )\\n]\\n- separator: \\n\\n- reference_id: None&quot;}}}, {&quot;data&quot;: {&quot;id&quot;: 2294734450128, &quot;label&quot;: &quot;VerbatimText&quot;, &quot;priority&quot;: 3, &quot;details&quot;: {&quot;Parameters&quot;: &quot;- content: Instructions: Does Speaker 2&#x27;s answer mean yes or no?\\n- reference_id: instructions\\n- reference_classes: [\\n  0 : &#x27;preamble&#x27;\\n]&quot;}}}, {&quot;data&quot;: {&quot;id&quot;: 2294735899536, &quot;label&quot;: &quot;VerbatimText&quot;, &quot;priority&quot;: 4, &quot;details&quot;: {&quot;Parameters&quot;: &quot;- content: Output labels: no, yes\\n- reference_id: label_space\\n- reference_classes: [\\n  0 : &#x27;preamble&#x27;\\n]&quot;}}}, {&quot;data&quot;: {&quot;id&quot;: 2294734413712, &quot;label&quot;: &quot;Template&quot;, &quot;priority&quot;: 5, &quot;details&quot;: {&quot;Parameters&quot;: &quot;- content: {{input}}\\n- reference_id: input\\n- reference_classes: None&quot;}}}, {&quot;data&quot;: {&quot;id&quot;: 2294735898000, &quot;label&quot;: &quot;VerbatimText&quot;, &quot;priority&quot;: 6, &quot;details&quot;: {&quot;Parameters&quot;: &quot;- content: Output: \\n- reference_id: prefix\\n- reference_classes: None&quot;}}}], &quot;edges&quot;: [{&quot;data&quot;: {&quot;target&quot;: 2294735196624, &quot;source&quot;: 2294735905296}}, {&quot;data&quot;: {&quot;target&quot;: 2294735905296, &quot;source&quot;: 2294734011216}}, {&quot;data&quot;: {&quot;target&quot;: 2294734011216, &quot;source&quot;: 2294734450128}}, {&quot;data&quot;: {&quot;target&quot;: 2294734011216, &quot;source&quot;: 2294735899536}}, {&quot;data&quot;: {&quot;target&quot;: 2294734011216, &quot;source&quot;: 2294734413712}}, {&quot;data&quot;: {&quot;target&quot;: 2294734011216, &quot;source&quot;: 2294735898000}}], &quot;node-color&quot;: &quot;white&quot;, &quot;node-border&quot;: 1};\n",
       "\n",
       "  var cy = cytoscape({\n",
       "    container: document.getElementById(&#x27;graph&#x27;),\n",
       "    style: cytoscape.stylesheet().selector(&#x27;node&#x27;).style({\n",
       "      &#x27;content&#x27;: &#x27;data(label)&#x27;,\n",
       "\t  &#x27;background-color&#x27;: DATA[&#x27;node-color&#x27;] || &#x27;Teal&#x27;,\n",
       "\t  &#x27;border-width&#x27;: DATA[&#x27;node-border&#x27;] || 0,\n",
       "    }).selector(&#x27;:selected&#x27;).style({&#x27;background-color&#x27;: &#x27;Turquoise&#x27;}).selector(&#x27;edge&#x27;).style({\n",
       "      &#x27;curve-style&#x27;: &#x27;bezier&#x27;,\n",
       "      &#x27;target-arrow-shape&#x27;: &#x27;triangle&#x27;,\n",
       "      &#x27;width&#x27;: 1,\n",
       "      &#x27;line-color&#x27;: &#x27;black&#x27;,\n",
       "      &#x27;target-arrow-color&#x27;: &#x27;black&#x27;\n",
       "    }),\n",
       "    elements: DATA,\n",
       "    wheelSensitivity: 0.3,\n",
       "    layout: {\n",
       "      name: &#x27;breadthfirst&#x27;,\n",
       "      directed: true,\n",
       "      depthSort: function(a, b){ return a.data(&#x27;priority&#x27;) - b.data(&#x27;priority&#x27;) }\n",
       "    }\n",
       "  });\n",
       "\n",
       "  function resizeCyto() {\n",
       "    cy.resize();\n",
       "    cy.fit();\n",
       "  }\n",
       "\n",
       "  function escapeHTML(str){\n",
       "    return new Option(str).innerHTML;\n",
       "  }\n",
       "\n",
       "  window.addEventListener(&#x27;resize&#x27;, resizeCyto);\n",
       "  cy.on(&#x27;tap&#x27;, &#x27;node&#x27;, function(evt) {\n",
       "    const node = evt.target;\n",
       "    const details = node.data(&#x27;details&#x27;);\n",
       "    const info = document.getElementById(&#x27;info&#x27;);\n",
       "    info.innerHTML = &#x27;&#x27;;\n",
       "\n",
       "    if (!details) {\n",
       "        info.innerHTML = &quot;&lt;div&gt;Node has no metadata.&lt;/div&gt;&quot;;\n",
       "    } else if (typeof details === &#x27;object&#x27; &amp;&amp; !Array.isArray(details)) {\n",
       "        Object.entries(details).forEach(([key, value]) =&gt; {\n",
       "            info.innerHTML += `&lt;div&gt;${escapeHTML(key)}&lt;/div&gt;&lt;pre&gt;${escapeHTML(value)}&lt;/pre&gt;`;\n",
       "        });\n",
       "    } else {\n",
       "        info.innerHTML = `&lt;pre&gt;${escapeHTML(details)}&lt;/pre&gt;`;\n",
       "    }\n",
       "  });\n",
       "  &lt;/script&gt;\n",
       "&lt;/body&gt;\n",
       "\n",
       "&lt;/html&gt;\n",
       "\" width=\"100%\" height=\"300px\"'\n",
       "            \"allowfullscreen\" style=\"border:1px solid #e0e0e0; box-sizing: border-box;\">\n",
       "            </iframe>"
      ],
      "text/plain": [
       "<sammo.utils.HtmlRenderer at 0x216490deb50>"
      ]
     },
     "execution_count": 3,
     "metadata": {},
     "output_type": "execute_result"
    }
   ],
   "source": [
    "from sammo.components import Output, GenerateText, ForEach, Union, JoinStrings\n",
    "from sammo.base import Template, VerbatimText\n",
    "\n",
    "parts = list()\n",
    "\n",
    "parts.append(VerbatimText(content=\"Instructions: Does Speaker 2's answer mean yes or no?\", reference_id=\"instructions\", reference_classes=[\"preamble\"]))\n",
    "parts.append(VerbatimText(\"Output labels: no, yes\", reference_id=\"label_space\", reference_classes=[\"preamble\"]))\n",
    "parts.append(Template(\"{{input}}\", reference_id=\"input\"))\n",
    "parts.append(VerbatimText(\"Output: \", reference_id=\"prefix\"))\n",
    "\n",
    "spp = Output(GenerateText(JoinStrings(*parts, separator=\"\\n\")))\n",
    "spp.plot_program()"
   ]
  },
  {
   "attachments": {},
   "cell_type": "markdown",
   "metadata": {
    "editable": true,
    "slideshow": {
     "slide_type": ""
    },
    "tags": []
   },
   "source": [
    "`plot_program()` plots the structure of our SPP. An SPP is a graph where each node is an operator, or prompt **component** in SAMMO. You can click on each node to see what symbolic properties it has (and we'll edit those in a bit).\n",
    "\n",
    "A component receives as input the values of its children as well as any values that its parents passed through. Let's see this in action."
   ]
  },
  {
   "cell_type": "code",
   "execution_count": 4,
   "metadata": {
    "editable": true,
    "slideshow": {
     "slide_type": ""
    },
    "tags": []
   },
   "outputs": [],
   "source": [
    "spp_result = spp.run(runner, [\"Speaker 1: \\\"You do this often?\\\" Speaker 2: \\\"It's my first time.\\\"\"])"
   ]
  },
  {
   "cell_type": "markdown",
   "metadata": {
    "editable": true,
    "slideshow": {
     "slide_type": ""
    },
    "tags": []
   },
   "source": [
    "Okay, nice. Let's look at the trace."
   ]
  },
  {
   "cell_type": "code",
   "execution_count": 5,
   "metadata": {},
   "outputs": [
    {
     "data": {
      "text/html": [
       "            <iframe srcdoc=\"\n",
       "&lt;!DOCTYPE html&gt;\n",
       "&lt;html lang=&quot;en&quot;&gt;\n",
       "\n",
       "&lt;head&gt;\n",
       "  &lt;style&gt;\n",
       "  body,\n",
       "  html {\n",
       "    margin: 0;\n",
       "    height: 100%;\n",
       "    width: 100%;\n",
       "  }\n",
       "\n",
       "  .split {\n",
       "    display: flex;\n",
       "    flex-direction: row;\n",
       "    height: 100%;\n",
       "    overflow: hidden;\n",
       "  }\n",
       "  .gutter {\n",
       "    background-color: #eee;\n",
       "    background-repeat: no-repeat;\n",
       "    background-position: 50%;\n",
       "  }\n",
       "\n",
       "  .gutter.gutter-horizontal {\n",
       "    background-image: url(&#x27;data:image/png;base64,iVBORw0KGgoAAAANSUhEUgAAAAUAAAAeCAYAAADkftS9AAAAIklEQVQoU2M4c+bMfxAGAgYYmwGrIIiDjrELjpo5aiZeMwF+yNnOs5KSvgAAAABJRU5ErkJggg==&#x27;);\n",
       "    cursor: col-resize;\n",
       "  }\n",
       "  #info {\n",
       "\toverflow-y: auto;\n",
       "  }\n",
       "  #info div {\n",
       "    font-family: Helvetica, sans-serif;\n",
       "    font-weight: 600;\n",
       "    text-transform: uppercase;\n",
       "    background-color: #d6d8d9;\n",
       "    color: #616161;\n",
       "    font-size: 11px;\n",
       "    padding: 6px;\n",
       "  }\n",
       "  pre {\n",
       "\twhite-space: pre-wrap;\n",
       "\tpadding: 6px;\n",
       "\tbackground-color: #f9f9f9;\n",
       "\tmargin: 0;\n",
       "\tfont-size: 12px;\n",
       "  }\n",
       "  &lt;/style&gt;\n",
       "  &lt;meta charset=&quot;utf-8&quot; /&gt;\n",
       "  &lt;title&gt;Callgraph&lt;/title&gt;\n",
       "  &lt;script src=&quot;https://cdnjs.cloudflare.com/ajax/libs/cytoscape/3.26.0/cytoscape.min.js&quot;&gt;&lt;/script&gt;\n",
       "  &lt;script src=&quot;https://cdnjs.cloudflare.com/ajax/libs/split.js/1.6.0/split.min.js&quot;&gt;&lt;/script&gt;\n",
       "&lt;/head&gt;\n",
       "\n",
       "&lt;body&gt;\n",
       "  &lt;div class=&quot;split&quot;&gt;\n",
       "    &lt;div id=&quot;info&quot;&gt;&lt;pre&gt;Click on node for details.&lt;/pre&gt;&lt;/div&gt;\n",
       "    &lt;div id=&quot;graph&quot;&gt;&lt;/div&gt;\n",
       "  &lt;/div&gt;\n",
       "  &lt;script&gt;\n",
       "  Split([&#x27;#info&#x27;, &#x27;#graph&#x27;], {\n",
       "    sizes: [20, 80],\n",
       "    minSize: [150, 0],\n",
       "    onDragEnd: resizeCyto\n",
       "  });\n",
       "  const DATA = {&quot;nodes&quot;: [{&quot;data&quot;: {&quot;id&quot;: 2294739657232, &quot;label&quot;: &quot;Output&quot;, &quot;priority&quot;: 0, &quot;details&quot;: {&quot;Output&quot;: &quot;no&quot;, &quot;Parameters&quot;: &quot;- child: GenerateText\\n- minibatch_size: 1\\n- on_error: raise&quot;}}}, {&quot;data&quot;: {&quot;id&quot;: 2294739695440, &quot;label&quot;: &quot;GenerateText&quot;, &quot;priority&quot;: 1, &quot;details&quot;: {&quot;Output&quot;: &quot;no&quot;, &quot;Parameters&quot;: &quot;- child: JoinStrings\\n- reference_id: None\\n- system_prompt: None\\n- history: None\\n- seed: 0\\n- randomness: 0\\n- max_tokens: None\\n- json_mode: False\\n- on_error: empty_result\\n- runner: None&quot;}}}, {&quot;data&quot;: {&quot;id&quot;: 2294739657040, &quot;label&quot;: &quot;JoinStrings&quot;, &quot;priority&quot;: 2, &quot;details&quot;: {&quot;Output&quot;: &quot;Instructions: Does Speaker 2&#x27;s answer mean yes or no?\\nOutput labels: no, yes\\nSpeaker 1: \\&quot;You do this often?\\&quot; Speaker 2: \\&quot;It&#x27;s my first time.\\&quot;\\nOutput: &quot;, &quot;Parameters&quot;: &quot;- children: [\\n  0 : VerbatimText(\\n    content = \\&quot;Instructions: Does Speaker 2&#x27;s answer mean yes or no?\\&quot;,\\n    reference_id = &#x27;instructions&#x27;,\\n    reference_classes = [\\n      0 : &#x27;preamble&#x27;\\n    ]\\n  ),\\n  1 : VerbatimText(\\n    content = &#x27;Output labels: no, yes&#x27;,\\n    reference_id = &#x27;label_space&#x27;,\\n    reference_classes = [\\n      0 : &#x27;preamble&#x27;\\n    ]\\n  ),\\n  2 : Template(\\n    content = &#x27;{{input}}&#x27;,\\n    reference_id = &#x27;input&#x27;,\\n    reference_classes = None\\n  ),\\n  3 : VerbatimText(\\n    content = &#x27;Output: &#x27;,\\n    reference_id = &#x27;prefix&#x27;,\\n    reference_classes = None\\n  )\\n]\\n- separator: \\n\\n- reference_id: None&quot;}}}, {&quot;data&quot;: {&quot;id&quot;: 2294739657424, &quot;label&quot;: &quot;VerbatimText&quot;, &quot;priority&quot;: 3, &quot;details&quot;: {&quot;Output&quot;: &quot;Instructions: Does Speaker 2&#x27;s answer mean yes or no?&quot;, &quot;Parameters&quot;: &quot;- content: Instructions: Does Speaker 2&#x27;s answer mean yes or no?\\n- reference_id: instructions\\n- reference_classes: [\\n  0 : &#x27;preamble&#x27;\\n]&quot;}}}, {&quot;data&quot;: {&quot;id&quot;: 2294739658192, &quot;label&quot;: &quot;VerbatimText&quot;, &quot;priority&quot;: 4, &quot;details&quot;: {&quot;Output&quot;: &quot;Output labels: no, yes&quot;, &quot;Parameters&quot;: &quot;- content: Output labels: no, yes\\n- reference_id: label_space\\n- reference_classes: [\\n  0 : &#x27;preamble&#x27;\\n]&quot;}}}, {&quot;data&quot;: {&quot;id&quot;: 2294739656944, &quot;label&quot;: &quot;Template&quot;, &quot;priority&quot;: 5, &quot;details&quot;: {&quot;Output&quot;: &quot;Speaker 1: \\&quot;You do this often?\\&quot; Speaker 2: \\&quot;It&#x27;s my first time.\\&quot;&quot;, &quot;Parameters&quot;: &quot;- content: {{input}}\\n- reference_id: input\\n- reference_classes: None&quot;}}}, {&quot;data&quot;: {&quot;id&quot;: 2294739657136, &quot;label&quot;: &quot;VerbatimText&quot;, &quot;priority&quot;: 6, &quot;details&quot;: {&quot;Output&quot;: &quot;Output: &quot;, &quot;Parameters&quot;: &quot;- content: Output: \\n- reference_id: prefix\\n- reference_classes: None&quot;}}}], &quot;edges&quot;: [{&quot;data&quot;: {&quot;target&quot;: 2294739657232, &quot;source&quot;: 2294739695440}}, {&quot;data&quot;: {&quot;target&quot;: 2294739695440, &quot;source&quot;: 2294739657040}}, {&quot;data&quot;: {&quot;target&quot;: 2294739657040, &quot;source&quot;: 2294739657424}}, {&quot;data&quot;: {&quot;target&quot;: 2294739657040, &quot;source&quot;: 2294739658192}}, {&quot;data&quot;: {&quot;target&quot;: 2294739657040, &quot;source&quot;: 2294739656944}}, {&quot;data&quot;: {&quot;target&quot;: 2294739657040, &quot;source&quot;: 2294739657136}}]};\n",
       "\n",
       "  var cy = cytoscape({\n",
       "    container: document.getElementById(&#x27;graph&#x27;),\n",
       "    style: cytoscape.stylesheet().selector(&#x27;node&#x27;).style({\n",
       "      &#x27;content&#x27;: &#x27;data(label)&#x27;,\n",
       "\t  &#x27;background-color&#x27;: DATA[&#x27;node-color&#x27;] || &#x27;Teal&#x27;,\n",
       "\t  &#x27;border-width&#x27;: DATA[&#x27;node-border&#x27;] || 0,\n",
       "    }).selector(&#x27;:selected&#x27;).style({&#x27;background-color&#x27;: &#x27;Turquoise&#x27;}).selector(&#x27;edge&#x27;).style({\n",
       "      &#x27;curve-style&#x27;: &#x27;bezier&#x27;,\n",
       "      &#x27;target-arrow-shape&#x27;: &#x27;triangle&#x27;,\n",
       "      &#x27;width&#x27;: 1,\n",
       "      &#x27;line-color&#x27;: &#x27;black&#x27;,\n",
       "      &#x27;target-arrow-color&#x27;: &#x27;black&#x27;\n",
       "    }),\n",
       "    elements: DATA,\n",
       "    wheelSensitivity: 0.3,\n",
       "    layout: {\n",
       "      name: &#x27;breadthfirst&#x27;,\n",
       "      directed: true,\n",
       "      depthSort: function(a, b){ return a.data(&#x27;priority&#x27;) - b.data(&#x27;priority&#x27;) }\n",
       "    }\n",
       "  });\n",
       "\n",
       "  function resizeCyto() {\n",
       "    cy.resize();\n",
       "    cy.fit();\n",
       "  }\n",
       "\n",
       "  function escapeHTML(str){\n",
       "    return new Option(str).innerHTML;\n",
       "  }\n",
       "\n",
       "  window.addEventListener(&#x27;resize&#x27;, resizeCyto);\n",
       "  cy.on(&#x27;tap&#x27;, &#x27;node&#x27;, function(evt) {\n",
       "    const node = evt.target;\n",
       "    const details = node.data(&#x27;details&#x27;);\n",
       "    const info = document.getElementById(&#x27;info&#x27;);\n",
       "    info.innerHTML = &#x27;&#x27;;\n",
       "\n",
       "    if (!details) {\n",
       "        info.innerHTML = &quot;&lt;div&gt;Node has no metadata.&lt;/div&gt;&quot;;\n",
       "    } else if (typeof details === &#x27;object&#x27; &amp;&amp; !Array.isArray(details)) {\n",
       "        Object.entries(details).forEach(([key, value]) =&gt; {\n",
       "            info.innerHTML += `&lt;div&gt;${escapeHTML(key)}&lt;/div&gt;&lt;pre&gt;${escapeHTML(value)}&lt;/pre&gt;`;\n",
       "        });\n",
       "    } else {\n",
       "        info.innerHTML = `&lt;pre&gt;${escapeHTML(details)}&lt;/pre&gt;`;\n",
       "    }\n",
       "  });\n",
       "  &lt;/script&gt;\n",
       "&lt;/body&gt;\n",
       "\n",
       "&lt;/html&gt;\n",
       "\" width=\"100%\" height=\"300px\"'\n",
       "            \"allowfullscreen\" style=\"border:1px solid #e0e0e0; box-sizing: border-box;\">\n",
       "            </iframe>"
      ],
      "text/plain": [
       "<sammo.utils.HtmlRenderer at 0x21648eb2710>"
      ]
     },
     "execution_count": 5,
     "metadata": {},
     "output_type": "execute_result"
    }
   ],
   "source": [
    "spp_result.outputs[0].plot_call_trace()"
   ]
  },
  {
   "cell_type": "markdown",
   "metadata": {
    "editable": true,
    "slideshow": {
     "slide_type": ""
    },
    "tags": []
   },
   "source": [
    "In contrast to the program graph, each node is now **filled** with concrete values of the computation. By clicking on each node, we can see what output it produced and pass up to its parent."
   ]
  },
  {
   "cell_type": "markdown",
   "metadata": {
    "editable": true,
    "slideshow": {
     "slide_type": ""
    },
    "tags": []
   },
   "source": [
    "## The power of symbolic prompt programs"
   ]
  },
  {
   "cell_type": "markdown",
   "metadata": {
    "editable": true,
    "slideshow": {
     "slide_type": ""
    },
    "tags": []
   },
   "source": [
    "What have we gained from this? A lot of flexibility to explore and optimize our prompt! \n",
    "Under the hood, SAMMO uses pyGlove to *symbolize* each class so that we can make arbitrary changes (this is also beyond static DSPy programs). pyGlove turns Python classes into manipulable, symbolic objects whose properties remain fully editable after instantiation.\n",
    "\n",
    "We can now query and modify prompt programs via a whole host of specifiers, similar to working with a DOM tree. Let’s say we’d like to delete the instructions. To do this, we first find the node using `.find_first()` and then use the `.rebind()` function that pyGlove provides. You'll see how the node disappears."
   ]
  },
  {
   "cell_type": "code",
   "execution_count": 11,
   "metadata": {
    "editable": true,
    "slideshow": {
     "slide_type": ""
    },
    "tags": []
   },
   "outputs": [
    {
     "data": {
      "text/html": [
       "            <iframe srcdoc=\"\n",
       "&lt;!DOCTYPE html&gt;\n",
       "&lt;html lang=&quot;en&quot;&gt;\n",
       "\n",
       "&lt;head&gt;\n",
       "  &lt;style&gt;\n",
       "  body,\n",
       "  html {\n",
       "    margin: 0;\n",
       "    height: 100%;\n",
       "    width: 100%;\n",
       "  }\n",
       "\n",
       "  .split {\n",
       "    display: flex;\n",
       "    flex-direction: row;\n",
       "    height: 100%;\n",
       "    overflow: hidden;\n",
       "  }\n",
       "  .gutter {\n",
       "    background-color: #eee;\n",
       "    background-repeat: no-repeat;\n",
       "    background-position: 50%;\n",
       "  }\n",
       "\n",
       "  .gutter.gutter-horizontal {\n",
       "    background-image: url(&#x27;data:image/png;base64,iVBORw0KGgoAAAANSUhEUgAAAAUAAAAeCAYAAADkftS9AAAAIklEQVQoU2M4c+bMfxAGAgYYmwGrIIiDjrELjpo5aiZeMwF+yNnOs5KSvgAAAABJRU5ErkJggg==&#x27;);\n",
       "    cursor: col-resize;\n",
       "  }\n",
       "  #info {\n",
       "\toverflow-y: auto;\n",
       "  }\n",
       "  #info div {\n",
       "    font-family: Helvetica, sans-serif;\n",
       "    font-weight: 600;\n",
       "    text-transform: uppercase;\n",
       "    background-color: #d6d8d9;\n",
       "    color: #616161;\n",
       "    font-size: 11px;\n",
       "    padding: 6px;\n",
       "  }\n",
       "  pre {\n",
       "\twhite-space: pre-wrap;\n",
       "\tpadding: 6px;\n",
       "\tbackground-color: #f9f9f9;\n",
       "\tmargin: 0;\n",
       "\tfont-size: 12px;\n",
       "  }\n",
       "  &lt;/style&gt;\n",
       "  &lt;meta charset=&quot;utf-8&quot; /&gt;\n",
       "  &lt;title&gt;Callgraph&lt;/title&gt;\n",
       "  &lt;script src=&quot;https://cdnjs.cloudflare.com/ajax/libs/cytoscape/3.26.0/cytoscape.min.js&quot;&gt;&lt;/script&gt;\n",
       "  &lt;script src=&quot;https://cdnjs.cloudflare.com/ajax/libs/split.js/1.6.0/split.min.js&quot;&gt;&lt;/script&gt;\n",
       "&lt;/head&gt;\n",
       "\n",
       "&lt;body&gt;\n",
       "  &lt;div class=&quot;split&quot;&gt;\n",
       "    &lt;div id=&quot;info&quot;&gt;&lt;pre&gt;Click on node for details.&lt;/pre&gt;&lt;/div&gt;\n",
       "    &lt;div id=&quot;graph&quot;&gt;&lt;/div&gt;\n",
       "  &lt;/div&gt;\n",
       "  &lt;script&gt;\n",
       "  Split([&#x27;#info&#x27;, &#x27;#graph&#x27;], {\n",
       "    sizes: [20, 80],\n",
       "    minSize: [150, 0],\n",
       "    onDragEnd: resizeCyto\n",
       "  });\n",
       "  const DATA = {&quot;nodes&quot;: [{&quot;data&quot;: {&quot;id&quot;: 2294733984400, &quot;label&quot;: &quot;Output&quot;, &quot;priority&quot;: 0, &quot;details&quot;: {&quot;Parameters&quot;: &quot;- child: GenerateText\\n- minibatch_size: 1\\n- on_error: raise&quot;}}}, {&quot;data&quot;: {&quot;id&quot;: 2294739459920, &quot;label&quot;: &quot;GenerateText&quot;, &quot;priority&quot;: 1, &quot;details&quot;: {&quot;Parameters&quot;: &quot;- child: JoinStrings\\n- reference_id: None\\n- system_prompt: None\\n- history: None\\n- seed: 0\\n- randomness: 0\\n- max_tokens: None\\n- json_mode: False\\n- on_error: empty_result\\n- runner: None&quot;}}}, {&quot;data&quot;: {&quot;id&quot;: 2294734218256, &quot;label&quot;: &quot;JoinStrings&quot;, &quot;priority&quot;: 2, &quot;details&quot;: {&quot;Parameters&quot;: &quot;- children: [\\n  0 : VerbatimText(\\n    content = &#x27;Output labels: no, yes&#x27;,\\n    reference_id = &#x27;label_space&#x27;,\\n    reference_classes = [\\n      0 : &#x27;preamble&#x27;\\n    ]\\n  ),\\n  1 : Template(\\n    content = &#x27;{{input}}&#x27;,\\n    reference_id = &#x27;input&#x27;,\\n    reference_classes = None\\n  ),\\n  2 : VerbatimText(\\n    content = &#x27;Output: &#x27;,\\n    reference_id = &#x27;prefix&#x27;,\\n    reference_classes = None\\n  )\\n]\\n- separator: \\n\\n- reference_id: None&quot;}}}, {&quot;data&quot;: {&quot;id&quot;: 2294733854992, &quot;label&quot;: &quot;VerbatimText&quot;, &quot;priority&quot;: 3, &quot;details&quot;: {&quot;Parameters&quot;: &quot;- content: Output labels: no, yes\\n- reference_id: label_space\\n- reference_classes: [\\n  0 : &#x27;preamble&#x27;\\n]&quot;}}}, {&quot;data&quot;: {&quot;id&quot;: 2294733861520, &quot;label&quot;: &quot;Template&quot;, &quot;priority&quot;: 4, &quot;details&quot;: {&quot;Parameters&quot;: &quot;- content: {{input}}\\n- reference_id: input\\n- reference_classes: None&quot;}}}, {&quot;data&quot;: {&quot;id&quot;: 2294733988816, &quot;label&quot;: &quot;VerbatimText&quot;, &quot;priority&quot;: 5, &quot;details&quot;: {&quot;Parameters&quot;: &quot;- content: Output: \\n- reference_id: prefix\\n- reference_classes: None&quot;}}}], &quot;edges&quot;: [{&quot;data&quot;: {&quot;target&quot;: 2294733984400, &quot;source&quot;: 2294739459920}}, {&quot;data&quot;: {&quot;target&quot;: 2294739459920, &quot;source&quot;: 2294734218256}}, {&quot;data&quot;: {&quot;target&quot;: 2294734218256, &quot;source&quot;: 2294733854992}}, {&quot;data&quot;: {&quot;target&quot;: 2294734218256, &quot;source&quot;: 2294733861520}}, {&quot;data&quot;: {&quot;target&quot;: 2294734218256, &quot;source&quot;: 2294733988816}}], &quot;node-color&quot;: &quot;white&quot;, &quot;node-border&quot;: 1};\n",
       "\n",
       "  var cy = cytoscape({\n",
       "    container: document.getElementById(&#x27;graph&#x27;),\n",
       "    style: cytoscape.stylesheet().selector(&#x27;node&#x27;).style({\n",
       "      &#x27;content&#x27;: &#x27;data(label)&#x27;,\n",
       "\t  &#x27;background-color&#x27;: DATA[&#x27;node-color&#x27;] || &#x27;Teal&#x27;,\n",
       "\t  &#x27;border-width&#x27;: DATA[&#x27;node-border&#x27;] || 0,\n",
       "    }).selector(&#x27;:selected&#x27;).style({&#x27;background-color&#x27;: &#x27;Turquoise&#x27;}).selector(&#x27;edge&#x27;).style({\n",
       "      &#x27;curve-style&#x27;: &#x27;bezier&#x27;,\n",
       "      &#x27;target-arrow-shape&#x27;: &#x27;triangle&#x27;,\n",
       "      &#x27;width&#x27;: 1,\n",
       "      &#x27;line-color&#x27;: &#x27;black&#x27;,\n",
       "      &#x27;target-arrow-color&#x27;: &#x27;black&#x27;\n",
       "    }),\n",
       "    elements: DATA,\n",
       "    wheelSensitivity: 0.3,\n",
       "    layout: {\n",
       "      name: &#x27;breadthfirst&#x27;,\n",
       "      directed: true,\n",
       "      depthSort: function(a, b){ return a.data(&#x27;priority&#x27;) - b.data(&#x27;priority&#x27;) }\n",
       "    }\n",
       "  });\n",
       "\n",
       "  function resizeCyto() {\n",
       "    cy.resize();\n",
       "    cy.fit();\n",
       "  }\n",
       "\n",
       "  function escapeHTML(str){\n",
       "    return new Option(str).innerHTML;\n",
       "  }\n",
       "\n",
       "  window.addEventListener(&#x27;resize&#x27;, resizeCyto);\n",
       "  cy.on(&#x27;tap&#x27;, &#x27;node&#x27;, function(evt) {\n",
       "    const node = evt.target;\n",
       "    const details = node.data(&#x27;details&#x27;);\n",
       "    const info = document.getElementById(&#x27;info&#x27;);\n",
       "    info.innerHTML = &#x27;&#x27;;\n",
       "\n",
       "    if (!details) {\n",
       "        info.innerHTML = &quot;&lt;div&gt;Node has no metadata.&lt;/div&gt;&quot;;\n",
       "    } else if (typeof details === &#x27;object&#x27; &amp;&amp; !Array.isArray(details)) {\n",
       "        Object.entries(details).forEach(([key, value]) =&gt; {\n",
       "            info.innerHTML += `&lt;div&gt;${escapeHTML(key)}&lt;/div&gt;&lt;pre&gt;${escapeHTML(value)}&lt;/pre&gt;`;\n",
       "        });\n",
       "    } else {\n",
       "        info.innerHTML = `&lt;pre&gt;${escapeHTML(details)}&lt;/pre&gt;`;\n",
       "    }\n",
       "  });\n",
       "  &lt;/script&gt;\n",
       "&lt;/body&gt;\n",
       "\n",
       "&lt;/html&gt;\n",
       "\" width=\"100%\" height=\"300px\"'\n",
       "            \"allowfullscreen\" style=\"border:1px solid #e0e0e0; box-sizing: border-box;\">\n",
       "            </iframe>"
      ],
      "text/plain": [
       "<sammo.utils.HtmlRenderer at 0x21648cdc5d0>"
      ]
     },
     "execution_count": 11,
     "metadata": {},
     "output_type": "execute_result"
    }
   ],
   "source": [
    "import pyglove as pg\n",
    "target_node = spp.find_first(\"#instructions\")\n",
    "spp.clone().rebind({target_node.path: pg.MISSING_VALUE}).plot_program()"
   ]
  },
  {
   "cell_type": "markdown",
   "metadata": {
    "editable": true,
    "slideshow": {
     "slide_type": ""
    },
    "tags": []
   },
   "source": [
    "With this, you could automate a lot of the (semi)-manual tinkering you have to do during prompt prototyping. Making small edits such as paraphrasing would be just the start. Want to try out Chain-of-Thought reasoning? Add a paragraph that says “Let’s think step-by-step.” You can also explore\n",
    "\n",
    "* Going from single examples to batch annotation\n",
    "* Changing your retriever and ranking function in a RAG scenario\n",
    "* Re-ordering some of the paragraphs\n",
    "* Compressing certain parts of the instructions\n",
    "* Etc.\n",
    "\n",
    "### Querying & manipulating SPPs\n",
    "\n",
    "There are several ways to manipulate and query SPPs. SAMMO provides convinience functions `.find_first()` and `.find_all()` that allow you to query the symbolic program tree using a CSS syntax."
   ]
  },
  {
   "cell_type": "code",
   "execution_count": 7,
   "metadata": {},
   "outputs": [
    {
     "data": {
      "text/plain": [
       "PyGloveMatch(\n",
       "  node=VerbatimText(\n",
       "  content = \"Instructions: Does Spea..., \n",
       "  path=child.child.children[0]\n",
       ")"
      ]
     },
     "execution_count": 7,
     "metadata": {},
     "output_type": "execute_result"
    }
   ],
   "source": [
    "# Query by id\n",
    "spp.find_first(\"#instructions\")"
   ]
  },
  {
   "cell_type": "code",
   "execution_count": 8,
   "metadata": {},
   "outputs": [
    {
     "data": {
      "text/plain": [
       "PyGloveMatch(\n",
       "  node=Instructions: Does Speaker 2's answer mean yes or ..., \n",
       "  path=child.child.children[0].content\n",
       ")"
      ]
     },
     "execution_count": 8,
     "metadata": {},
     "output_type": "execute_result"
    }
   ],
   "source": [
    "# Query by id and attribute\n",
    "spp.find_first(\"#instructions content\")"
   ]
  },
  {
   "cell_type": "code",
   "execution_count": 10,
   "metadata": {},
   "outputs": [
    {
     "data": {
      "text/plain": [
       "[PyGloveMatch(\n",
       "   node=VerbatimText(\n",
       "   content = \"Instructions: Does Spea..., \n",
       "   path=child.child.children[0]\n",
       " ),\n",
       " PyGloveMatch(\n",
       "   node=VerbatimText(\n",
       "   content = 'Output labels: no, yes'..., \n",
       "   path=child.child.children[1]\n",
       " )]"
      ]
     },
     "execution_count": 10,
     "metadata": {},
     "output_type": "execute_result"
    }
   ],
   "source": [
    "# Query by class\n",
    "spp.find_all(\".preamble\")"
   ]
  }
 ],
 "metadata": {
  "kernelspec": {
   "display_name": "Python 3 (ipykernel)",
   "language": "python",
   "name": "python3"
  },
  "language_info": {
   "codemirror_mode": {
    "name": "ipython",
    "version": 3
   },
   "file_extension": ".py",
   "mimetype": "text/x-python",
   "name": "python",
   "nbconvert_exporter": "python",
   "pygments_lexer": "ipython3",
   "version": "3.11.9"
  },
  "widgets": {
   "application/vnd.jupyter.widget-state+json": {
    "state": {},
    "version_major": 2,
    "version_minor": 0
   }
  }
 },
 "nbformat": 4,
 "nbformat_minor": 4
}
