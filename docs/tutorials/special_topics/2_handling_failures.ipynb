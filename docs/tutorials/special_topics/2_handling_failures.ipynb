{
 "cells": [
  {
   "cell_type": "code",
   "execution_count": 1,
   "id": "61643fe1-aa70-4f99-a3c4-a4d0577b70f3",
   "metadata": {
    "editable": true,
    "slideshow": {
     "slide_type": ""
    },
    "tags": [
     "remove-cell"
    ]
   },
   "outputs": [],
   "source": [
    "## Load from parent directory if not installed\n",
    "import importlib\n",
    "\n",
    "if not importlib.util.find_spec(\"sammo\"):\n",
    "    import sys\n",
    "\n",
    "    sys.path.append(\"../../../\")\n",
    "\n",
    "CACHE_FILE = \"cache/special_topics.tsv\""
   ]
  },
  {
   "cell_type": "code",
   "execution_count": 2,
   "id": "65550492-591f-44f3-85a1-9bee6db2316e",
   "metadata": {
    "editable": true,
    "slideshow": {
     "slide_type": ""
    },
    "tags": [
     "hide-input"
    ]
   },
   "outputs": [],
   "source": [
    "# %load -r :19 ../_init.py\n",
    "import pathlib\n",
    "import sammo\n",
    "from sammo.runners import OpenAIChat\n",
    "from sammo.base import Template, EvaluationScore\n",
    "from sammo.components import Output, GenerateText, ForEach, Union\n",
    "from sammo.extractors import ExtractRegex\n",
    "from sammo.data import DataTable\n",
    "import json\n",
    "import requests\n",
    "\n",
    "API_CONFIG_FILE = pathlib.Path().cwd().parent.parent / \"config\" / \"personal.openai\"\n",
    "API_CONFIG = \"\"\n",
    "if API_CONFIG_FILE.exists():\n",
    "    API_CONFIG = API_CONFIG_FILE\n",
    "if not API_CONFIG:\n",
    "    raise ValueError('Please set API_CONFIG to {\"api_key\": \"YOUR_KEY\"}')\n",
    "\n",
    "_ = sammo.setup_logger(\"WARNING\")  # we're only interested in warnings for now"
   ]
  },
  {
   "cell_type": "markdown",
   "id": "b6833909-fd5c-4b2c-b1aa-601ebe1eeb18",
   "metadata": {
    "editable": true,
    "slideshow": {
     "slide_type": ""
    },
    "tags": []
   },
   "source": [
    "# Handling failures\n",
    "\n",
    "There are two main types of failures that can happen during the execution of a metaprompt -- network failures\n",
    "and processing failures.\n",
    "By default, `SAMMO` will retry the network request a few times before giving up. \n",
    "\n",
    "## Network request failures\n",
    "The two most common network request failures are timeouts and rejected requests (mostly due to rate limiting).\n",
    "\n",
    "### Timeout errors\n",
    "Let's simulate a timeout error."
   ]
  },
  {
   "cell_type": "code",
   "execution_count": 3,
   "id": "8752663a-a4c2-4321-8655-75353dfe72d4",
   "metadata": {
    "editable": true,
    "slideshow": {
     "slide_type": ""
    },
    "tags": []
   },
   "outputs": [
    {
     "name": "stderr",
     "output_type": "stream",
     "text": [
      "09:14:34,419: TimeoutError: {'messages': [{'role': 'user', 'content': 'Generate a 5000 word essay about horses.'}], 'max_tokens': None, 'temperature': 0}\n",
      "09:14:34,438: TimeoutError: {'messages': [{'role': 'user', 'content': 'Generate a 5000 word essay about horses.'}], 'max_tokens': None, 'temperature': 0}\n",
      "09:14:34,438: Failed to generate text: TimeoutError()\n"
     ]
    },
    {
     "data": {
      "text/plain": [
       "+---------+-------------------------------------------------------------+\n",
       "| input   | output                                                      |\n",
       "+=========+=============================================================+\n",
       "| None    | TimeoutResult(value='TimeoutError()'..., parent=TextResult) |\n",
       "+---------+-------------------------------------------------------------+\n",
       "Constants: None"
      ]
     },
     "execution_count": 3,
     "metadata": {},
     "output_type": "execute_result"
    }
   ],
   "source": [
    "runner = OpenAIChat(\n",
    "    model_id=\"gpt-3.5-turbo-16k\",\n",
    "    api_config=API_CONFIG,\n",
    "    cache=CACHE_FILE,\n",
    "    timeout=0.01,\n",
    ")\n",
    "Output(GenerateText(\"Generate a 5000 word essay about horses.\")).run(\n",
    "    runner, progress_callback=False\n",
    ")"
   ]
  },
  {
   "cell_type": "markdown",
   "id": "cd43b229-ba94-4b24-81df-66456f84f442",
   "metadata": {
    "editable": true,
    "slideshow": {
     "slide_type": ""
    },
    "tags": []
   },
   "source": [
    "Here, we can see that `SAMMO` re-tried it once and then returned a {class}`~sammo.base.TimeoutResult`.\n",
    "\n",
    "To customize how these are handled, you can specify the following parameters:\n",
    "\n",
    "* ``timeout``: The timeout for the network request. Defaults to 60 seconds.\n",
    "* ``max_timeout_retries``: The maximum number of times to retry a network request in case of a timeout. Defaults to 1.\n",
    "\n",
    "### Network Errors\n",
    "Let's see how `SAMMO` behaves under network errors."
   ]
  },
  {
   "cell_type": "code",
   "execution_count": 4,
   "id": "1d219b2f-0b98-46fb-8050-4c416ccf56bb",
   "metadata": {
    "editable": true,
    "slideshow": {
     "slide_type": ""
    },
    "tags": []
   },
   "outputs": [
    {
     "name": "stderr",
     "output_type": "stream",
     "text": [
      "09:14:34,615: Failed to generate text: InvalidRequestError(message='The model `gpt-1` does not exist', param=None, code='model_not_found', http_status=404, request_id=None)\n"
     ]
    },
    {
     "data": {
      "text/plain": [
       "+---------+-----------------------------------------------------------+\n",
       "| input   | output                                                    |\n",
       "+=========+===========================================================+\n",
       "| None    | EmptyResult(value=\"InvalidRequestError(message='The model |\n",
       "|         | `gpt-1` does not exist', param=None,                      |\n",
       "|         | code='model_not_found',..., parent=TextResult)            |\n",
       "+---------+-----------------------------------------------------------+\n",
       "Constants: None"
      ]
     },
     "execution_count": 4,
     "metadata": {},
     "output_type": "execute_result"
    }
   ],
   "source": [
    "import openai\n",
    "\n",
    "runner = OpenAIChat(\n",
    "    model_id=\"gpt-1\",\n",
    "    api_config=API_CONFIG,\n",
    "    cache=CACHE_FILE,\n",
    "    max_retries=1,\n",
    "    retry_on=(openai.error.InvalidRequestError,),\n",
    ")\n",
    "Output(\n",
    "    GenerateText(\"Generate a 5000 word essay about horses.\", on_error=\"empty_result\")\n",
    ").run(runner, progress_callback=False)"
   ]
  },
  {
   "cell_type": "markdown",
   "id": "6c3926cd-ec5b-4f67-8319-fcbc63e6cc66",
   "metadata": {
    "editable": true,
    "slideshow": {
     "slide_type": ""
    },
    "tags": []
   },
   "source": [
    "Here, `SAMMO` returns an empty result after retrying once. \n",
    "\n",
    "## Component failures\n",
    "Component failures typically are errors that occur when the code in a component cannot be run correctly. This often happens when the LLM output cannot be parsed correctly or contains the wrong number of rows\n",
    "for a minibatch. By default, these failures are raised in order to have the user make an explicit decision on how\n",
    "exceptions should handled, with the exception of {class}`~sammo.components.GenerateText` which returns an empty result since those failures are very common.\n",
    "\n",
    "```{note}\n",
    "A little different from typical Python, `SAMMO` encourages developers to not let errors bubble up but catch them where they happen. This makes it easier to locate errors in the pipeline.\n",
    "```\n",
    "\n",
    "To manage exceptions, you can specify the following parameter when creating certain {class}`~sammo.base.Component` instances:\n",
    "\n",
    "* ``on_error``: Choose between ``raise`` (default) or ``empty_result`` (other options might be available).\n",
    "  If ``empty_result`` is chosen, the component will return\n",
    "  an {class}`~sammo.base.EmptyResult` object instead of raising an exception.\n",
    "\n",
    "```{note}\n",
    "Components that are expected to always complete have no `on_error` option.\n",
    "```\n",
    "\n",
    "### Example: Parsing error"
   ]
  },
  {
   "cell_type": "markdown",
   "id": "35750ae9-c263-4b6d-86c8-b88b14037060",
   "metadata": {
    "editable": true,
    "slideshow": {
     "slide_type": ""
    },
    "tags": []
   },
   "source": [
    "The input string here is invalid JSON, so after a failed parse attempt, we will get a {class}`~sammo.base.EmptyResult`."
   ]
  },
  {
   "cell_type": "code",
   "execution_count": 5,
   "id": "74b9ae5f-1af9-481d-b625-cff79516d9e8",
   "metadata": {
    "editable": true,
    "slideshow": {
     "slide_type": ""
    },
    "tags": []
   },
   "outputs": [
    {
     "name": "stderr",
     "output_type": "stream",
     "text": [
      "09:14:34,649: Error extracting from [TextResult(value='{[}'..., parent=NoneType)]: Expecting property name enclosed in double quotes: line 1 column 2 (char 1)\n"
     ]
    },
    {
     "data": {
      "text/plain": [
       "+---------+-----------------------------------------+\n",
       "| input   | output                                  |\n",
       "+=========+=========================================+\n",
       "| None    | EmptyResult(value=None..., parent=list) |\n",
       "+---------+-----------------------------------------+\n",
       "Constants: None"
      ]
     },
     "execution_count": 5,
     "metadata": {},
     "output_type": "execute_result"
    }
   ],
   "source": [
    "from sammo.extractors import ParseJSON\n",
    "from sammo.base import VerbatimText\n",
    "\n",
    "parsed = Output(ParseJSON(\"{[}\", parse_fragments=\"whole\", on_error=\"empty_result\")).run(\n",
    "    runner, progress_callback=False\n",
    ")\n",
    "parsed"
   ]
  },
  {
   "cell_type": "markdown",
   "id": "a27dee4b-bdb0-4a22-a789-26569445e92f",
   "metadata": {
    "editable": true,
    "slideshow": {
     "slide_type": ""
    },
    "tags": []
   },
   "source": [
    "## What to do with an `EmptyResult`"
   ]
  },
  {
   "cell_type": "markdown",
   "id": "1b0d3495-4ce6-4784-88aa-0f719013b24f",
   "metadata": {
    "editable": true,
    "slideshow": {
     "slide_type": ""
    },
    "tags": []
   },
   "source": [
    "When we have empty results in the final output, it is up to the developer to decide how these cases should be handled.\n",
    "\n",
    "A common case is to replace all empty results with a sensible default value, e.g., 0 when numbers are required."
   ]
  },
  {
   "cell_type": "code",
   "execution_count": 6,
   "id": "9071943a-ca6d-4781-b57e-25aa15dc33c3",
   "metadata": {
    "editable": true,
    "slideshow": {
     "slide_type": ""
    },
    "tags": []
   },
   "outputs": [
    {
     "data": {
      "text/plain": [
       "[0]"
      ]
     },
     "execution_count": 6,
     "metadata": {},
     "output_type": "execute_result"
    }
   ],
   "source": [
    "parsed.outputs.normalized_values(on_empty=0)"
   ]
  },
  {
   "cell_type": "markdown",
   "id": "d1d2e54c-b5a2-4872-8897-3601d67779d7",
   "metadata": {
    "editable": true,
    "slideshow": {
     "slide_type": ""
    },
    "tags": []
   },
   "source": [
    "Alternatively, we can simply filter them out."
   ]
  },
  {
   "cell_type": "code",
   "execution_count": 8,
   "id": "d2583bda-2f83-4b53-9095-e09f3b0a9366",
   "metadata": {
    "editable": true,
    "slideshow": {
     "slide_type": ""
    },
    "tags": []
   },
   "outputs": [
    {
     "data": {
      "text/plain": [
       "[]"
      ]
     },
     "execution_count": 8,
     "metadata": {},
     "output_type": "execute_result"
    }
   ],
   "source": [
    "parsed.outputs.nonempty_values()"
   ]
  }
 ],
 "metadata": {
  "kernelspec": {
   "display_name": "Python 3 (ipykernel)",
   "language": "python",
   "name": "python3"
  },
  "language_info": {
   "codemirror_mode": {
    "name": "ipython",
    "version": 3
   },
   "file_extension": ".py",
   "mimetype": "text/x-python",
   "name": "python",
   "nbconvert_exporter": "python",
   "pygments_lexer": "ipython3",
   "version": "3.11.9"
  }
 },
 "nbformat": 4,
 "nbformat_minor": 5
}
