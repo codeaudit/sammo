{
 "cells": [
  {
   "cell_type": "code",
   "execution_count": 9,
   "id": "61643fe1-aa70-4f99-a3c4-a4d0577b70f3",
   "metadata": {
    "editable": true,
    "slideshow": {
     "slide_type": ""
    },
    "tags": [
     "remove-cell"
    ]
   },
   "outputs": [],
   "source": [
    "# Load from parent directory if not installed\n",
    "import importlib\n",
    "import os\n",
    "\n",
    "if not importlib.util.find_spec(\"sammo\"):\n",
    "    import sys\n",
    "    \n",
    "    sys.path.insert(0, \"../../../\")\n",
    "os.environ[\"CACHE_FILE\"] = \"cache/structured_outputs.tsv\""
   ]
  },
  {
   "cell_type": "code",
   "execution_count": 10,
   "id": "65550492-591f-44f3-85a1-9bee6db2316e",
   "metadata": {
    "editable": true,
    "slideshow": {
     "slide_type": ""
    },
    "tags": [
     "hide-input"
    ]
   },
   "outputs": [],
   "source": [
    "# %load -r 3:18 ../_init.py\n",
    "import pathlib\n",
    "import sammo\n",
    "from sammo.runners import OpenAIChat\n",
    "from sammo.base import Template, EvaluationScore\n",
    "from sammo.components import Output, GenerateText, ForEach, Union\n",
    "from sammo.extractors import ExtractRegex\n",
    "from sammo.data import DataTable\n",
    "import json\n",
    "import requests\n",
    "import os\n",
    "\n",
    "if not \"OPENAI_API_KEY\" in os.environ:\n",
    "    raise ValueError(\"Please set the environment variable 'OPENAI_API_KEY'.\")\n",
    "\n",
    "_ = sammo.setup_logger(\"WARNING\")  # we're only interested in warnings for now"
   ]
  },
  {
   "cell_type": "markdown",
   "id": "51dcda8e-55b7-4b73-a81a-90397af50b8b",
   "metadata": {},
   "source": [
    "# Structured Outputs\n",
    "\n",
    "There are two ways in which models offer parseable JSON objects:\n",
    "\n",
    "1. By setting a flag that ensures that the output is *some* JSON object\n",
    "2. By specifying the exact JSON schema that the output needs to adhere to\n",
    "\n",
    "Option 2 is preferrable in general, the first option will likely disappear in future API versions.\n",
    "\n",
    "## Setting a flag\n",
    "\n",
    "For this, simply pass `json_mode = True` to {class}`~sammo.components.GenerateText`."
   ]
  },
  {
   "cell_type": "code",
   "execution_count": 8,
   "id": "8752663a-a4c2-4321-8655-75353dfe72d4",
   "metadata": {
    "editable": true,
    "slideshow": {
     "slide_type": ""
    },
    "tags": []
   },
   "outputs": [
    {
     "data": {
      "text/plain": [
       "+---------+---------------------------------------------------------+\n",
       "| input   | output                                                  |\n",
       "+=========+=========================================================+\n",
       "| None    | {   \"names\": [     \"Emma Johnson\",     \"Liam Smith\",    |\n",
       "|         | \"Olivia Brown\",     \"Noah Davis\",     \"Ava Wilson\",     |\n",
       "|         | \"Elijah Martinez\",     \"Sophia Anderson\",     \"Lucas    |\n",
       "|         | Taylor\",     \"Isabella Thomas\",     \"Mason Moore\"   ] } |\n",
       "+---------+---------------------------------------------------------+\n",
       "Constants: None"
      ]
     },
     "execution_count": 8,
     "metadata": {},
     "output_type": "execute_result"
    }
   ],
   "source": [
    "runner = OpenAIChat(\n",
    "    model_id=\"gpt-4o\",\n",
    "    api_config={\"api_key\": os.environ[\"OPENAI_API_KEY\"]},\n",
    "    cache=os.getenv(\"CACHE_FILE\", \"cache.tsv\"),\n",
    "    timeout=30,\n",
    ")\n",
    "Output(GenerateText(\"Generate a list of 10 full names in JSON format.\", json_mode=True)).run(runner)"
   ]
  },
  {
   "cell_type": "markdown",
   "id": "a64614da-c49e-44ae-84a2-5b824957fe13",
   "metadata": {},
   "source": [
    "What if we actually wanted first and last names as separate fields? We could provide the model with an example output, or:\n",
    "\n",
    "## Specifying a JSON schema\n",
    "\n",
    "Say we want something like "
   ]
  },
  {
   "cell_type": "code",
   "execution_count": 4,
   "id": "16613f90-ce2b-4545-975d-6ac7133facae",
   "metadata": {
    "editable": true,
    "slideshow": {
     "slide_type": ""
    },
    "tags": []
   },
   "outputs": [],
   "source": [
    "example = {\"names\": [{\"first\": \"John\", \"last\": \"Smith\"}]}"
   ]
  },
  {
   "cell_type": "markdown",
   "id": "f20316f8-8588-4c9b-aace-b063bf6fcd1f",
   "metadata": {
    "editable": true,
    "slideshow": {
     "slide_type": ""
    },
    "tags": []
   },
   "source": [
    "While you can manually write a schema, `SAMMO` provides you with a convenience function that works in many cases."
   ]
  },
  {
   "cell_type": "code",
   "execution_count": 6,
   "id": "1f7d7dc3-cb56-4a61-8e18-4c129f2d46fb",
   "metadata": {
    "editable": true,
    "slideshow": {
     "slide_type": ""
    },
    "tags": []
   },
   "outputs": [
    {
     "name": "stdout",
     "output_type": "stream",
     "text": [
      "{\n",
      "  \"type\": \"object\",\n",
      "  \"properties\": {\n",
      "    \"names\": {\n",
      "      \"type\": \"array\",\n",
      "      \"items\": {\n",
      "        \"type\": \"object\",\n",
      "        \"properties\": {\n",
      "          \"first\": {\n",
      "            \"type\": \"string\"\n",
      "          },\n",
      "          \"last\": {\n",
      "            \"type\": \"string\"\n",
      "          }\n",
      "        },\n",
      "        \"required\": [\n",
      "          \"first\",\n",
      "          \"last\"\n",
      "        ],\n",
      "        \"additionalProperties\": false\n",
      "      }\n",
      "    }\n",
      "  },\n",
      "  \"required\": [\n",
      "    \"names\"\n",
      "  ],\n",
      "  \"additionalProperties\": false\n",
      "}\n"
     ]
    }
   ],
   "source": [
    "schema = runner.guess_json_schema(example)\n",
    "print(schema)"
   ]
  },
  {
   "cell_type": "markdown",
   "id": "599f916e-cf1b-4edb-ba01-63c14c28a935",
   "metadata": {},
   "source": [
    "That would have been quite some work! Let's pass this to {class}`~sammo.components.GenerateText`."
   ]
  },
  {
   "cell_type": "code",
   "execution_count": 7,
   "id": "03e559e4-f8c5-48c0-9b18-087c720ddf6b",
   "metadata": {},
   "outputs": [
    {
     "data": {
      "text/plain": [
       "+---------+--------------------------------------------------------------+\n",
       "| input   | output                                                       |\n",
       "+=========+==============================================================+\n",
       "| None    | {\"names\":[{\"first\":\"Liam\",\"last\":\"Johnson\"},{\"first\":\"Emma\", |\n",
       "|         | \"last\":\"Williams\"},{\"first\":\"Noah\",\"last\":\"Brown\"},{\"first\": |\n",
       "|         | \"Olivia\",\"last\":\"Jones\"},{\"first\":\"Ava\",\"last\":\"Garcia\"},{\"f |\n",
       "|         | irst\":\"Sophia\",\"last\":\"Martinez\"},{\"first\":\"Isabella\",\"last\" |\n",
       "|         | :\"Davis\"},{\"first\":\"Mia\",\"last\":\"Rodriguez\"},{\"first\":\"Charl |\n",
       "|         | otte\",\"last\":\"Hernandez\"},{\"first\":\"Amelia\",\"last\":\"Lopez\"}] |\n",
       "|         | }                                                            |\n",
       "+---------+--------------------------------------------------------------+\n",
       "Constants: None"
      ]
     },
     "execution_count": 7,
     "metadata": {},
     "output_type": "execute_result"
    }
   ],
   "source": [
    "Output(GenerateText(\"Generate a list of 10 full names in JSON format.\", json_mode=schema)).run(runner)"
   ]
  }
 ],
 "metadata": {
  "kernelspec": {
   "display_name": "Python 3 (ipykernel)",
   "language": "python",
   "name": "python3"
  },
  "language_info": {
   "codemirror_mode": {
    "name": "ipython",
    "version": 3
   },
   "file_extension": ".py",
   "mimetype": "text/x-python",
   "name": "python",
   "nbconvert_exporter": "python",
   "pygments_lexer": "ipython3",
   "version": "3.11.9"
  }
 },
 "nbformat": 4,
 "nbformat_minor": 5
}
