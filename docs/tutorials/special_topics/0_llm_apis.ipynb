{
 "cells": [
  {
   "cell_type": "code",
   "execution_count": 1,
   "id": "61643fe1-aa70-4f99-a3c4-a4d0577b70f3",
   "metadata": {
    "editable": true,
    "slideshow": {
     "slide_type": ""
    },
    "tags": [
     "remove-cell"
    ]
   },
   "outputs": [],
   "source": [
    "## Load from parent directory if not installed\n",
    "import importlib\n",
    "\n",
    "if not importlib.util.find_spec(\"sammo\"):\n",
    "    import sys\n",
    "\n",
    "    sys.path.append(\"../../../\")\n",
    "\n",
    "CACHE_FILE = \"cache/custom_runners.tsv\""
   ]
  },
  {
   "cell_type": "code",
   "execution_count": 9,
   "id": "65550492-591f-44f3-85a1-9bee6db2316e",
   "metadata": {
    "editable": true,
    "slideshow": {
     "slide_type": ""
    },
    "tags": [
     "hide-input"
    ]
   },
   "outputs": [],
   "source": [
    "import sammo\n",
    "import getpass\n",
    "\n",
    "from sammo.components import GenerateText, Output\n",
    "from sammo.utils import serialize_json\n",
    "\n",
    "from sammo.base import LLMResult, Costs\n",
    "\n",
    "_ = sammo.setup_logger(\"WARNING\")  # we're only interested in warnings for now"
   ]
  },
  {
   "cell_type": "markdown",
   "id": "b6833909-fd5c-4b2c-b1aa-601ebe1eeb18",
   "metadata": {
    "editable": true,
    "slideshow": {
     "slide_type": ""
    },
    "tags": []
   },
   "source": [
    "# Supported LLM APIs\n",
    "\n",
    "`SAMMO` has ready-built runners for all OpenAI-compatible APIs as well as Google's Gemini as well as Anthropic's Claude.\n",
    "\n",
    "## Azure OpenAI"
   ]
  },
  {
   "cell_type": "code",
   "execution_count": 11,
   "id": "439cdd70-eea6-4d63-8344-09c10fde4081",
   "metadata": {},
   "outputs": [
    {
     "name": "stdin",
     "output_type": "stream",
     "text": [
      "Your API key: ········\n"
     ]
    },
    {
     "data": {
      "text/plain": [
       "+---------+-----------------------------------+\n",
       "| input   | output                            |\n",
       "+=========+===================================+\n",
       "| None    | {   \"words\": [\"Hello\", \"World\"] } |\n",
       "+---------+-----------------------------------+\n",
       "Constants: None"
      ]
     },
     "execution_count": 11,
     "metadata": {},
     "output_type": "execute_result"
    }
   ],
   "source": [
    "from sammo.runners import AzureChat\n",
    "\n",
    "api_config = {\n",
    "    \"api_key\": getpass.getpass(\"Your API key:\"),\n",
    "    \"endpoint\": \"https://YOUR_RESOURCE_NAME.openai.azure.com/\",\n",
    "    \"api_version\": \"2024-02-01\",  # set to whatever version needed\n",
    "    \"deployment_id\": \"gpt-4-turbo\",\n",
    "}\n",
    "azure = AzureChat(model_id=api_config[\"deployment_id\"], api_config=api_config)\n",
    "Output(\n",
    "    GenerateText(\"Hello World!\", system_prompt=\"Return a json array of words.\", json_mode=True)\n",
    ").run(azure)"
   ]
  },
  {
   "cell_type": "markdown",
   "id": "bb53ff91-3636-4bbc-b213-1a518a40a4e0",
   "metadata": {},
   "source": [
    "## Gemini"
   ]
  },
  {
   "cell_type": "code",
   "execution_count": 7,
   "id": "8752663a-a4c2-4321-8655-75353dfe72d4",
   "metadata": {
    "editable": true,
    "mystnb": {
     "number_source_lines": true
    },
    "slideshow": {
     "slide_type": ""
    },
    "tags": []
   },
   "outputs": [
    {
     "name": "stdin",
     "output_type": "stream",
     "text": [
      "Your API key: ········\n"
     ]
    },
    {
     "data": {
      "text/plain": [
       "+---------+---------------------+\n",
       "| input   | output              |\n",
       "+=========+=====================+\n",
       "| None    | [\"Hello\", \"World!\"] |\n",
       "+---------+---------------------+\n",
       "Constants: None"
      ]
     },
     "execution_count": 7,
     "metadata": {},
     "output_type": "execute_result"
    }
   ],
   "source": [
    "from sammo.runners import GeminiChat\n",
    "\n",
    "gemini = GeminiChat(\n",
    "    model_id=\"gemini-1.5-pro-latest\", api_config={\"api_key\": getpass.getpass(\"Your API key:\")}\n",
    ")\n",
    "Output(GenerateText(\"Hello World!\", system_prompt=\"Return an array of words.\", json_mode=True)).run(\n",
    "    gemini\n",
    ")"
   ]
  },
  {
   "cell_type": "markdown",
   "id": "0b005448-2d6f-4b7f-8a55-3b19d46db793",
   "metadata": {},
   "source": [
    "## Claude"
   ]
  },
  {
   "cell_type": "code",
   "execution_count": 6,
   "id": "ebd9dc58-50de-4b30-b60c-0454f2bccd97",
   "metadata": {
    "editable": true,
    "slideshow": {
     "slide_type": ""
    },
    "tags": []
   },
   "outputs": [
    {
     "name": "stdin",
     "output_type": "stream",
     "text": [
      "Your API key: ········\n"
     ]
    },
    {
     "data": {
      "text/plain": [
       "+---------+---------------------------------------------------------+\n",
       "| input   | output                                                  |\n",
       "+=========+=========================================================+\n",
       "| None    | Here's an array of words from your greeting:  [\"Hello\", |\n",
       "|         | \"World!\"]                                               |\n",
       "+---------+---------------------------------------------------------+\n",
       "Constants: None"
      ]
     },
     "execution_count": 6,
     "metadata": {},
     "output_type": "execute_result"
    }
   ],
   "source": [
    "from sammo.runners import AnthropicChat\n",
    "\n",
    "claude = AnthropicChat(\n",
    "    model_id=\"claude-3-5-sonnet-20240620\",\n",
    "    api_config={\"api_key\": getpass.getpass(\"Your API key:\"), \"anthropic-version\": \"2023-06-01\"},\n",
    "    max_context_window=4096,\n",
    ")\n",
    "Output(GenerateText(\"Hello World!\", system_prompt=\"Output an array of words.\")).run(claude)"
   ]
  }
 ],
 "metadata": {
  "kernelspec": {
   "display_name": "Python 3 (ipykernel)",
   "language": "python",
   "name": "python3"
  },
  "language_info": {
   "codemirror_mode": {
    "name": "ipython",
    "version": 3
   },
   "file_extension": ".py",
   "mimetype": "text/x-python",
   "name": "python",
   "nbconvert_exporter": "python",
   "pygments_lexer": "ipython3",
   "version": "3.11.9"
  }
 },
 "nbformat": 4,
 "nbformat_minor": 5
}
